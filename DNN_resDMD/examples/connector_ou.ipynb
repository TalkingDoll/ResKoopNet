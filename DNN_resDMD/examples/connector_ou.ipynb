{
 "cells": [
  {
   "cell_type": "code",
   "execution_count": null,
   "metadata": {},
   "outputs": [],
   "source": [
    "import numpy as np\n",
    "\n",
    "import sys\n",
    "sys.path.append(\"../\")\n",
    "from koopmanlib.dictionary import PsiNN"
   ]
  },
  {
   "cell_type": "code",
   "execution_count": null,
   "metadata": {},
   "outputs": [],
   "source": [
    "basis_function = PsiNN(layer_sizes=[100,100,100], n_psi_train=100)"
   ]
  },
  {
   "cell_type": "code",
   "execution_count": null,
   "metadata": {},
   "outputs": [],
   "source": [
    "from ou_process import ou_process_1d\n",
    "\n",
    "theta = 1\n",
    "mu = 0\n",
    "sigma = 1\n",
    "X0 = np.random.uniform(-2, 2) # initial point\n",
    "step_num = 10000\n",
    "h = 1e-5\n",
    "\n",
    "# Parallel computation\n",
    "N = 10000  # Number of the initial points\n",
    "state = np.random.RandomState()\n",
    "initial_conditions = state.uniform(-2, 2, size=N)\n",
    "data = initial_conditions\n",
    "\n",
    "### Here we use 8 cores to speed up the computation ###\n",
    "from joblib import Parallel, delayed\n",
    "\n",
    "def compute_trajectory_1d(initial_conditions):\n",
    "    X0 = initial_conditions\n",
    "    X_traj = ou_process_1d(theta, mu, sigma, X0, step_num, h)\n",
    "    return X_traj[-1]  # Return both initial and final states\n",
    "\n",
    "# Use 8 cores\n",
    "n_jobs = 8\n",
    "results = Parallel(n_jobs=n_jobs)(delayed(compute_trajectory_1d)(ic) for ic in initial_conditions)\n",
    "\n",
    "# Convert results (which is a list of tuples) into desired format\n",
    "data_final = np.array(results)  # Shape: (N, 1)\n",
    "\n",
    "data = data.reshape(N,1)\n",
    "data_final = data_final.reshape(N,1)\n",
    "\n",
    "# Pairwise shifted data X and Y\n",
    "X = data # shape: (10000, 1)\n",
    "Y = data_final \n",
    "\n",
    "print(X.shape, type(X))\n",
    "print(Y.shape, type(Y))"
   ]
  },
  {
   "cell_type": "code",
   "execution_count": null,
   "metadata": {},
   "outputs": [],
   "source": [
    "len_all = X.shape[0]\n",
    "data_x_train = X[:int(0.7*len_all),:]\n",
    "data_x_valid = X[int(0.7*len_all)+1:,:]\n",
    "\n",
    "data_y_train = Y[:int(0.7*len_all),:]\n",
    "data_y_valid = Y[int(0.7*len_all)+1:,:]"
   ]
  },
  {
   "cell_type": "code",
   "execution_count": null,
   "metadata": {},
   "outputs": [],
   "source": [
    "data_train = [data_x_train, data_y_train]\n",
    "data_valid = [data_x_valid, data_y_valid]"
   ]
  },
  {
   "cell_type": "code",
   "execution_count": null,
   "metadata": {},
   "outputs": [],
   "source": [
    "from koopmanlib.solver_0 import KoopmanDLSolver # resDMD solver using regression\n",
    "solver = KoopmanDLSolver(dic=basis_function,\n",
    "                         target_dim=np.shape(data_train)[-1],\n",
    "                         reg=0.1)\n",
    "\n",
    "solver.build(data_train=data_train,\n",
    "             data_valid=data_valid,\n",
    "             epochs=1000,\n",
    "             batch_size=5000,\n",
    "             lr=1e-4,\n",
    "             log_interval=10,\n",
    "             lr_decay_factor=.8)"
   ]
  },
  {
   "cell_type": "code",
   "execution_count": null,
   "metadata": {},
   "outputs": [],
   "source": [
    "evalues = solver.eigenvalues.T\n",
    "efuns = solver.eigenfunctions(X)\n",
    "kpm_modes = solver.compute_mode().T\n",
    "N_dict = np.shape(evalues)[0]\n",
    "\n",
    "resDMD_DL_outputs0 = {\n",
    "    'resDMD_DL_outputs':{\n",
    "    'efuns': efuns,\n",
    "    'evalues': evalues,\n",
    "    'kpm_modes': kpm_modes,\n",
    "    'N_dict':N_dict\n",
    "    }\n",
    "}\n",
    "\n",
    "print(resDMD_DL_outputs0['resDMD_DL_outputs']['evalues'])\n",
    "print(resDMD_DL_outputs0['resDMD_DL_outputs']['efuns'].shape)"
   ]
  },
  {
   "cell_type": "code",
   "execution_count": null,
   "metadata": {},
   "outputs": [],
   "source": [
    "from koopmanlib.solver_1 import KoopmanDLSolver # resDMD solver using regression\n",
    "solver = KoopmanDLSolver(dic=basis_function,\n",
    "                         target_dim=np.shape(data_train)[-1],\n",
    "                         reg=0.1)\n",
    "\n",
    "solver.build(data_train=data_train,\n",
    "             data_valid=data_valid,\n",
    "             epochs=1000,\n",
    "             batch_size=5000,\n",
    "             lr=1e-4,\n",
    "             log_interval=10,\n",
    "             lr_decay_factor=.8)"
   ]
  },
  {
   "cell_type": "code",
   "execution_count": null,
   "metadata": {},
   "outputs": [],
   "source": [
    "evalues = solver.eigenvalues.T\n",
    "efuns = solver.eigenfunctions(X)\n",
    "kpm_modes = solver.compute_mode().T\n",
    "N_dict = np.shape(evalues)[0]\n",
    "\n",
    "resDMD_DL_outputs1 = {\n",
    "    'resDMD_DL_outputs':{\n",
    "    'efuns': efuns,\n",
    "    'evalues': evalues,\n",
    "    'kpm_modes': kpm_modes,\n",
    "    'N_dict':N_dict\n",
    "    }\n",
    "}\n",
    "\n",
    "print(resDMD_DL_outputs1['resDMD_DL_outputs']['evalues'])\n",
    "print(resDMD_DL_outputs1['resDMD_DL_outputs']['efuns'].shape)"
   ]
  },
  {
   "cell_type": "code",
   "execution_count": null,
   "metadata": {},
   "outputs": [],
   "source": [
    "from koopmanlib.solver_2 import KoopmanDLSolver # resDMD solver using regression\n",
    "solver = KoopmanDLSolver(dic=basis_function,\n",
    "                         target_dim=np.shape(data_train)[-1],\n",
    "                         reg=0.1)\n",
    "\n",
    "solver.build(data_train=data_train,\n",
    "             data_valid=data_valid,\n",
    "             epochs=1000,\n",
    "             batch_size=5000,\n",
    "             lr=1e-4,\n",
    "             log_interval=10,\n",
    "             lr_decay_factor=.8)"
   ]
  },
  {
   "cell_type": "code",
   "execution_count": null,
   "metadata": {},
   "outputs": [],
   "source": [
    "evalues = solver.eigenvalues.T\n",
    "efuns = solver.eigenfunctions(X)\n",
    "kpm_modes = solver.compute_mode().T\n",
    "N_dict = np.shape(evalues)[0]\n",
    "\n",
    "resDMD_DL_outputs2 = {\n",
    "    'resDMD_DL_outputs':{\n",
    "    'efuns': efuns,\n",
    "    'evalues': evalues,\n",
    "    'kpm_modes': kpm_modes,\n",
    "    'N_dict':N_dict\n",
    "    }\n",
    "}\n",
    "\n",
    "print(resDMD_DL_outputs2['resDMD_DL_outputs']['evalues'])\n",
    "print(resDMD_DL_outputs2['resDMD_DL_outputs']['efuns'].shape)"
   ]
  },
  {
   "cell_type": "code",
   "execution_count": null,
   "metadata": {},
   "outputs": [],
   "source": [
    "from koopmanlib.solver_3 import KoopmanDLSolver # resDMD solver using regression\n",
    "solver = KoopmanDLSolver(dic=basis_function,\n",
    "                         target_dim=np.shape(data_train)[-1],\n",
    "                         reg=0.1)\n",
    "\n",
    "solver.build(data_train=data_train,\n",
    "             data_valid=data_valid,\n",
    "             epochs=1000,\n",
    "             batch_size=5000,\n",
    "             lr=1e-4,\n",
    "             log_interval=10,\n",
    "             lr_decay_factor=.8)"
   ]
  },
  {
   "cell_type": "code",
   "execution_count": null,
   "metadata": {},
   "outputs": [],
   "source": [
    "evalues = solver.eigenvalues.T\n",
    "efuns = solver.eigenfunctions(X)\n",
    "kpm_modes = solver.compute_mode().T\n",
    "N_dict = np.shape(evalues)[0]\n",
    "\n",
    "resDMD_DL_outputs3 = {\n",
    "    'resDMD_DL_outputs':{\n",
    "    'efuns': efuns,\n",
    "    'evalues': evalues,\n",
    "    'kpm_modes': kpm_modes,\n",
    "    'N_dict':N_dict\n",
    "    }\n",
    "}\n",
    "\n",
    "print(resDMD_DL_outputs3['resDMD_DL_outputs']['evalues'])\n",
    "print(resDMD_DL_outputs3['resDMD_DL_outputs']['efuns'].shape)"
   ]
  }
 ],
 "metadata": {
  "kernelspec": {
   "display_name": "Python 3",
   "language": "python",
   "name": "python3"
  },
  "language_info": {
   "codemirror_mode": {
    "name": "ipython",
    "version": 3
   },
   "file_extension": ".py",
   "mimetype": "text/x-python",
   "name": "python",
   "nbconvert_exporter": "python",
   "pygments_lexer": "ipython3",
   "version": "3.8.18"
  }
 },
 "nbformat": 4,
 "nbformat_minor": 2
}
