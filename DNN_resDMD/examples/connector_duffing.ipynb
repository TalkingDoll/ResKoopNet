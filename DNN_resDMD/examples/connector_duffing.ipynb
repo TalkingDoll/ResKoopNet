{
 "cells": [
  {
   "cell_type": "code",
   "execution_count": 1,
   "metadata": {},
   "outputs": [],
   "source": [
    "import numpy as np\n",
    "\n",
    "import sys\n",
    "sys.path.append(\"../\")\n",
    "from koopmanlib.dictionary import PsiNN"
   ]
  },
  {
   "cell_type": "code",
   "execution_count": 2,
   "metadata": {},
   "outputs": [],
   "source": [
    "basis_function = PsiNN(layer_sizes=[100,100,100], n_psi_train=100)"
   ]
  },
  {
   "cell_type": "code",
   "execution_count": 3,
   "metadata": {},
   "outputs": [
    {
     "name": "stdout",
     "output_type": "stream",
     "text": [
      "(1000, 2, 10) <class 'numpy.ndarray'>\n",
      "(1000, 2, 10) <class 'numpy.ndarray'>\n",
      "(10000, 2) <class 'numpy.ndarray'>\n",
      "(10000, 2) <class 'numpy.ndarray'>\n"
     ]
    }
   ],
   "source": [
    "from duffing_oscillator import duffing_oscillator\n",
    "from scipy.integrate import solve_ivp\n",
    "\n",
    "# Parameters\n",
    "delta = 0.5\n",
    "alpha = -1\n",
    "beta = 1\n",
    "\n",
    "# Sample N=1000 initial points, with uniform distribution [-2, 2].\n",
    "N = 1000\n",
    "np.random.seed(39)\n",
    "sample_data_x0 = (np.random.rand(N, 2) * 4) - 2\n",
    "\n",
    "tspan = [0, 2.5]\n",
    "nstep = 11\n",
    "data = np.zeros((N, 2, nstep))\n",
    "\n",
    "t_eval = np.linspace(tspan[0], tspan[1], nstep)\n",
    "\n",
    "for idx, x0 in enumerate(sample_data_x0):\n",
    "    sol = solve_ivp(duffing_oscillator, tspan, x0, t_eval=t_eval, args=(delta, alpha, beta))\n",
    "    data[idx, 0, :] = sol.y[0]\n",
    "    data[idx, 1, :] = sol.y[1]\n",
    "\n",
    "# Pairwise shifted data X and Y\n",
    "X = data[:, :, :-1] # shape: (1000, 2, 10)\n",
    "Y = data[:, :, 1:]\n",
    "print(X.shape, type(X))\n",
    "print(Y.shape, type(Y))\n",
    "\n",
    "# Transpose and reshape the data.\n",
    "X = np.transpose(X, (0, 2, 1)).reshape(N * (nstep-1), 2) # shape: (10000, 2)\n",
    "Y = np.transpose(Y, (0, 2, 1)).reshape(N * (nstep-1), 2)\n",
    "print(X.shape, type(X))\n",
    "print(Y.shape, type(Y))"
   ]
  },
  {
   "cell_type": "code",
   "execution_count": 4,
   "metadata": {},
   "outputs": [],
   "source": [
    "len_all = X.shape[0]\n",
    "data_x_train = X[:int(0.7*len_all),:]\n",
    "data_x_valid = X[int(0.7*len_all)+1:,:]\n",
    "\n",
    "data_y_train = Y[:int(0.7*len_all),:]\n",
    "data_y_valid = Y[int(0.7*len_all)+1:,:]"
   ]
  },
  {
   "cell_type": "code",
   "execution_count": 5,
   "metadata": {},
   "outputs": [],
   "source": [
    "data_train = [data_x_train, data_y_train]\n",
    "data_valid = [data_x_valid, data_y_valid]"
   ]
  },
  {
   "cell_type": "code",
   "execution_count": 6,
   "metadata": {},
   "outputs": [
    {
     "name": "stdout",
     "output_type": "stream",
     "text": [
      "Epoch 1/2\n"
     ]
    },
    {
     "ename": "InvalidArgumentError",
     "evalue": "Graph execution error:\n\nDetected at node 'model/concatenate_2/concat' defined at (most recent call last):\n    File \"c:\\Users\\Jason\\miniconda3\\envs\\koopman\\lib\\runpy.py\", line 194, in _run_module_as_main\n      return _run_code(code, main_globals, None,\n    File \"c:\\Users\\Jason\\miniconda3\\envs\\koopman\\lib\\runpy.py\", line 87, in _run_code\n      exec(code, run_globals)\n    File \"c:\\Users\\Jason\\miniconda3\\envs\\koopman\\lib\\site-packages\\ipykernel_launcher.py\", line 17, in <module>\n      app.launch_new_instance()\n    File \"c:\\Users\\Jason\\miniconda3\\envs\\koopman\\lib\\site-packages\\traitlets\\config\\application.py\", line 976, in launch_instance\n      app.start()\n    File \"c:\\Users\\Jason\\miniconda3\\envs\\koopman\\lib\\site-packages\\ipykernel\\kernelapp.py\", line 712, in start\n      self.io_loop.start()\n    File \"c:\\Users\\Jason\\miniconda3\\envs\\koopman\\lib\\site-packages\\tornado\\platform\\asyncio.py\", line 195, in start\n      self.asyncio_loop.run_forever()\n    File \"c:\\Users\\Jason\\miniconda3\\envs\\koopman\\lib\\asyncio\\base_events.py\", line 570, in run_forever\n      self._run_once()\n    File \"c:\\Users\\Jason\\miniconda3\\envs\\koopman\\lib\\asyncio\\base_events.py\", line 1859, in _run_once\n      handle._run()\n    File \"c:\\Users\\Jason\\miniconda3\\envs\\koopman\\lib\\asyncio\\events.py\", line 81, in _run\n      self._context.run(self._callback, *self._args)\n    File \"c:\\Users\\Jason\\miniconda3\\envs\\koopman\\lib\\site-packages\\ipykernel\\kernelbase.py\", line 510, in dispatch_queue\n      await self.process_one()\n    File \"c:\\Users\\Jason\\miniconda3\\envs\\koopman\\lib\\site-packages\\ipykernel\\kernelbase.py\", line 499, in process_one\n      await dispatch(*args)\n    File \"c:\\Users\\Jason\\miniconda3\\envs\\koopman\\lib\\site-packages\\ipykernel\\kernelbase.py\", line 406, in dispatch_shell\n      await result\n    File \"c:\\Users\\Jason\\miniconda3\\envs\\koopman\\lib\\site-packages\\ipykernel\\kernelbase.py\", line 730, in execute_request\n      reply_content = await reply_content\n    File \"c:\\Users\\Jason\\miniconda3\\envs\\koopman\\lib\\site-packages\\ipykernel\\ipkernel.py\", line 383, in do_execute\n      res = shell.run_cell(\n    File \"c:\\Users\\Jason\\miniconda3\\envs\\koopman\\lib\\site-packages\\ipykernel\\zmqshell.py\", line 528, in run_cell\n      return super().run_cell(*args, **kwargs)\n    File \"c:\\Users\\Jason\\miniconda3\\envs\\koopman\\lib\\site-packages\\IPython\\core\\interactiveshell.py\", line 2881, in run_cell\n      result = self._run_cell(\n    File \"c:\\Users\\Jason\\miniconda3\\envs\\koopman\\lib\\site-packages\\IPython\\core\\interactiveshell.py\", line 2936, in _run_cell\n      return runner(coro)\n    File \"c:\\Users\\Jason\\miniconda3\\envs\\koopman\\lib\\site-packages\\IPython\\core\\async_helpers.py\", line 129, in _pseudo_sync_runner\n      coro.send(None)\n    File \"c:\\Users\\Jason\\miniconda3\\envs\\koopman\\lib\\site-packages\\IPython\\core\\interactiveshell.py\", line 3135, in run_cell_async\n      has_raised = await self.run_ast_nodes(code_ast.body, cell_name,\n    File \"c:\\Users\\Jason\\miniconda3\\envs\\koopman\\lib\\site-packages\\IPython\\core\\interactiveshell.py\", line 3338, in run_ast_nodes\n      if await self.run_code(code, result, async_=asy):\n    File \"c:\\Users\\Jason\\miniconda3\\envs\\koopman\\lib\\site-packages\\IPython\\core\\interactiveshell.py\", line 3398, in run_code\n      exec(code_obj, self.user_global_ns, self.user_ns)\n    File \"C:\\Users\\Jason\\AppData\\Local\\Temp\\ipykernel_54368\\467441158.py\", line 6, in <cell line: 6>\n      solver.build(data_train=data_train,\n    File \"d:\\resDMD\\DNN_resDMD\\examples\\..\\koopmanlib\\solver_4.py\", line 264, in build\n      self.history = self.train_psi(self.model, epochs=2)\n    File \"d:\\resDMD\\DNN_resDMD\\examples\\..\\koopmanlib\\solver_4.py\", line 193, in train_psi\n      history = model.fit(\n    File \"c:\\Users\\Jason\\miniconda3\\envs\\koopman\\lib\\site-packages\\keras\\utils\\traceback_utils.py\", line 64, in error_handler\n      return fn(*args, **kwargs)\n    File \"c:\\Users\\Jason\\miniconda3\\envs\\koopman\\lib\\site-packages\\keras\\engine\\training.py\", line 1409, in fit\n      tmp_logs = self.train_function(iterator)\n    File \"c:\\Users\\Jason\\miniconda3\\envs\\koopman\\lib\\site-packages\\keras\\engine\\training.py\", line 1051, in train_function\n      return step_function(self, iterator)\n    File \"c:\\Users\\Jason\\miniconda3\\envs\\koopman\\lib\\site-packages\\keras\\engine\\training.py\", line 1040, in step_function\n      outputs = model.distribute_strategy.run(run_step, args=(data,))\n    File \"c:\\Users\\Jason\\miniconda3\\envs\\koopman\\lib\\site-packages\\keras\\engine\\training.py\", line 1030, in run_step\n      outputs = model.train_step(data)\n    File \"c:\\Users\\Jason\\miniconda3\\envs\\koopman\\lib\\site-packages\\keras\\engine\\training.py\", line 889, in train_step\n      y_pred = self(x, training=True)\n    File \"c:\\Users\\Jason\\miniconda3\\envs\\koopman\\lib\\site-packages\\keras\\utils\\traceback_utils.py\", line 64, in error_handler\n      return fn(*args, **kwargs)\n    File \"c:\\Users\\Jason\\miniconda3\\envs\\koopman\\lib\\site-packages\\keras\\engine\\training.py\", line 490, in __call__\n      return super().__call__(*args, **kwargs)\n    File \"c:\\Users\\Jason\\miniconda3\\envs\\koopman\\lib\\site-packages\\keras\\utils\\traceback_utils.py\", line 64, in error_handler\n      return fn(*args, **kwargs)\n    File \"c:\\Users\\Jason\\miniconda3\\envs\\koopman\\lib\\site-packages\\keras\\engine\\base_layer.py\", line 1014, in __call__\n      outputs = call_fn(inputs, *args, **kwargs)\n    File \"c:\\Users\\Jason\\miniconda3\\envs\\koopman\\lib\\site-packages\\keras\\utils\\traceback_utils.py\", line 92, in error_handler\n      return fn(*args, **kwargs)\n    File \"c:\\Users\\Jason\\miniconda3\\envs\\koopman\\lib\\site-packages\\keras\\engine\\functional.py\", line 458, in call\n      return self._run_internal_graph(\n    File \"c:\\Users\\Jason\\miniconda3\\envs\\koopman\\lib\\site-packages\\keras\\engine\\functional.py\", line 596, in _run_internal_graph\n      outputs = node.layer(*args, **kwargs)\n    File \"c:\\Users\\Jason\\miniconda3\\envs\\koopman\\lib\\site-packages\\keras\\utils\\traceback_utils.py\", line 64, in error_handler\n      return fn(*args, **kwargs)\n    File \"c:\\Users\\Jason\\miniconda3\\envs\\koopman\\lib\\site-packages\\keras\\engine\\base_layer.py\", line 1014, in __call__\n      outputs = call_fn(inputs, *args, **kwargs)\n    File \"c:\\Users\\Jason\\miniconda3\\envs\\koopman\\lib\\site-packages\\keras\\utils\\traceback_utils.py\", line 92, in error_handler\n      return fn(*args, **kwargs)\n    File \"c:\\Users\\Jason\\miniconda3\\envs\\koopman\\lib\\site-packages\\keras\\layers\\merging\\base_merge.py\", line 178, in call\n      return self._merge_function(inputs)\n    File \"c:\\Users\\Jason\\miniconda3\\envs\\koopman\\lib\\site-packages\\keras\\layers\\merging\\concatenate.py\", line 126, in _merge_function\n      return backend.concatenate(inputs, axis=self.axis)\n    File \"c:\\Users\\Jason\\miniconda3\\envs\\koopman\\lib\\site-packages\\keras\\backend.py\", line 3313, in concatenate\n      return tf.concat([to_dense(x) for x in tensors], axis)\nNode: 'model/concatenate_2/concat'\nDetected at node 'model/concatenate_2/concat' defined at (most recent call last):\n    File \"c:\\Users\\Jason\\miniconda3\\envs\\koopman\\lib\\runpy.py\", line 194, in _run_module_as_main\n      return _run_code(code, main_globals, None,\n    File \"c:\\Users\\Jason\\miniconda3\\envs\\koopman\\lib\\runpy.py\", line 87, in _run_code\n      exec(code, run_globals)\n    File \"c:\\Users\\Jason\\miniconda3\\envs\\koopman\\lib\\site-packages\\ipykernel_launcher.py\", line 17, in <module>\n      app.launch_new_instance()\n    File \"c:\\Users\\Jason\\miniconda3\\envs\\koopman\\lib\\site-packages\\traitlets\\config\\application.py\", line 976, in launch_instance\n      app.start()\n    File \"c:\\Users\\Jason\\miniconda3\\envs\\koopman\\lib\\site-packages\\ipykernel\\kernelapp.py\", line 712, in start\n      self.io_loop.start()\n    File \"c:\\Users\\Jason\\miniconda3\\envs\\koopman\\lib\\site-packages\\tornado\\platform\\asyncio.py\", line 195, in start\n      self.asyncio_loop.run_forever()\n    File \"c:\\Users\\Jason\\miniconda3\\envs\\koopman\\lib\\asyncio\\base_events.py\", line 570, in run_forever\n      self._run_once()\n    File \"c:\\Users\\Jason\\miniconda3\\envs\\koopman\\lib\\asyncio\\base_events.py\", line 1859, in _run_once\n      handle._run()\n    File \"c:\\Users\\Jason\\miniconda3\\envs\\koopman\\lib\\asyncio\\events.py\", line 81, in _run\n      self._context.run(self._callback, *self._args)\n    File \"c:\\Users\\Jason\\miniconda3\\envs\\koopman\\lib\\site-packages\\ipykernel\\kernelbase.py\", line 510, in dispatch_queue\n      await self.process_one()\n    File \"c:\\Users\\Jason\\miniconda3\\envs\\koopman\\lib\\site-packages\\ipykernel\\kernelbase.py\", line 499, in process_one\n      await dispatch(*args)\n    File \"c:\\Users\\Jason\\miniconda3\\envs\\koopman\\lib\\site-packages\\ipykernel\\kernelbase.py\", line 406, in dispatch_shell\n      await result\n    File \"c:\\Users\\Jason\\miniconda3\\envs\\koopman\\lib\\site-packages\\ipykernel\\kernelbase.py\", line 730, in execute_request\n      reply_content = await reply_content\n    File \"c:\\Users\\Jason\\miniconda3\\envs\\koopman\\lib\\site-packages\\ipykernel\\ipkernel.py\", line 383, in do_execute\n      res = shell.run_cell(\n    File \"c:\\Users\\Jason\\miniconda3\\envs\\koopman\\lib\\site-packages\\ipykernel\\zmqshell.py\", line 528, in run_cell\n      return super().run_cell(*args, **kwargs)\n    File \"c:\\Users\\Jason\\miniconda3\\envs\\koopman\\lib\\site-packages\\IPython\\core\\interactiveshell.py\", line 2881, in run_cell\n      result = self._run_cell(\n    File \"c:\\Users\\Jason\\miniconda3\\envs\\koopman\\lib\\site-packages\\IPython\\core\\interactiveshell.py\", line 2936, in _run_cell\n      return runner(coro)\n    File \"c:\\Users\\Jason\\miniconda3\\envs\\koopman\\lib\\site-packages\\IPython\\core\\async_helpers.py\", line 129, in _pseudo_sync_runner\n      coro.send(None)\n    File \"c:\\Users\\Jason\\miniconda3\\envs\\koopman\\lib\\site-packages\\IPython\\core\\interactiveshell.py\", line 3135, in run_cell_async\n      has_raised = await self.run_ast_nodes(code_ast.body, cell_name,\n    File \"c:\\Users\\Jason\\miniconda3\\envs\\koopman\\lib\\site-packages\\IPython\\core\\interactiveshell.py\", line 3338, in run_ast_nodes\n      if await self.run_code(code, result, async_=asy):\n    File \"c:\\Users\\Jason\\miniconda3\\envs\\koopman\\lib\\site-packages\\IPython\\core\\interactiveshell.py\", line 3398, in run_code\n      exec(code_obj, self.user_global_ns, self.user_ns)\n    File \"C:\\Users\\Jason\\AppData\\Local\\Temp\\ipykernel_54368\\467441158.py\", line 6, in <cell line: 6>\n      solver.build(data_train=data_train,\n    File \"d:\\resDMD\\DNN_resDMD\\examples\\..\\koopmanlib\\solver_4.py\", line 264, in build\n      self.history = self.train_psi(self.model, epochs=2)\n    File \"d:\\resDMD\\DNN_resDMD\\examples\\..\\koopmanlib\\solver_4.py\", line 193, in train_psi\n      history = model.fit(\n    File \"c:\\Users\\Jason\\miniconda3\\envs\\koopman\\lib\\site-packages\\keras\\utils\\traceback_utils.py\", line 64, in error_handler\n      return fn(*args, **kwargs)\n    File \"c:\\Users\\Jason\\miniconda3\\envs\\koopman\\lib\\site-packages\\keras\\engine\\training.py\", line 1409, in fit\n      tmp_logs = self.train_function(iterator)\n    File \"c:\\Users\\Jason\\miniconda3\\envs\\koopman\\lib\\site-packages\\keras\\engine\\training.py\", line 1051, in train_function\n      return step_function(self, iterator)\n    File \"c:\\Users\\Jason\\miniconda3\\envs\\koopman\\lib\\site-packages\\keras\\engine\\training.py\", line 1040, in step_function\n      outputs = model.distribute_strategy.run(run_step, args=(data,))\n    File \"c:\\Users\\Jason\\miniconda3\\envs\\koopman\\lib\\site-packages\\keras\\engine\\training.py\", line 1030, in run_step\n      outputs = model.train_step(data)\n    File \"c:\\Users\\Jason\\miniconda3\\envs\\koopman\\lib\\site-packages\\keras\\engine\\training.py\", line 889, in train_step\n      y_pred = self(x, training=True)\n    File \"c:\\Users\\Jason\\miniconda3\\envs\\koopman\\lib\\site-packages\\keras\\utils\\traceback_utils.py\", line 64, in error_handler\n      return fn(*args, **kwargs)\n    File \"c:\\Users\\Jason\\miniconda3\\envs\\koopman\\lib\\site-packages\\keras\\engine\\training.py\", line 490, in __call__\n      return super().__call__(*args, **kwargs)\n    File \"c:\\Users\\Jason\\miniconda3\\envs\\koopman\\lib\\site-packages\\keras\\utils\\traceback_utils.py\", line 64, in error_handler\n      return fn(*args, **kwargs)\n    File \"c:\\Users\\Jason\\miniconda3\\envs\\koopman\\lib\\site-packages\\keras\\engine\\base_layer.py\", line 1014, in __call__\n      outputs = call_fn(inputs, *args, **kwargs)\n    File \"c:\\Users\\Jason\\miniconda3\\envs\\koopman\\lib\\site-packages\\keras\\utils\\traceback_utils.py\", line 92, in error_handler\n      return fn(*args, **kwargs)\n    File \"c:\\Users\\Jason\\miniconda3\\envs\\koopman\\lib\\site-packages\\keras\\engine\\functional.py\", line 458, in call\n      return self._run_internal_graph(\n    File \"c:\\Users\\Jason\\miniconda3\\envs\\koopman\\lib\\site-packages\\keras\\engine\\functional.py\", line 596, in _run_internal_graph\n      outputs = node.layer(*args, **kwargs)\n    File \"c:\\Users\\Jason\\miniconda3\\envs\\koopman\\lib\\site-packages\\keras\\utils\\traceback_utils.py\", line 64, in error_handler\n      return fn(*args, **kwargs)\n    File \"c:\\Users\\Jason\\miniconda3\\envs\\koopman\\lib\\site-packages\\keras\\engine\\base_layer.py\", line 1014, in __call__\n      outputs = call_fn(inputs, *args, **kwargs)\n    File \"c:\\Users\\Jason\\miniconda3\\envs\\koopman\\lib\\site-packages\\keras\\utils\\traceback_utils.py\", line 92, in error_handler\n      return fn(*args, **kwargs)\n    File \"c:\\Users\\Jason\\miniconda3\\envs\\koopman\\lib\\site-packages\\keras\\layers\\merging\\base_merge.py\", line 178, in call\n      return self._merge_function(inputs)\n    File \"c:\\Users\\Jason\\miniconda3\\envs\\koopman\\lib\\site-packages\\keras\\layers\\merging\\concatenate.py\", line 126, in _merge_function\n      return backend.concatenate(inputs, axis=self.axis)\n    File \"c:\\Users\\Jason\\miniconda3\\envs\\koopman\\lib\\site-packages\\keras\\backend.py\", line 3313, in concatenate\n      return tf.concat([to_dense(x) for x in tensors], axis)\nNode: 'model/concatenate_2/concat'\n2 root error(s) found.\n  (0) INVALID_ARGUMENT:  ConcatOp : Dimension 0 in both shapes must be equal: shape[0] = [103,1] vs. shape[1] = [5000,2]\n\t [[{{node model/concatenate_2/concat}}]]\n\t [[model/tf.linalg.matmul_4/MatMul/_16]]\n  (1) INVALID_ARGUMENT:  ConcatOp : Dimension 0 in both shapes must be equal: shape[0] = [103,1] vs. shape[1] = [5000,2]\n\t [[{{node model/concatenate_2/concat}}]]\n0 successful operations.\n0 derived errors ignored. [Op:__inference_train_function_2385]",
     "output_type": "error",
     "traceback": [
      "\u001b[1;31m---------------------------------------------------------------------------\u001b[0m",
      "\u001b[1;31mInvalidArgumentError\u001b[0m                      Traceback (most recent call last)",
      "\u001b[1;32md:\\resDMD\\DNN_resDMD\\examples\\connector_duffing.ipynb Cell 6\u001b[0m line \u001b[0;36m<cell line: 6>\u001b[1;34m()\u001b[0m\n\u001b[0;32m      <a href='vscode-notebook-cell:/d%3A/resDMD/DNN_resDMD/examples/connector_duffing.ipynb#X21sZmlsZQ%3D%3D?line=0'>1</a>\u001b[0m \u001b[39mfrom\u001b[39;00m \u001b[39mkoopmanlib\u001b[39;00m\u001b[39m.\u001b[39;00m\u001b[39msolver_4\u001b[39;00m \u001b[39mimport\u001b[39;00m KoopmanDLSolver \u001b[39m# resDMD solver using regression\u001b[39;00m\n\u001b[0;32m      <a href='vscode-notebook-cell:/d%3A/resDMD/DNN_resDMD/examples/connector_duffing.ipynb#X21sZmlsZQ%3D%3D?line=1'>2</a>\u001b[0m solver \u001b[39m=\u001b[39m KoopmanDLSolver(dic\u001b[39m=\u001b[39mbasis_function,\n\u001b[0;32m      <a href='vscode-notebook-cell:/d%3A/resDMD/DNN_resDMD/examples/connector_duffing.ipynb#X21sZmlsZQ%3D%3D?line=2'>3</a>\u001b[0m                          target_dim\u001b[39m=\u001b[39mnp\u001b[39m.\u001b[39mshape(data_train)[\u001b[39m-\u001b[39m\u001b[39m1\u001b[39m],\n\u001b[0;32m      <a href='vscode-notebook-cell:/d%3A/resDMD/DNN_resDMD/examples/connector_duffing.ipynb#X21sZmlsZQ%3D%3D?line=3'>4</a>\u001b[0m                          reg\u001b[39m=\u001b[39m\u001b[39m0.1\u001b[39m)\n\u001b[1;32m----> <a href='vscode-notebook-cell:/d%3A/resDMD/DNN_resDMD/examples/connector_duffing.ipynb#X21sZmlsZQ%3D%3D?line=5'>6</a>\u001b[0m solver\u001b[39m.\u001b[39;49mbuild(data_train\u001b[39m=\u001b[39;49mdata_train,\n\u001b[0;32m      <a href='vscode-notebook-cell:/d%3A/resDMD/DNN_resDMD/examples/connector_duffing.ipynb#X21sZmlsZQ%3D%3D?line=6'>7</a>\u001b[0m              data_valid\u001b[39m=\u001b[39;49mdata_valid,\n\u001b[0;32m      <a href='vscode-notebook-cell:/d%3A/resDMD/DNN_resDMD/examples/connector_duffing.ipynb#X21sZmlsZQ%3D%3D?line=7'>8</a>\u001b[0m              epochs\u001b[39m=\u001b[39;49m\u001b[39m1000\u001b[39;49m,\n\u001b[0;32m      <a href='vscode-notebook-cell:/d%3A/resDMD/DNN_resDMD/examples/connector_duffing.ipynb#X21sZmlsZQ%3D%3D?line=8'>9</a>\u001b[0m              batch_size\u001b[39m=\u001b[39;49m\u001b[39m5000\u001b[39;49m,\n\u001b[0;32m     <a href='vscode-notebook-cell:/d%3A/resDMD/DNN_resDMD/examples/connector_duffing.ipynb#X21sZmlsZQ%3D%3D?line=9'>10</a>\u001b[0m              lr\u001b[39m=\u001b[39;49m\u001b[39m1e-4\u001b[39;49m,\n\u001b[0;32m     <a href='vscode-notebook-cell:/d%3A/resDMD/DNN_resDMD/examples/connector_duffing.ipynb#X21sZmlsZQ%3D%3D?line=10'>11</a>\u001b[0m              log_interval\u001b[39m=\u001b[39;49m\u001b[39m10\u001b[39;49m,\n\u001b[0;32m     <a href='vscode-notebook-cell:/d%3A/resDMD/DNN_resDMD/examples/connector_duffing.ipynb#X21sZmlsZQ%3D%3D?line=11'>12</a>\u001b[0m              lr_decay_factor\u001b[39m=\u001b[39;49m\u001b[39m.8\u001b[39;49m)\n",
      "File \u001b[1;32md:\\resDMD\\DNN_resDMD\\examples\\..\\koopmanlib\\solver_4.py:264\u001b[0m, in \u001b[0;36mKoopmanDLSolver.build\u001b[1;34m(self, data_train, data_valid, epochs, batch_size, lr, log_interval, lr_decay_factor)\u001b[0m\n\u001b[0;32m    257\u001b[0m \u001b[39mself\u001b[39m\u001b[39m.\u001b[39mK\u001b[39m=\u001b[39m \u001b[39mself\u001b[39m\u001b[39m.\u001b[39mcompute_K(\u001b[39mself\u001b[39m\u001b[39m.\u001b[39mdic_func,\n\u001b[0;32m    258\u001b[0m                         \u001b[39mself\u001b[39m\u001b[39m.\u001b[39mdata_x_train,\n\u001b[0;32m    259\u001b[0m                         \u001b[39mself\u001b[39m\u001b[39m.\u001b[39mdata_y_train,\n\u001b[0;32m    260\u001b[0m                         \u001b[39mself\u001b[39m\u001b[39m.\u001b[39mreg)\n\u001b[0;32m    261\u001b[0m \u001b[39m# self.model.get_layer('Layer_K').weights[0].assign(self.K)\u001b[39;00m\n\u001b[0;32m    262\u001b[0m \n\u001b[0;32m    263\u001b[0m \u001b[39m# Two steps for training PsiNN\u001b[39;00m\n\u001b[1;32m--> 264\u001b[0m \u001b[39mself\u001b[39m\u001b[39m.\u001b[39mhistory \u001b[39m=\u001b[39m \u001b[39mself\u001b[39;49m\u001b[39m.\u001b[39;49mtrain_psi(\u001b[39mself\u001b[39;49m\u001b[39m.\u001b[39;49mmodel, epochs\u001b[39m=\u001b[39;49m\u001b[39m2\u001b[39;49m)\n\u001b[0;32m    266\u001b[0m \u001b[39mprint\u001b[39m(\u001b[39m'\u001b[39m\u001b[39mnumber of the outer loop:\u001b[39m\u001b[39m'\u001b[39m, i)\n\u001b[0;32m    267\u001b[0m \u001b[39mif\u001b[39;00m i \u001b[39m%\u001b[39m log_interval \u001b[39m==\u001b[39m \u001b[39m0\u001b[39m:\n",
      "File \u001b[1;32md:\\resDMD\\DNN_resDMD\\examples\\..\\koopmanlib\\solver_4.py:193\u001b[0m, in \u001b[0;36mKoopmanDLSolver.train_psi\u001b[1;34m(self, model, epochs)\u001b[0m\n\u001b[0;32m    183\u001b[0m \u001b[39mdef\u001b[39;00m \u001b[39mtrain_psi\u001b[39m(\u001b[39mself\u001b[39m, model, epochs):\n\u001b[0;32m    184\u001b[0m     \u001b[39m\"\"\"Train the trainable part of the dictionary\u001b[39;00m\n\u001b[0;32m    185\u001b[0m \n\u001b[0;32m    186\u001b[0m \u001b[39m    :param model: koopman model\u001b[39;00m\n\u001b[1;32m   (...)\u001b[0m\n\u001b[0;32m    191\u001b[0m \u001b[39m    :rtype: history callback object\u001b[39;00m\n\u001b[0;32m    192\u001b[0m \u001b[39m    \"\"\"\u001b[39;00m\n\u001b[1;32m--> 193\u001b[0m     history \u001b[39m=\u001b[39m model\u001b[39m.\u001b[39;49mfit(\n\u001b[0;32m    194\u001b[0m         x\u001b[39m=\u001b[39;49m\u001b[39mself\u001b[39;49m\u001b[39m.\u001b[39;49mdata_train,\n\u001b[0;32m    195\u001b[0m         y\u001b[39m=\u001b[39;49m\u001b[39mself\u001b[39;49m\u001b[39m.\u001b[39;49mzeros_data_y_train,\n\u001b[0;32m    196\u001b[0m         epochs\u001b[39m=\u001b[39;49mepochs,\n\u001b[0;32m    197\u001b[0m         validation_data\u001b[39m=\u001b[39;49m(\n\u001b[0;32m    198\u001b[0m             \u001b[39mself\u001b[39;49m\u001b[39m.\u001b[39;49mdata_valid,\n\u001b[0;32m    199\u001b[0m             \u001b[39mself\u001b[39;49m\u001b[39m.\u001b[39;49mzeros_data_y_valid),\n\u001b[0;32m    200\u001b[0m         batch_size\u001b[39m=\u001b[39;49m\u001b[39mself\u001b[39;49m\u001b[39m.\u001b[39;49mbatch_size,\n\u001b[0;32m    201\u001b[0m         verbose\u001b[39m=\u001b[39;49m\u001b[39m1\u001b[39;49m)\n\u001b[0;32m    202\u001b[0m     \u001b[39mreturn\u001b[39;00m history\n",
      "File \u001b[1;32mc:\\Users\\Jason\\miniconda3\\envs\\koopman\\lib\\site-packages\\keras\\utils\\traceback_utils.py:67\u001b[0m, in \u001b[0;36mfilter_traceback.<locals>.error_handler\u001b[1;34m(*args, **kwargs)\u001b[0m\n\u001b[0;32m     65\u001b[0m \u001b[39mexcept\u001b[39;00m \u001b[39mException\u001b[39;00m \u001b[39mas\u001b[39;00m e:  \u001b[39m# pylint: disable=broad-except\u001b[39;00m\n\u001b[0;32m     66\u001b[0m   filtered_tb \u001b[39m=\u001b[39m _process_traceback_frames(e\u001b[39m.\u001b[39m__traceback__)\n\u001b[1;32m---> 67\u001b[0m   \u001b[39mraise\u001b[39;00m e\u001b[39m.\u001b[39mwith_traceback(filtered_tb) \u001b[39mfrom\u001b[39;00m \u001b[39mNone\u001b[39m\n\u001b[0;32m     68\u001b[0m \u001b[39mfinally\u001b[39;00m:\n\u001b[0;32m     69\u001b[0m   \u001b[39mdel\u001b[39;00m filtered_tb\n",
      "File \u001b[1;32mc:\\Users\\Jason\\miniconda3\\envs\\koopman\\lib\\site-packages\\tensorflow\\python\\eager\\execute.py:54\u001b[0m, in \u001b[0;36mquick_execute\u001b[1;34m(op_name, num_outputs, inputs, attrs, ctx, name)\u001b[0m\n\u001b[0;32m     52\u001b[0m \u001b[39mtry\u001b[39;00m:\n\u001b[0;32m     53\u001b[0m   ctx\u001b[39m.\u001b[39mensure_initialized()\n\u001b[1;32m---> 54\u001b[0m   tensors \u001b[39m=\u001b[39m pywrap_tfe\u001b[39m.\u001b[39mTFE_Py_Execute(ctx\u001b[39m.\u001b[39m_handle, device_name, op_name,\n\u001b[0;32m     55\u001b[0m                                       inputs, attrs, num_outputs)\n\u001b[0;32m     56\u001b[0m \u001b[39mexcept\u001b[39;00m core\u001b[39m.\u001b[39m_NotOkStatusException \u001b[39mas\u001b[39;00m e:\n\u001b[0;32m     57\u001b[0m   \u001b[39mif\u001b[39;00m name \u001b[39mis\u001b[39;00m \u001b[39mnot\u001b[39;00m \u001b[39mNone\u001b[39;00m:\n",
      "\u001b[1;31mInvalidArgumentError\u001b[0m: Graph execution error:\n\nDetected at node 'model/concatenate_2/concat' defined at (most recent call last):\n    File \"c:\\Users\\Jason\\miniconda3\\envs\\koopman\\lib\\runpy.py\", line 194, in _run_module_as_main\n      return _run_code(code, main_globals, None,\n    File \"c:\\Users\\Jason\\miniconda3\\envs\\koopman\\lib\\runpy.py\", line 87, in _run_code\n      exec(code, run_globals)\n    File \"c:\\Users\\Jason\\miniconda3\\envs\\koopman\\lib\\site-packages\\ipykernel_launcher.py\", line 17, in <module>\n      app.launch_new_instance()\n    File \"c:\\Users\\Jason\\miniconda3\\envs\\koopman\\lib\\site-packages\\traitlets\\config\\application.py\", line 976, in launch_instance\n      app.start()\n    File \"c:\\Users\\Jason\\miniconda3\\envs\\koopman\\lib\\site-packages\\ipykernel\\kernelapp.py\", line 712, in start\n      self.io_loop.start()\n    File \"c:\\Users\\Jason\\miniconda3\\envs\\koopman\\lib\\site-packages\\tornado\\platform\\asyncio.py\", line 195, in start\n      self.asyncio_loop.run_forever()\n    File \"c:\\Users\\Jason\\miniconda3\\envs\\koopman\\lib\\asyncio\\base_events.py\", line 570, in run_forever\n      self._run_once()\n    File \"c:\\Users\\Jason\\miniconda3\\envs\\koopman\\lib\\asyncio\\base_events.py\", line 1859, in _run_once\n      handle._run()\n    File \"c:\\Users\\Jason\\miniconda3\\envs\\koopman\\lib\\asyncio\\events.py\", line 81, in _run\n      self._context.run(self._callback, *self._args)\n    File \"c:\\Users\\Jason\\miniconda3\\envs\\koopman\\lib\\site-packages\\ipykernel\\kernelbase.py\", line 510, in dispatch_queue\n      await self.process_one()\n    File \"c:\\Users\\Jason\\miniconda3\\envs\\koopman\\lib\\site-packages\\ipykernel\\kernelbase.py\", line 499, in process_one\n      await dispatch(*args)\n    File \"c:\\Users\\Jason\\miniconda3\\envs\\koopman\\lib\\site-packages\\ipykernel\\kernelbase.py\", line 406, in dispatch_shell\n      await result\n    File \"c:\\Users\\Jason\\miniconda3\\envs\\koopman\\lib\\site-packages\\ipykernel\\kernelbase.py\", line 730, in execute_request\n      reply_content = await reply_content\n    File \"c:\\Users\\Jason\\miniconda3\\envs\\koopman\\lib\\site-packages\\ipykernel\\ipkernel.py\", line 383, in do_execute\n      res = shell.run_cell(\n    File \"c:\\Users\\Jason\\miniconda3\\envs\\koopman\\lib\\site-packages\\ipykernel\\zmqshell.py\", line 528, in run_cell\n      return super().run_cell(*args, **kwargs)\n    File \"c:\\Users\\Jason\\miniconda3\\envs\\koopman\\lib\\site-packages\\IPython\\core\\interactiveshell.py\", line 2881, in run_cell\n      result = self._run_cell(\n    File \"c:\\Users\\Jason\\miniconda3\\envs\\koopman\\lib\\site-packages\\IPython\\core\\interactiveshell.py\", line 2936, in _run_cell\n      return runner(coro)\n    File \"c:\\Users\\Jason\\miniconda3\\envs\\koopman\\lib\\site-packages\\IPython\\core\\async_helpers.py\", line 129, in _pseudo_sync_runner\n      coro.send(None)\n    File \"c:\\Users\\Jason\\miniconda3\\envs\\koopman\\lib\\site-packages\\IPython\\core\\interactiveshell.py\", line 3135, in run_cell_async\n      has_raised = await self.run_ast_nodes(code_ast.body, cell_name,\n    File \"c:\\Users\\Jason\\miniconda3\\envs\\koopman\\lib\\site-packages\\IPython\\core\\interactiveshell.py\", line 3338, in run_ast_nodes\n      if await self.run_code(code, result, async_=asy):\n    File \"c:\\Users\\Jason\\miniconda3\\envs\\koopman\\lib\\site-packages\\IPython\\core\\interactiveshell.py\", line 3398, in run_code\n      exec(code_obj, self.user_global_ns, self.user_ns)\n    File \"C:\\Users\\Jason\\AppData\\Local\\Temp\\ipykernel_54368\\467441158.py\", line 6, in <cell line: 6>\n      solver.build(data_train=data_train,\n    File \"d:\\resDMD\\DNN_resDMD\\examples\\..\\koopmanlib\\solver_4.py\", line 264, in build\n      self.history = self.train_psi(self.model, epochs=2)\n    File \"d:\\resDMD\\DNN_resDMD\\examples\\..\\koopmanlib\\solver_4.py\", line 193, in train_psi\n      history = model.fit(\n    File \"c:\\Users\\Jason\\miniconda3\\envs\\koopman\\lib\\site-packages\\keras\\utils\\traceback_utils.py\", line 64, in error_handler\n      return fn(*args, **kwargs)\n    File \"c:\\Users\\Jason\\miniconda3\\envs\\koopman\\lib\\site-packages\\keras\\engine\\training.py\", line 1409, in fit\n      tmp_logs = self.train_function(iterator)\n    File \"c:\\Users\\Jason\\miniconda3\\envs\\koopman\\lib\\site-packages\\keras\\engine\\training.py\", line 1051, in train_function\n      return step_function(self, iterator)\n    File \"c:\\Users\\Jason\\miniconda3\\envs\\koopman\\lib\\site-packages\\keras\\engine\\training.py\", line 1040, in step_function\n      outputs = model.distribute_strategy.run(run_step, args=(data,))\n    File \"c:\\Users\\Jason\\miniconda3\\envs\\koopman\\lib\\site-packages\\keras\\engine\\training.py\", line 1030, in run_step\n      outputs = model.train_step(data)\n    File \"c:\\Users\\Jason\\miniconda3\\envs\\koopman\\lib\\site-packages\\keras\\engine\\training.py\", line 889, in train_step\n      y_pred = self(x, training=True)\n    File \"c:\\Users\\Jason\\miniconda3\\envs\\koopman\\lib\\site-packages\\keras\\utils\\traceback_utils.py\", line 64, in error_handler\n      return fn(*args, **kwargs)\n    File \"c:\\Users\\Jason\\miniconda3\\envs\\koopman\\lib\\site-packages\\keras\\engine\\training.py\", line 490, in __call__\n      return super().__call__(*args, **kwargs)\n    File \"c:\\Users\\Jason\\miniconda3\\envs\\koopman\\lib\\site-packages\\keras\\utils\\traceback_utils.py\", line 64, in error_handler\n      return fn(*args, **kwargs)\n    File \"c:\\Users\\Jason\\miniconda3\\envs\\koopman\\lib\\site-packages\\keras\\engine\\base_layer.py\", line 1014, in __call__\n      outputs = call_fn(inputs, *args, **kwargs)\n    File \"c:\\Users\\Jason\\miniconda3\\envs\\koopman\\lib\\site-packages\\keras\\utils\\traceback_utils.py\", line 92, in error_handler\n      return fn(*args, **kwargs)\n    File \"c:\\Users\\Jason\\miniconda3\\envs\\koopman\\lib\\site-packages\\keras\\engine\\functional.py\", line 458, in call\n      return self._run_internal_graph(\n    File \"c:\\Users\\Jason\\miniconda3\\envs\\koopman\\lib\\site-packages\\keras\\engine\\functional.py\", line 596, in _run_internal_graph\n      outputs = node.layer(*args, **kwargs)\n    File \"c:\\Users\\Jason\\miniconda3\\envs\\koopman\\lib\\site-packages\\keras\\utils\\traceback_utils.py\", line 64, in error_handler\n      return fn(*args, **kwargs)\n    File \"c:\\Users\\Jason\\miniconda3\\envs\\koopman\\lib\\site-packages\\keras\\engine\\base_layer.py\", line 1014, in __call__\n      outputs = call_fn(inputs, *args, **kwargs)\n    File \"c:\\Users\\Jason\\miniconda3\\envs\\koopman\\lib\\site-packages\\keras\\utils\\traceback_utils.py\", line 92, in error_handler\n      return fn(*args, **kwargs)\n    File \"c:\\Users\\Jason\\miniconda3\\envs\\koopman\\lib\\site-packages\\keras\\layers\\merging\\base_merge.py\", line 178, in call\n      return self._merge_function(inputs)\n    File \"c:\\Users\\Jason\\miniconda3\\envs\\koopman\\lib\\site-packages\\keras\\layers\\merging\\concatenate.py\", line 126, in _merge_function\n      return backend.concatenate(inputs, axis=self.axis)\n    File \"c:\\Users\\Jason\\miniconda3\\envs\\koopman\\lib\\site-packages\\keras\\backend.py\", line 3313, in concatenate\n      return tf.concat([to_dense(x) for x in tensors], axis)\nNode: 'model/concatenate_2/concat'\nDetected at node 'model/concatenate_2/concat' defined at (most recent call last):\n    File \"c:\\Users\\Jason\\miniconda3\\envs\\koopman\\lib\\runpy.py\", line 194, in _run_module_as_main\n      return _run_code(code, main_globals, None,\n    File \"c:\\Users\\Jason\\miniconda3\\envs\\koopman\\lib\\runpy.py\", line 87, in _run_code\n      exec(code, run_globals)\n    File \"c:\\Users\\Jason\\miniconda3\\envs\\koopman\\lib\\site-packages\\ipykernel_launcher.py\", line 17, in <module>\n      app.launch_new_instance()\n    File \"c:\\Users\\Jason\\miniconda3\\envs\\koopman\\lib\\site-packages\\traitlets\\config\\application.py\", line 976, in launch_instance\n      app.start()\n    File \"c:\\Users\\Jason\\miniconda3\\envs\\koopman\\lib\\site-packages\\ipykernel\\kernelapp.py\", line 712, in start\n      self.io_loop.start()\n    File \"c:\\Users\\Jason\\miniconda3\\envs\\koopman\\lib\\site-packages\\tornado\\platform\\asyncio.py\", line 195, in start\n      self.asyncio_loop.run_forever()\n    File \"c:\\Users\\Jason\\miniconda3\\envs\\koopman\\lib\\asyncio\\base_events.py\", line 570, in run_forever\n      self._run_once()\n    File \"c:\\Users\\Jason\\miniconda3\\envs\\koopman\\lib\\asyncio\\base_events.py\", line 1859, in _run_once\n      handle._run()\n    File \"c:\\Users\\Jason\\miniconda3\\envs\\koopman\\lib\\asyncio\\events.py\", line 81, in _run\n      self._context.run(self._callback, *self._args)\n    File \"c:\\Users\\Jason\\miniconda3\\envs\\koopman\\lib\\site-packages\\ipykernel\\kernelbase.py\", line 510, in dispatch_queue\n      await self.process_one()\n    File \"c:\\Users\\Jason\\miniconda3\\envs\\koopman\\lib\\site-packages\\ipykernel\\kernelbase.py\", line 499, in process_one\n      await dispatch(*args)\n    File \"c:\\Users\\Jason\\miniconda3\\envs\\koopman\\lib\\site-packages\\ipykernel\\kernelbase.py\", line 406, in dispatch_shell\n      await result\n    File \"c:\\Users\\Jason\\miniconda3\\envs\\koopman\\lib\\site-packages\\ipykernel\\kernelbase.py\", line 730, in execute_request\n      reply_content = await reply_content\n    File \"c:\\Users\\Jason\\miniconda3\\envs\\koopman\\lib\\site-packages\\ipykernel\\ipkernel.py\", line 383, in do_execute\n      res = shell.run_cell(\n    File \"c:\\Users\\Jason\\miniconda3\\envs\\koopman\\lib\\site-packages\\ipykernel\\zmqshell.py\", line 528, in run_cell\n      return super().run_cell(*args, **kwargs)\n    File \"c:\\Users\\Jason\\miniconda3\\envs\\koopman\\lib\\site-packages\\IPython\\core\\interactiveshell.py\", line 2881, in run_cell\n      result = self._run_cell(\n    File \"c:\\Users\\Jason\\miniconda3\\envs\\koopman\\lib\\site-packages\\IPython\\core\\interactiveshell.py\", line 2936, in _run_cell\n      return runner(coro)\n    File \"c:\\Users\\Jason\\miniconda3\\envs\\koopman\\lib\\site-packages\\IPython\\core\\async_helpers.py\", line 129, in _pseudo_sync_runner\n      coro.send(None)\n    File \"c:\\Users\\Jason\\miniconda3\\envs\\koopman\\lib\\site-packages\\IPython\\core\\interactiveshell.py\", line 3135, in run_cell_async\n      has_raised = await self.run_ast_nodes(code_ast.body, cell_name,\n    File \"c:\\Users\\Jason\\miniconda3\\envs\\koopman\\lib\\site-packages\\IPython\\core\\interactiveshell.py\", line 3338, in run_ast_nodes\n      if await self.run_code(code, result, async_=asy):\n    File \"c:\\Users\\Jason\\miniconda3\\envs\\koopman\\lib\\site-packages\\IPython\\core\\interactiveshell.py\", line 3398, in run_code\n      exec(code_obj, self.user_global_ns, self.user_ns)\n    File \"C:\\Users\\Jason\\AppData\\Local\\Temp\\ipykernel_54368\\467441158.py\", line 6, in <cell line: 6>\n      solver.build(data_train=data_train,\n    File \"d:\\resDMD\\DNN_resDMD\\examples\\..\\koopmanlib\\solver_4.py\", line 264, in build\n      self.history = self.train_psi(self.model, epochs=2)\n    File \"d:\\resDMD\\DNN_resDMD\\examples\\..\\koopmanlib\\solver_4.py\", line 193, in train_psi\n      history = model.fit(\n    File \"c:\\Users\\Jason\\miniconda3\\envs\\koopman\\lib\\site-packages\\keras\\utils\\traceback_utils.py\", line 64, in error_handler\n      return fn(*args, **kwargs)\n    File \"c:\\Users\\Jason\\miniconda3\\envs\\koopman\\lib\\site-packages\\keras\\engine\\training.py\", line 1409, in fit\n      tmp_logs = self.train_function(iterator)\n    File \"c:\\Users\\Jason\\miniconda3\\envs\\koopman\\lib\\site-packages\\keras\\engine\\training.py\", line 1051, in train_function\n      return step_function(self, iterator)\n    File \"c:\\Users\\Jason\\miniconda3\\envs\\koopman\\lib\\site-packages\\keras\\engine\\training.py\", line 1040, in step_function\n      outputs = model.distribute_strategy.run(run_step, args=(data,))\n    File \"c:\\Users\\Jason\\miniconda3\\envs\\koopman\\lib\\site-packages\\keras\\engine\\training.py\", line 1030, in run_step\n      outputs = model.train_step(data)\n    File \"c:\\Users\\Jason\\miniconda3\\envs\\koopman\\lib\\site-packages\\keras\\engine\\training.py\", line 889, in train_step\n      y_pred = self(x, training=True)\n    File \"c:\\Users\\Jason\\miniconda3\\envs\\koopman\\lib\\site-packages\\keras\\utils\\traceback_utils.py\", line 64, in error_handler\n      return fn(*args, **kwargs)\n    File \"c:\\Users\\Jason\\miniconda3\\envs\\koopman\\lib\\site-packages\\keras\\engine\\training.py\", line 490, in __call__\n      return super().__call__(*args, **kwargs)\n    File \"c:\\Users\\Jason\\miniconda3\\envs\\koopman\\lib\\site-packages\\keras\\utils\\traceback_utils.py\", line 64, in error_handler\n      return fn(*args, **kwargs)\n    File \"c:\\Users\\Jason\\miniconda3\\envs\\koopman\\lib\\site-packages\\keras\\engine\\base_layer.py\", line 1014, in __call__\n      outputs = call_fn(inputs, *args, **kwargs)\n    File \"c:\\Users\\Jason\\miniconda3\\envs\\koopman\\lib\\site-packages\\keras\\utils\\traceback_utils.py\", line 92, in error_handler\n      return fn(*args, **kwargs)\n    File \"c:\\Users\\Jason\\miniconda3\\envs\\koopman\\lib\\site-packages\\keras\\engine\\functional.py\", line 458, in call\n      return self._run_internal_graph(\n    File \"c:\\Users\\Jason\\miniconda3\\envs\\koopman\\lib\\site-packages\\keras\\engine\\functional.py\", line 596, in _run_internal_graph\n      outputs = node.layer(*args, **kwargs)\n    File \"c:\\Users\\Jason\\miniconda3\\envs\\koopman\\lib\\site-packages\\keras\\utils\\traceback_utils.py\", line 64, in error_handler\n      return fn(*args, **kwargs)\n    File \"c:\\Users\\Jason\\miniconda3\\envs\\koopman\\lib\\site-packages\\keras\\engine\\base_layer.py\", line 1014, in __call__\n      outputs = call_fn(inputs, *args, **kwargs)\n    File \"c:\\Users\\Jason\\miniconda3\\envs\\koopman\\lib\\site-packages\\keras\\utils\\traceback_utils.py\", line 92, in error_handler\n      return fn(*args, **kwargs)\n    File \"c:\\Users\\Jason\\miniconda3\\envs\\koopman\\lib\\site-packages\\keras\\layers\\merging\\base_merge.py\", line 178, in call\n      return self._merge_function(inputs)\n    File \"c:\\Users\\Jason\\miniconda3\\envs\\koopman\\lib\\site-packages\\keras\\layers\\merging\\concatenate.py\", line 126, in _merge_function\n      return backend.concatenate(inputs, axis=self.axis)\n    File \"c:\\Users\\Jason\\miniconda3\\envs\\koopman\\lib\\site-packages\\keras\\backend.py\", line 3313, in concatenate\n      return tf.concat([to_dense(x) for x in tensors], axis)\nNode: 'model/concatenate_2/concat'\n2 root error(s) found.\n  (0) INVALID_ARGUMENT:  ConcatOp : Dimension 0 in both shapes must be equal: shape[0] = [103,1] vs. shape[1] = [5000,2]\n\t [[{{node model/concatenate_2/concat}}]]\n\t [[model/tf.linalg.matmul_4/MatMul/_16]]\n  (1) INVALID_ARGUMENT:  ConcatOp : Dimension 0 in both shapes must be equal: shape[0] = [103,1] vs. shape[1] = [5000,2]\n\t [[{{node model/concatenate_2/concat}}]]\n0 successful operations.\n0 derived errors ignored. [Op:__inference_train_function_2385]"
     ]
    }
   ],
   "source": [
    "from koopmanlib.solver_4 import KoopmanDLSolver # resDMD solver using regression\n",
    "solver = KoopmanDLSolver(dic=basis_function,\n",
    "                         target_dim=np.shape(data_train)[-1],\n",
    "                         reg=0.1)\n",
    "\n",
    "solver.build(data_train=data_train,\n",
    "             data_valid=data_valid,\n",
    "             epochs=1000,\n",
    "             batch_size=5000,\n",
    "             lr=1e-4,\n",
    "             log_interval=10,\n",
    "             lr_decay_factor=.8)"
   ]
  },
  {
   "cell_type": "code",
   "execution_count": null,
   "metadata": {},
   "outputs": [],
   "source": [
    "evalues = solver.eigenvalues.T\n",
    "efuns = solver.eigenfunctions(X)\n",
    "kpm_modes = solver.compute_mode().T\n",
    "N_dict = np.shape(evalues)[0]\n",
    "\n",
    "resDMD_DL_outputs4 = {\n",
    "    'resDMD_DL_outputs':{\n",
    "    'efuns': efuns,\n",
    "    'evalues': evalues,\n",
    "    'kpm_modes': kpm_modes,\n",
    "    'N_dict':N_dict\n",
    "    }\n",
    "}\n",
    "\n",
    "print(resDMD_DL_outputs4['resDMD_DL_outputs']['evalues'])\n",
    "print(resDMD_DL_outputs4['resDMD_DL_outputs']['efuns'].shape)"
   ]
  },
  {
   "cell_type": "code",
   "execution_count": null,
   "metadata": {},
   "outputs": [],
   "source": [
    "from koopmanlib.solver_0 import KoopmanDLSolver # resDMD solver using regression\n",
    "solver = KoopmanDLSolver(dic=basis_function,\n",
    "                         target_dim=np.shape(data_train)[-1],\n",
    "                         reg=0.1)\n",
    "\n",
    "solver.build(data_train=data_train,\n",
    "             data_valid=data_valid,\n",
    "             epochs=1000,\n",
    "             batch_size=5000,\n",
    "             lr=1e-4,\n",
    "             log_interval=10,\n",
    "             lr_decay_factor=.8)"
   ]
  },
  {
   "cell_type": "code",
   "execution_count": null,
   "metadata": {},
   "outputs": [],
   "source": [
    "evalues = solver.eigenvalues.T\n",
    "efuns = solver.eigenfunctions(X)\n",
    "kpm_modes = solver.compute_mode().T\n",
    "N_dict = np.shape(evalues)[0]\n",
    "\n",
    "resDMD_DL_outputs0 = {\n",
    "    'resDMD_DL_outputs':{\n",
    "    'efuns': efuns,\n",
    "    'evalues': evalues,\n",
    "    'kpm_modes': kpm_modes,\n",
    "    'N_dict':N_dict\n",
    "    }\n",
    "}\n",
    "\n",
    "print(resDMD_DL_outputs0['resDMD_DL_outputs']['evalues'])\n",
    "print(resDMD_DL_outputs0['resDMD_DL_outputs']['efuns'].shape)"
   ]
  },
  {
   "cell_type": "code",
   "execution_count": null,
   "metadata": {},
   "outputs": [],
   "source": [
    "from koopmanlib.solver_1 import KoopmanDLSolver # resDMD solver using regression\n",
    "solver = KoopmanDLSolver(dic=basis_function,\n",
    "                         target_dim=np.shape(data_train)[-1],\n",
    "                         reg=0.1)\n",
    "\n",
    "solver.build(data_train=data_train,\n",
    "             data_valid=data_valid,\n",
    "             epochs=1000,\n",
    "             batch_size=5000,\n",
    "             lr=1e-4,\n",
    "             log_interval=10,\n",
    "             lr_decay_factor=.8)"
   ]
  },
  {
   "cell_type": "code",
   "execution_count": null,
   "metadata": {},
   "outputs": [],
   "source": [
    "evalues = solver.eigenvalues.T\n",
    "efuns = solver.eigenfunctions(X)\n",
    "kpm_modes = solver.compute_mode().T\n",
    "N_dict = np.shape(evalues)[0]\n",
    "\n",
    "resDMD_DL_outputs1 = {\n",
    "    'resDMD_DL_outputs':{\n",
    "    'efuns': efuns,\n",
    "    'evalues': evalues,\n",
    "    'kpm_modes': kpm_modes,\n",
    "    'N_dict':N_dict\n",
    "    }\n",
    "}\n",
    "\n",
    "print(resDMD_DL_outputs1['resDMD_DL_outputs']['evalues'])\n",
    "print(resDMD_DL_outputs1['resDMD_DL_outputs']['efuns'].shape)"
   ]
  },
  {
   "cell_type": "code",
   "execution_count": null,
   "metadata": {},
   "outputs": [],
   "source": [
    "from koopmanlib.solver_2 import KoopmanDLSolver # resDMD solver using regression\n",
    "solver = KoopmanDLSolver(dic=basis_function,\n",
    "                         target_dim=np.shape(data_train)[-1],\n",
    "                         reg=0.1)\n",
    "\n",
    "solver.build(data_train=data_train,\n",
    "             data_valid=data_valid,\n",
    "             epochs=1000,\n",
    "             batch_size=5000,\n",
    "             lr=1e-4,\n",
    "             log_interval=10,\n",
    "             lr_decay_factor=.8)"
   ]
  },
  {
   "cell_type": "code",
   "execution_count": null,
   "metadata": {},
   "outputs": [],
   "source": [
    "evalues = solver.eigenvalues.T\n",
    "efuns = solver.eigenfunctions(X)\n",
    "kpm_modes = solver.compute_mode().T\n",
    "N_dict = np.shape(evalues)[0]\n",
    "\n",
    "resDMD_DL_outputs2 = {\n",
    "    'resDMD_DL_outputs':{\n",
    "    'efuns': efuns,\n",
    "    'evalues': evalues,\n",
    "    'kpm_modes': kpm_modes,\n",
    "    'N_dict':N_dict\n",
    "    }\n",
    "}\n",
    "\n",
    "print(resDMD_DL_outputs2['resDMD_DL_outputs']['evalues'])\n",
    "print(resDMD_DL_outputs2['resDMD_DL_outputs']['efuns'].shape)"
   ]
  },
  {
   "cell_type": "code",
   "execution_count": null,
   "metadata": {},
   "outputs": [],
   "source": [
    "from koopmanlib.solver_3 import KoopmanDLSolver # resDMD solver using regression\n",
    "solver = KoopmanDLSolver(dic=basis_function,\n",
    "                         target_dim=np.shape(data_train)[-1],\n",
    "                         reg=0.1)\n",
    "\n",
    "solver.build(data_train=data_train,\n",
    "             data_valid=data_valid,\n",
    "             epochs=1000,\n",
    "             batch_size=5000,\n",
    "             lr=1e-4,\n",
    "             log_interval=10,\n",
    "             lr_decay_factor=.8)"
   ]
  },
  {
   "cell_type": "code",
   "execution_count": null,
   "metadata": {},
   "outputs": [],
   "source": [
    "evalues = solver.eigenvalues.T\n",
    "efuns = solver.eigenfunctions(X)\n",
    "kpm_modes = solver.compute_mode().T\n",
    "N_dict = np.shape(evalues)[0]\n",
    "\n",
    "resDMD_DL_outputs3 = {\n",
    "    'resDMD_DL_outputs':{\n",
    "    'efuns': efuns,\n",
    "    'evalues': evalues,\n",
    "    'kpm_modes': kpm_modes,\n",
    "    'N_dict':N_dict\n",
    "    }\n",
    "}\n",
    "\n",
    "print(resDMD_DL_outputs3['resDMD_DL_outputs']['evalues'])\n",
    "print(resDMD_DL_outputs3['resDMD_DL_outputs']['efuns'].shape)"
   ]
  }
 ],
 "metadata": {
  "kernelspec": {
   "display_name": "Python 3",
   "language": "python",
   "name": "python3"
  },
  "language_info": {
   "codemirror_mode": {
    "name": "ipython",
    "version": 3
   },
   "file_extension": ".py",
   "mimetype": "text/x-python",
   "name": "python",
   "nbconvert_exporter": "python",
   "pygments_lexer": "ipython3",
   "version": "3.8.18"
  }
 },
 "nbformat": 4,
 "nbformat_minor": 2
}
