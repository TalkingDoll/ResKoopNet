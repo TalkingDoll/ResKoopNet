{
 "cells": [
  {
   "cell_type": "code",
   "execution_count": 2,
   "metadata": {},
   "outputs": [
    {
     "name": "stdout",
     "output_type": "stream",
     "text": [
      "TensorFlow version: 2.10.0\n",
      "GPU is available\n"
     ]
    }
   ],
   "source": [
    "import numpy as np\n",
    "from numpy import linalg as la\n",
    "from numpy import *\n",
    "import numpy.linalg as la\n",
    "\n",
    "import matplotlib.pyplot as plt\n",
    "from sklearn.model_selection import train_test_split\n",
    "\n",
    "from scipy.io import loadmat\n",
    "import os\n",
    "import scipy.io as sio\n",
    "\n",
    "from koopman_pseudospec_qr import KoopPseudoSpecQR\n",
    "from matplotlib.colors import ListedColormap, BoundaryNorm\n",
    "\n",
    "import tensorflow as tf\n",
    "print(\"TensorFlow version:\", tf.__version__)\n",
    "print(\"GPU is\", \"available\" if tf.config.list_physical_devices('GPU') else \"NOT AVAILABLE\")"
   ]
  },
  {
   "cell_type": "code",
   "execution_count": null,
   "metadata": {},
   "outputs": [],
   "source": [
    "# Load the specified MAT-file using scipy.io.loadmat()\n",
    "file_path = 'data/pendulum_data/data_pendulum_90.mat'\n",
    "data_pendulum = loadmat(file_path)"
   ]
  },
  {
   "cell_type": "code",
   "execution_count": null,
   "metadata": {},
   "outputs": [],
   "source": [
    "# Assuming the loaded MAT-file is named data_pendulum_90\n",
    "X = data_pendulum['DATA_X']\n",
    "Y = data_pendulum['DATA_Y']\n",
    "\n",
    "print(X.shape)"
   ]
  },
  {
   "cell_type": "code",
   "execution_count": 3,
   "metadata": {},
   "outputs": [],
   "source": [
    "len_all = X.shape[0]\n",
    "data_x_train = X[:int(0.7*len_all)]\n",
    "data_x_valid = X[int(0.7*len_all)+1:]\n",
    "\n",
    "data_y_train = Y[:int(0.7*len_all)]\n",
    "data_y_valid = Y[int(0.7*len_all)+1:]\n",
    "\n",
    "data_train = [data_x_train, data_y_train]\n",
    "data_valid = [data_x_valid, data_y_valid]"
   ]
  },
  {
   "cell_type": "code",
   "execution_count": null,
   "metadata": {},
   "outputs": [],
   "source": [
    "### Train the basis using NN-resDMD\n",
    "### Calculate for chosen number of basis ###\n",
    "# Results from solver_resdmd_tf\n",
    "from solver_resdmd import KoopmanNN, KoopmanSolver\n",
    "\n",
    "dic_size = 300\n",
    "\n",
    "basis_function = KoopmanNN(layer_sizes=[300,300,300], n_psi_train=dic_size-3) # basis number would be 300\n",
    "\n",
    "solver = KoopmanSolver(dic=basis_function,\n",
    "                         target_dim=np.shape(data_x_train)[-1],\n",
    "                         reg=0.1)\n",
    "solver.build(data_train=data_train,\n",
    "             data_valid=data_valid,\n",
    "             epochs=30,\n",
    "             batch_size=50000,\n",
    "             lr=1e-5,\n",
    "             log_interval=10,\n",
    "             lr_decay_factor=.8)\n",
    "\n",
    "# Results from solver_edmd\n",
    "evalues = solver.eigenvalues.T\n",
    "efuns = solver.eigenfunctions(X)\n",
    "kpm_modes = solver.compute_mode().T\n",
    "N_dict = np.shape(evalues)[0]\n",
    "Psi_X = solver.get_Psi_X().numpy()\n",
    "Psi_Y = solver.get_Psi_Y().numpy()\n",
    "Koopman_matrix_K = solver.K.numpy()\n",
    "outputs = {\n",
    "    'efuns': efuns,\n",
    "    'evalues': evalues,\n",
    "    'kpm_modes': kpm_modes,\n",
    "    'N_dict': N_dict,\n",
    "    'K': Koopman_matrix_K,\n",
    "    'Psi_X': Psi_X,\n",
    "    'Psi_Y': Psi_Y,\n",
    "}"
   ]
  },
  {
   "cell_type": "code",
   "execution_count": null,
   "metadata": {},
   "outputs": [],
   "source": [
    "## Plot eigenvalues in a unit circle\n",
    "# Assuming evalues is a numpy array of complex numbers\n",
    "real_parts = evalues.real\n",
    "imag_parts = evalues.imag\n",
    "\n",
    "# Create the plot\n",
    "plt.figure(figsize=(8, 6))\n",
    "plt.scatter(real_parts, imag_parts, color='blue', label='Eigenvalues')\n",
    "\n",
    "# Draw a unit circle for reference\n",
    "theta = np.linspace(0, 2*np.pi, 100)\n",
    "plt.plot(np.cos(theta), np.sin(theta), linestyle='--', color='grey', label='Unit Circle')\n",
    "\n",
    "plt.title('Eigenvalues in Unit Circle')\n",
    "plt.xlabel('Real Part')\n",
    "plt.ylabel('Imaginary Part')\n",
    "plt.axis('equal')  # Ensure the aspect ratio is equal to make the unit circle round\n",
    "plt.grid(True, which='both', linestyle='--', linewidth=0.5)\n",
    "plt.legend()\n",
    "plt.show()"
   ]
  },
  {
   "cell_type": "code",
   "execution_count": 10,
   "metadata": {},
   "outputs": [],
   "source": [
    "# import os\n",
    "# import scipy.io as sio\n",
    "\n",
    "# # Define the folder path\n",
    "# folder_path = 'data/pendulum_data'\n",
    "# # Create the folder if it doesn't exist\n",
    "# os.makedirs(folder_path, exist_ok=True)\n",
    "\n",
    "# # Save the outputs to a .mat file named according to the number of basis functions, inside the specified folder\n",
    "# file_path = os.path.join(folder_path, f'pendulum_90_resdmd_{N_dict}basis.mat')\n",
    "# sio.savemat(file_path, outputs)\n",
    "# print(f'Saved outputs for n_psi_train={N_dict} to {file_path}')"
   ]
  },
  {
   "cell_type": "code",
   "execution_count": 4,
   "metadata": {},
   "outputs": [
    {
     "name": "stdout",
     "output_type": "stream",
     "text": [
      "[300]\n"
     ]
    }
   ],
   "source": [
    "file_path = 'pendulum_90_resdmd_300basis.mat'\n",
    "\n",
    "data_pendulum = loadmat(file_path)\n",
    "\n",
    "Psi_X = data_pendulum['Psi_X']\n",
    "Psi_Y = data_pendulum['Psi_Y']\n",
    "dic_size = data_pendulum['N_dict'][0]\n",
    "print(dic_size)"
   ]
  },
  {
   "cell_type": "code",
   "execution_count": null,
   "metadata": {},
   "outputs": [],
   "source": [
    "## Plot the pseudospectrum\n",
    "m= Psi_X.shape[0]\n",
    "print (m)\n",
    "W = np.ones((m, 1), dtype= np.double)\n",
    "G= np.dot(Psi_X.T , Psi_X)\n",
    "print (G.shape)\n",
    "print ('cond(G) is:',la.cond(G))\n",
    "x_pts= arange (-1.5, 1.5+0.05, 0.05)\n",
    "y_pts=x_pts\n",
    "print (x_pts.shape)\n",
    "x_pts_mesh,y_pts_mesh= meshgrid (x_pts, y_pts)\n",
    "z_pts= x_pts_mesh + 1j*y_pts_mesh\n",
    "z_pts= z_pts.ravel()\n",
    "RES= KoopPseudoSpecQR(Psi_X,Psi_Y,W,z_pts)\n",
    "RES= RES.reshape (x_pts_mesh.shape)\n",
    "\n",
    "lower_bound = 1e-16#; % Example lower bound\n",
    "#Find indices where the real part of RES is zero\n",
    "zero_real_indices =nonzero (np.real(RES)==0)\n",
    "#% Replace only the real part of RES elements that are zero with the lower bound\n",
    "RES[zero_real_indices] = lower_bound + imag(RES[zero_real_indices]) * 1j"
   ]
  },
  {
   "cell_type": "code",
   "execution_count": 5,
   "metadata": {},
   "outputs": [
    {
     "name": "stdout",
     "output_type": "stream",
     "text": [
      "62999\n",
      "(300, 300)\n",
      "cond(G) is: 3.333361679560518e+20\n",
      "(61,)\n"
     ]
    },
    {
     "name": "stderr",
     "output_type": "stream",
     "text": [
      "100%|██████████| 3721/3721 [02:39<00:00, 23.33it/s]\n",
      "C:\\Users\\xyc93\\AppData\\Local\\Temp\\ipykernel_20492\\2657340311.py:21: ComplexWarning: Casting complex values to real discards the imaginary part\n",
      "  RES[zero_real_indices] = lower_bound + imag(RES[zero_real_indices]) * 1j\n"
     ]
    },
    {
     "data": {
      "image/png": "[encoded data removed]",
      "text/plain": [
       "<Figure size 400x400 with 1 Axes>"
      ]
     },
     "metadata": {},
     "output_type": "display_data"
    }
   ],
   "source": [
    "## Plot the pseudospectrum\n",
    "plt.figure(figsize=(4, 4))  # Set the plot size (width, height) in inches\n",
    "v= array ([0.25, 1e-64])\n",
    "plt.contourf(x_pts_mesh,y_pts_mesh,log10(1/real(RES)),levels= log10(1/v))\n",
    "plt.contour(x_pts_mesh,y_pts_mesh,log10(1/real(RES)),levels= log10(1/v))\n",
    "circle_phi= arange (0, 2*np.pi ,2*np.pi/1000 )\n",
    "plt.plot (np.cos(circle_phi), np.sin(circle_phi), color= 'red')\n",
    "plt.title(f'N_K = {dic_size}')\n",
    "plt.grid()\n",
    "plt.show()"
   ]
  },
  {
   "cell_type": "code",
   "execution_count": null,
   "metadata": {},
   "outputs": [],
   "source": [
    "# ### Calculate for multiple numbers of basis ###\n",
    "\n",
    "# from solver_resdmd_tf import KoopmanNN, KoopmanSolver\n",
    "# # from solver_resdmd_2_tf import KoopmanNN, KoopmanSolver\n",
    "\n",
    "# dic_size = [25,50,100,150,200,250,300] # basis number would be 25, 50, 100, 150, 200, 250, 300\n",
    "\n",
    "# for n_psi in dic_size:\n",
    "#     # Initialize the basis function with the current value of n_psi_train\n",
    "#     basis_function = KoopmanNN(layer_sizes=[300,300,300], n_psi_train=n_psi-3)\n",
    "\n",
    "#     # Initialize the solver with the basis function and other parameters\n",
    "#     solver = KoopmanSolver(dic=basis_function,\n",
    "#                              target_dim=np.shape(data_x_train)[-1],\n",
    "#                              reg=0.1)\n",
    "#     # Build the solver with the specified training and validation data\n",
    "#     solver.build(data_train=data_train,\n",
    "#                  data_valid=data_valid,\n",
    "#                  epochs=300,\n",
    "#                  batch_size=50000,\n",
    "#                  lr=1e-6,\n",
    "#                  log_interval=10,\n",
    "#                  lr_decay_factor=.8)\n",
    "\n",
    "#     # Assuming the user has these functions or similar ones defined in their environment\n",
    "#     evalues = solver.eigenvalues.T\n",
    "#     efuns = solver.eigenfunctions(X)\n",
    "#     kpm_modes = solver.compute_mode().T\n",
    "#     N_dict = np.shape(evalues)[0]\n",
    "#     Koopman_matrix_K = solver.K.numpy()    \n",
    "#     Psi_X = solver.get_Psi_X().numpy()\n",
    "#     Psi_Y = solver.get_Psi_Y().numpy()\n",
    "#     outputs = {\n",
    "#         'efuns': efuns,\n",
    "#         'evalues': evalues,\n",
    "#         'kpm_modes': kpm_modes,\n",
    "#         'N_dict': N_dict,\n",
    "#         'K': Koopman_matrix_K,\n",
    "#         'Psi_X': Psi_X,\n",
    "#         'Psi_Y': Psi_Y,\n",
    "#         # 'Psi_X2': Psi_X2,\n",
    "#         # 'Psi_Y2': Psi_Y2,\n",
    "#         # \"Jacobian\": jacobian,  # Uncomment if needed\n",
    "#         # \"Hessian\": hessian,    # Uncomment if needed\n",
    "#     }\n",
    "\n",
    "#     folder_path = 'data/pendulum_data'  # Adjust the path as needed if you want a different location\n",
    "#     os.makedirs(folder_path, exist_ok=True)\n",
    "#     # Save the outputs to a .mat file named according to the number of basis functions, inside the \"data\" folder\n",
    "#     file_path = os.path.join(folder_path, f'pendulum_90_resdmd_{N_dict}basis.mat')\n",
    "#     sio.savemat(file_path, outputs)\n",
    "#     print(f'Saved outputs for n_psi_train={n_psi} to {file_path}')"
   ]
  }
 ],
 "metadata": {
  "kernelspec": {
   "display_name": "koopman",
   "language": "python",
   "name": "python3"
  },
  "language_info": {
   "codemirror_mode": {
    "name": "ipython",
    "version": 3
   },
   "file_extension": ".py",
   "mimetype": "text/x-python",
   "name": "python",
   "nbconvert_exporter": "python",
   "pygments_lexer": "ipython3",
   "version": "3.9.19"
  }
 },
 "nbformat": 4,
 "nbformat_minor": 2
}
