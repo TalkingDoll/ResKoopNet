{
 "cells": [
  {
   "cell_type": "code",
   "execution_count": 1,
   "id": "7aa13067",
   "metadata": {},
   "outputs": [],
   "source": [
    "import numpy as np\n",
    "import matplotlib.pyplot as plt\n",
    "import scipy.io\n",
    "import sys\n",
    "sys.path.append(\"../\")\n",
    "from algorithm.KoopPseudoSpec import KoopPseudoSpec\n",
    "# from algorithm.PhasePlot import PhasePlot"
   ]
  },
  {
   "cell_type": "code",
   "execution_count": 2,
   "id": "41e09e41",
   "metadata": {},
   "outputs": [],
   "source": [
    "# Load data from above computation - file available from the dropbox link\n",
    "data = scipy.io.loadmat('D:\\Residual-Dynamic-Mode-Decomposition-main\\Examples_gallery_1\\ResDMD_datasets\\pendulum_data.mat')\n",
    "A = data['A']\n",
    "del data\n"
   ]
  },
  {
   "cell_type": "code",
   "execution_count": 3,
   "id": "cc8b5712",
   "metadata": {},
   "outputs": [],
   "source": [
    "N1 =50\n",
    "N2 = 100\n",
    "\n",
    "Id1 = np.maximum(np.kron(np.abs(np.arange(-N1, N1+1)), np.ones(N2)), 1)\n",
    "Id2 = np.kron(np.ones(2*N1+1), np.arange(1, N2+1))\n",
    "N_trun = N2/5 # you can choose a N_trun distintc of 20\n",
    "Id3 = Id1 * Id2\n",
    "Id =np.array(np.where(Id3 < N_trun + 1)[0])\n",
    "\n",
    "A = A[Id][:,Id]  # sort out indexing"
   ]
  },
  {
   "cell_type": "code",
   "execution_count": 4,
   "id": "baed7818",
   "metadata": {},
   "outputs": [],
   "source": [
    "# Compute pseudospectra\n",
    "x_pts = np.arange(-1.5, 1.5, 0.05)\n",
    "y_pts = x_pts\n",
    "z_pts = np.kron(x_pts, np.ones(len(y_pts))) + 1j * np.kron(np.ones(len(x_pts)), y_pts)\n",
    "z_pts = z_pts.flatten()\n",
    "# Assuming KoopPseudoSpec is a function you have in Python\n",
    "RES = KoopPseudoSpec(np.eye(len(A)), A, np.eye(len(A)), z_pts)\n",
    "RES = RES[0].reshape(len(y_pts), len(x_pts))\n"
   ]
  },
  {
   "cell_type": "code",
   "execution_count": 5,
   "id": "a716293c",
   "metadata": {},
   "outputs": [],
   "source": [
    "# EDMD eigenvalues\n",
    "E = np.linalg.eig(A)[0]"
   ]
  },
  {
   "cell_type": "code",
   "execution_count": 6,
   "id": "b46af60d",
   "metadata": {},
   "outputs": [
    {
     "data": {
      "text/plain": [
       "[<matplotlib.lines.Line2D at 0x2006cf0a7f0>]"
      ]
     },
     "execution_count": 6,
     "metadata": {},
     "output_type": "execute_result"
    },
    {
     "data": {
      "image/png": "[encoded data removed]",
      "text/plain": [
       "<Figure size 432x288 with 1 Axes>"
      ]
     },
     "metadata": {
      "needs_background": "light"
     },
     "output_type": "display_data"
    }
   ],
   "source": [
    "# Plotting pseudospectrum\n",
    "z_pts1=z_pts.reshape(len(y_pts), len(x_pts))\n",
    "plt.figure()\n",
    "# Assuming you have the RES computed\n",
    "plt.contour(z_pts1.real, z_pts1.imag,  np.log10(RES.real), levels=np.log10([1e-50, 0.25]), colors='k', linewidths=1.5)\n",
    "plt.gca().set_aspect('equal', 'box')\n",
    "plt.plot(E.real, E.imag, '.m')\n",
    "plt.plot(np.exp(1j * np.linspace(0, 2*np.pi, 1000)).real, np.exp(1j * np.linspace(0, 2*np.pi, 1000)).imag, '-r')\n",
    "\n",
    "# # Compute approximate eigenvalues and eigenfunctions\n",
    "# E_test = [0.880347701848197 + 0.473226384533343j,\n",
    "#           0.558620606228836 + 0.826563250517901j,\n",
    "#           0.124674806328568 + 0.987209196182015j,\n",
    "#           -0.314745042094750 + 0.936136228237800j]\n",
    "# z = E_test[3]\n",
    "# z = z / abs(z)\n",
    "\n",
    "# xp1 = np.linspace(-np.pi, np.pi, 500)\n",
    "# xp1 = xp1 + (xp1[1] - xp1[0]) / 2\n",
    "# xp1 = xp1[:-1]\n",
    "# xp2 = np.linspace(-4, 4, len(xp1))\n",
    "# XpH = np.zeros((len(xp1), N2))\n",
    "# XpH[:, 0] = np.exp(-0.5 * xp2**2) / np.pi**0.25\n",
    "# XpH[:, 1] = XpH[:, 0] * np.sqrt(2) * xp2\n",
    "# for j in range(2, N2):\n",
    "#     XpH[:, j] = np.sqrt(2) / np.sqrt(j-1) * XpH[:, j-1] * xp2 - np.sqrt(j-2) / np.sqrt(j-1) * XpH[:, j-2]\n",
    "# XpF = np.exp(1j * np.outer(np.arange(-N1, N1+1), xp1))\n",
    "\n",
    "# H = np.eye(len(A)) - (z * A.T) - (z * A.T).conj() + abs(z)**2 * np.eye(len(A))\n",
    "# V, D = np.linalg.eig(H)\n",
    "# V2 = np.zeros(N2 * (2 * N1 + 1))\n",
    "# V = V2.reshape(N2, 2*N1+1)\n",
    "# PSI = (XpF.T @ V.T @ XpH.T).T\n",
    "\n",
    "# # Assuming PhasePlot is a function you have in Python\n",
    "# PhasePlot(xp1 + 1j * xp2, PSI, 'm')\n",
    "# plt.gca().fontsize = 14\n",
    "# plt.show()"
   ]
  }
 ],
 "metadata": {
  "kernelspec": {
   "display_name": "Python 3 (ipykernel)",
   "language": "python",
   "name": "python3"
  },
  "language_info": {
   "codemirror_mode": {
    "name": "ipython",
    "version": 3
   },
   "file_extension": ".py",
   "mimetype": "text/x-python",
   "name": "python",
   "nbconvert_exporter": "python",
   "pygments_lexer": "ipython3",
   "version": "3.8.18"
  }
 },
 "nbformat": 4,
 "nbformat_minor": 5
}
