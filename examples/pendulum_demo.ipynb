{
 "cells": [
  {
   "cell_type": "code",
   "execution_count": null,
   "metadata": {},
   "outputs": [],
   "source": [
    "import numpy as np\n",
    "import tensorflow as tf\n",
    "import matplotlib.pyplot as plt"
   ]
  },
  {
   "cell_type": "code",
   "execution_count": null,
   "metadata": {},
   "outputs": [],
   "source": [
    "import sys\n",
    "sys.path.append(\"../\")\n",
    "from algorithm.koopmanlib.dictionary import PsiNN\n",
    "from algorithm.koopmanlib.target import NonLinearPendulum # Duffing data comes from target.py, not other data source"
   ]
  },
  {
   "cell_type": "code",
   "execution_count": null,
   "metadata": {},
   "outputs": [],
   "source": [
    "basis_function = PsiNN(layer_sizes=[100,100,100], n_psi_train=61)"
   ]
  },
  {
   "cell_type": "code",
   "execution_count": null,
   "metadata": {},
   "outputs": [],
   "source": [
    "# Generate data\n",
    "pendulum_train = NonLinearPendulum(n_init=1000, traj_len=1000, seed=0)\n",
    "data_x_train = pendulum_train.generate_init_data()\n",
    "data_y_train = pendulum_train.generate_next_data(data_x_train)\n",
    "\n",
    "pendulum_valid = NonLinearPendulum(n_init=300, traj_len=1000, seed=0)\n",
    "data_x_valid = pendulum_valid.generate_init_data()\n",
    "data_y_valid = pendulum_valid.generate_next_data(data_x_valid)"
   ]
  },
  {
   "cell_type": "code",
   "execution_count": null,
   "metadata": {},
   "outputs": [],
   "source": [
    "# # Visualize data\n",
    "# fig, (ax1,ax2) = plt.subplots(1,2,sharey=True, figsize=(10,5))\n",
    "\n",
    "# ax1.plot(data_x_train[:,0], data_x_train[:,1], '.')\n",
    "# ax1.set_xlabel(r'$x_{1}$')\n",
    "# ax1.set_ylabel(r'$x_{2}$')\n",
    "# ax2.plot(data_x_valid[:,0], data_x_valid[:,1], '.')\n",
    "# ax2.set_xlabel(r'$x_{1}$')\n",
    "# ax2.set_ylabel(r'$x_{2}$')\n",
    "# plt.tight_layout()\n",
    "# Visualize data\n",
    "fig, (ax1, ax2) = plt.subplots(1, 2, sharey=True, figsize=(10, 5))\n",
    "\n",
    "ax1.plot(data_x_train[:, 0], data_x_train[:, 1], '.')\n",
    "ax1.set_xlabel(r'$x_{1}$')\n",
    "ax1.set_ylabel(r'$x_{2}$')\n",
    "ax1.set_title('Training Data')\n",
    "\n",
    "ax2.plot(data_x_valid[:, 0], data_x_valid[:, 1], '.')\n",
    "ax2.set_xlabel(r'$x_{1}$')\n",
    "ax2.set_ylabel(r'$x_{2}$')\n",
    "ax2.set_title('Validation Data')\n",
    "\n",
    "plt.tight_layout()\n",
    "plt.show()\n"
   ]
  },
  {
   "cell_type": "code",
   "execution_count": null,
   "metadata": {},
   "outputs": [],
   "source": [
    "data_train = [data_x_train, data_y_train]\n",
    "data_valid = [data_x_valid, data_y_valid]"
   ]
  },
  {
   "cell_type": "code",
   "execution_count": null,
   "metadata": {},
   "outputs": [],
   "source": [
    "from algorithm.koopmanlib.solver_3 import KoopmanDLSolver\n",
    "solver = KoopmanDLSolver(dic=basis_function,\n",
    "                         target_dim=2,\n",
    "                         reg=0.1)"
   ]
  },
  {
   "cell_type": "code",
   "execution_count": null,
   "metadata": {},
   "outputs": [],
   "source": [
    "solver.build(data_train=data_train,\n",
    "             data_valid=data_valid,\n",
    "             epochs=50,\n",
    "             batch_size=5000,\n",
    "             lr=1e-4,\n",
    "             log_interval=20,\n",
    "             lr_decay_factor=0.8)"
   ]
  },
  {
   "cell_type": "code",
   "execution_count": null,
   "metadata": {},
   "outputs": [],
   "source": [
    "# Results from solver3\n",
    "evalues = solver.eigenvalues.T\n",
    "efuns = solver.eigenfunctions(data_x_train)\n",
    "kpm_modes = solver.compute_mode().T\n",
    "N_dict = np.shape(evalues)[0]\n",
    "Psi_X, Psi_Y = solver.get_basis(data_train[0], data_train[1])\n",
    "\n",
    "resDMD_DL_outputs3 = {\n",
    "    'resDMD_DL_outputs':{\n",
    "    'efuns': efuns,\n",
    "    'evalues': evalues,\n",
    "    'kpm_modes': kpm_modes,\n",
    "    'N_dict':N_dict,\n",
    "    'Psi_X': Psi_X,\n",
    "    'Psi_Y': Psi_Y\n",
    "    }\n",
    "}\n",
    "\n",
    "np.save(\"pendulum_demo_outputs_solver3.npy\", resDMD_DL_outputs3, allow_pickle=True)\n",
    "\n",
    "print(resDMD_DL_outputs3['resDMD_DL_outputs']['evalues'])\n",
    "print(resDMD_DL_outputs3['resDMD_DL_outputs']['efuns'].shape)"
   ]
  },
  {
   "cell_type": "code",
   "execution_count": null,
   "metadata": {},
   "outputs": [],
   "source": [
    "A = np.array(Psi_X).T @ np.array(Psi_Y)"
   ]
  },
  {
   "cell_type": "code",
   "execution_count": null,
   "metadata": {},
   "outputs": [],
   "source": [
    "A.shape"
   ]
  },
  {
   "cell_type": "code",
   "execution_count": null,
   "metadata": {},
   "outputs": [],
   "source": [
    "N1 = 50\n",
    "N2 = 100\n",
    "\n",
    "Id1 = np.maximum(np.outer(np.abs(np.arange(-1*N1, N1+1)), np.ones(N2)), 1)\n",
    "Id2 = np.outer(np.ones(2*N1+1), np.arange(1, N2+1))\n",
    "# N_trun = N2\n",
    "N_trun = 10\n",
    "\n",
    "Id = np.where(np.abs(Id1.flatten()) * np.abs(Id2.flatten()) < N_trun + 1)\n",
    "A = A[Id][:, Id]  # sort out indexing\n",
    "A = A.reshape((Id[0].shape[0],Id[0].shape[0]))\n",
    "# A = A.reshape((964,964))\n",
    "\n",
    "# Compute pseudospectra\n",
    "x_pts = np.arange(-1.5, 1.5, 0.05)\n",
    "y_pts = x_pts\n",
    "z_pts = np.outer(x_pts, np.ones(len(y_pts))) + 1j * np.outer(np.ones(len(x_pts)), y_pts)\n",
    "z_pts = z_pts.flatten()\n",
    "\n",
    "\n"
   ]
  },
  {
   "cell_type": "code",
   "execution_count": null,
   "metadata": {},
   "outputs": [],
   "source": [
    "import sys\n",
    "sys.path.insert(0, 'C:\\\\Program Files\\\\MATLAB\\\\R2023a\\\\extern\\\\engines\\\\python')\n",
    "import matlab.engine\n",
    "eng = matlab.engine.start_matlab()\n",
    "# Add the directory containing KoopPseudoSpec.m to MATLAB's path\n",
    "eng.addpath('D:\\\\Residual-Dynamic-Mode-Decomposition-main\\\\main_routines', nargout=0)\n",
    "\n",
    "RES, _, _ = eng.KoopPseudoSpec(np.eye(len(A)), A, np.eye(len(A)), z_pts,nargout=3)\n",
    "# RES = KoopPseudoSpec(np.eye(len(A)), A, np.eye(len(A)), z_pts)\n",
    "RES = RES.reshape(len(y_pts), len(x_pts))\n",
    "\n",
    "print(type(RES))\n",
    "print(len(RES))\n",
    "\n",
    "# RES = np.array(RES)\n",
    "RES = np.asarray(RES)\n",
    "print(RES.shape)"
   ]
  },
  {
   "cell_type": "code",
   "execution_count": null,
   "metadata": {},
   "outputs": [],
   "source": [
    "from scipy.linalg import eigh, eig\n",
    "# EDMD eigenvalues\n",
    "E = eig(A)[0]"
   ]
  },
  {
   "cell_type": "code",
   "execution_count": null,
   "metadata": {},
   "outputs": [],
   "source": [
    "# Create a figure\n",
    "plt.figure()\n",
    "\n",
    "# Your MATLAB code uses a logarithmic scale for coloring based on the values of 1./real(RES),\n",
    "# and specifies custom contour levels based on log10(1./v)\n",
    "v = np.array([1e-50, 0.25])  # v array as specified in your MATLAB code\n",
    "contour_levels = np.log10(1.0 / v)  # Calculate contour levels\n",
    "contour_levels = sorted(list(contour_levels))\n",
    "# Reshape real and imaginary parts of z_pts\n",
    "real_z_reshaped = np.reshape(np.real(z_pts), (len(y_pts), len(x_pts)))\n",
    "imag_z_reshaped = np.reshape(np.imag(z_pts), (len(y_pts), len(x_pts)))\n",
    "\n",
    "# Get log10 of 1./real(RES)\n",
    "log_res = np.log10(1.0 / np.real(RES))\n",
    "\n",
    "# Create a filled contour plot\n",
    "contour = plt.contourf(real_z_reshaped, imag_z_reshaped, log_res, levels=contour_levels, colors='#999999')\n",
    "\n",
    "# Set the linewidth of the contour lines\n",
    "for c in contour.collections:\n",
    "    c.set_linewidth(1.5)\n",
    "plt.gca().set_aspect('equal', 'box')\n",
    "plt.plot(E.real, E.imag, '.m')\n",
    "plt.plot(np.exp(1j * np.linspace(0, 2*np.pi, 1000)).real, np.exp(1j * np.linspace(0, 2*np.pi, 1000)).imag, '-r')\n",
    "# Display the plot\n",
    "plt.show()"
   ]
  }
 ],
 "metadata": {
  "kernelspec": {
   "display_name": "koopman",
   "language": "python",
   "name": "python3"
  },
  "language_info": {
   "codemirror_mode": {
    "name": "ipython",
    "version": 3
   },
   "file_extension": ".py",
   "mimetype": "text/x-python",
   "name": "python",
   "nbconvert_exporter": "python",
   "pygments_lexer": "ipython3",
   "version": "3.8.18"
  }
 },
 "nbformat": 4,
 "nbformat_minor": 2
}
