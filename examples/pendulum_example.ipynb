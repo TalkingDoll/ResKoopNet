{
 "cells": [
  {
   "cell_type": "code",
   "execution_count": null,
   "metadata": {},
   "outputs": [],
   "source": [
    "import numpy as np\n",
    "import matplotlib.pyplot as plt\n",
    "# from scipy.linalg import eigh\n",
    "# from scipy.sparse.linalg import eigs\n",
    "\n",
    "import scipy.io\n",
    "import sys\n",
    "sys.path.append(\"../\")\n",
    "\n",
    "from algorithm.KoopPseudoSpec import KoopPseudoSpec\n",
    "from algorithm.PhasePlot import PhasePlot\n",
    "# import mat73"
   ]
  },
  {
   "cell_type": "code",
   "execution_count": null,
   "metadata": {},
   "outputs": [],
   "source": [
    "# Load data from above computation - file available from the dropbox link\n",
    "data = scipy.io.loadmat('pendulum_data.mat')"
   ]
  },
  {
   "cell_type": "code",
   "execution_count": null,
   "metadata": {},
   "outputs": [],
   "source": [
    "A = data['A']\n",
    "N1 = int(data['N1'])\n",
    "N2 = int(data['N2'])\n",
    "\n",
    "# Create index arrays\n",
    "Id1 = np.maximum(np.kron(np.abs(np.arange(-N1, N1+1)), np.ones(N2)), 1)\n",
    "Id2 = np.kron(np.ones(2*N1+1), np.arange(1, N2+1))\n",
    "\n",
    "# Apply condition and reshape A\n",
    "# N_trun = N2\n",
    "N_trun = 20\n",
    "Id = np.where((np.abs(Id1) * np.abs(Id2)) < (N_trun + 1))[0]\n",
    "A = A[Id, :][:, Id]"
   ]
  },
  {
   "cell_type": "code",
   "execution_count": null,
   "metadata": {},
   "outputs": [],
   "source": [
    "# Compute pseudospectra\n",
    "x_pts = np.arange(-1.5, 1.5, 0.05)\n",
    "y_pts = x_pts\n",
    "z_pts = np.outer(x_pts, np.ones(len(y_pts))) + 1j * np.outer(np.ones(len(x_pts)), y_pts)\n",
    "z_pts = z_pts.flatten()\n",
    "\n",
    "# Assuming KoopPseudoSpec is a function you have in Python\n",
    "RES = KoopPseudoSpec(np.eye(len(A)), A, np.eye(len(A)), z_pts)\n",
    "# RES = RES.reshape(len(y_pts), len(x_pts))"
   ]
  },
  {
   "cell_type": "code",
   "execution_count": null,
   "metadata": {},
   "outputs": [],
   "source": [
    "# Handle the output of KoopPseudoSpec\n",
    "if isinstance(RES, tuple):\n",
    "    RES = RES[0]  # Assuming the data you want is the first element of the tuple\n",
    "RES = np.array(RES).reshape(len(y_pts), len(x_pts))"
   ]
  },
  {
   "cell_type": "code",
   "execution_count": null,
   "metadata": {},
   "outputs": [],
   "source": [
    "# EDMD eigenvalues\n",
    "E = np.linalg.eig(A)[0]\n"
   ]
  },
  {
   "cell_type": "code",
   "execution_count": null,
   "metadata": {},
   "outputs": [],
   "source": [
    "# Plotting\n",
    "plt.figure(figsize=(8, 8))\n",
    "# Assuming you have the RES computed\n",
    "# plt.contourf(z_pts.real.reshape(len(y_pts), len(x_pts)), z_pts.imag.reshape(len(y_pts), len(x_pts)), np.log10(1./RES.real), levels=np.log10([1e-50, 0.25]), colors='k', linewidths=1.5)\n",
    "plt.contourf(z_pts.real.reshape(len(y_pts), len(x_pts)), \n",
    "             z_pts.imag.reshape(len(y_pts), len(x_pts)), \n",
    "             np.log10(1./np.abs(RES)), \n",
    "             levels=np.log10([1e-50, 0.25]), \n",
    "             colors='k')\n",
    "plt.gca().set_aspect('equal', 'box')\n",
    "plt.plot(E.real, E.imag, '.m')\n",
    "plt.plot(np.exp(1j * np.linspace(0, 2*np.pi, 1000)).real, np.exp(1j * np.linspace(0, 2*np.pi, 1000)).imag, '-r')\n",
    "plt.title(\"N_K = 152\", fontsize=25) # Need to modify the number 152 by some variable\n",
    "plt.show()"
   ]
  },
  {
   "cell_type": "code",
   "execution_count": null,
   "metadata": {},
   "outputs": [],
   "source": [
    "# Plotting\n",
    "plt.figure(figsize=(8, 8))\n",
    "v = [1e-50, 0.25]\n",
    "contour_vals = np.log10(1. / np.real(RES))\n",
    "contour_levels = np.linspace(np.log10(1. / v[1]), np.log10(1. / v[0]), 10)\n",
    "plt.contourf(z_pts.real.reshape(len(y_pts), len(x_pts)), \n",
    "             z_pts.imag.reshape(len(y_pts), len(x_pts)), \n",
    "             contour_vals, \n",
    "             levels=contour_levels, \n",
    "             colors='k')\n",
    "\n",
    "\n",
    "# Other plot settings\n",
    "plt.gca().set_aspect('equal', 'box')\n",
    "plt.gca().invert_yaxis()  # to match MATLAB's y-axis direction\n",
    "plt.colorbar()\n",
    "plt.xlabel('Re(λ)')\n",
    "plt.ylabel('Im(λ)')\n",
    "plt.plot(E.real, E.imag, '.m')\n",
    "plt.plot(np.exp(1j * np.linspace(0, 2 * np.pi, 1000)).real, np.exp(1j * np.linspace(0, 2 * np.pi, 1000)).imag, '-r')\n",
    "plt.show()"
   ]
  },
  {
   "cell_type": "code",
   "execution_count": null,
   "metadata": {},
   "outputs": [],
   "source": [
    "# # Compute approximate eigenvalues and eigenfunctions\n",
    "# E_test = [0.880347701848197 + 0.473226384533343j,\n",
    "#           0.558620606228836 + 0.826563250517901j,\n",
    "#           0.124674806328568 + 0.987209196182015j,\n",
    "#           -0.314745042094750 + 0.936136228237800j]\n",
    "# z = E_test[3]\n",
    "# z = z / abs(z)\n",
    "\n",
    "# xp1 = np.linspace(-np.pi, np.pi, 500)\n",
    "# xp1 = xp1 + (xp1[1] - xp1[0]) / 2\n",
    "# xp1 = xp1[:-1]\n",
    "# xp2 = np.linspace(-4, 4, len(xp1))\n",
    "# XpH = np.zeros((len(xp1), N2))\n",
    "# XpH[:, 0] = np.exp(-0.5 * xp2**2) / np.pi**0.25\n",
    "# XpH[:, 1] = XpH[:, 0] * np.sqrt(2) * xp2\n",
    "# for j in range(2, N2):\n",
    "#     XpH[:, j] = np.sqrt(2) / np.sqrt(j-1) * XpH[:, j-1] * xp2 - np.sqrt(j-2) / np.sqrt(j-1) * XpH[:, j-2]\n",
    "# XpF = np.exp(1j * np.outer(np.arange(-N1, N1+1), xp1))\n",
    "\n",
    "# H = np.eye(len(A)) - (z * A.T) - (z * A.T).conj() + abs(z)**2 * np.eye(len(A))\n",
    "# V, D = eigs(H, k=1, which='SM')\n",
    "# V2 = np.zeros(N2 * (2 * N1 + 1))\n",
    "# V2[Id] = V\n",
    "# V = V2.reshape(N2, 2*N1+1)\n",
    "# PSI = (XpF @ V.T @ XpH.T).T\n",
    "\n",
    "# # Assuming PhasePlot is a function you have in Python\n",
    "# PhasePlot(xp1 + 1j * xp2, PSI, 'm')\n",
    "# plt.gca().fontsize = 14\n",
    "# plt.show()"
   ]
  }
 ],
 "metadata": {
  "kernelspec": {
   "display_name": "Python 3",
   "language": "python",
   "name": "python3"
  },
  "language_info": {
   "codemirror_mode": {
    "name": "ipython",
    "version": 3
   },
   "file_extension": ".py",
   "mimetype": "text/x-python",
   "name": "python",
   "nbconvert_exporter": "python",
   "pygments_lexer": "ipython3",
   "version": "3.8.18"
  }
 },
 "nbformat": 4,
 "nbformat_minor": 2
}
