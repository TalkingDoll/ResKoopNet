{
 "cells": [
  {
   "cell_type": "code",
   "execution_count": 1,
   "metadata": {},
   "outputs": [],
   "source": [
    "import numpy as np\n",
    "import matplotlib.pyplot as plt\n",
    "from scipy.linalg import eigh\n",
    "from scipy.sparse.linalg import eigs\n",
    "import scipy.io\n",
    "import sys\n",
    "sys.path.append(\"../\")\n",
    "from algorithm.KoopPseudoSpec import KoopPseudoSpec\n",
    "from algorithm.PhasePlot import PhasePlot\n",
    "# import mat73"
   ]
  },
  {
   "cell_type": "code",
   "execution_count": 2,
   "metadata": {},
   "outputs": [],
   "source": [
    "# Load data from above computation - file available from the dropbox link\n",
    "\n",
    "data = scipy.io.loadmat('pendulum_data.mat')"
   ]
  },
  {
   "cell_type": "code",
   "execution_count": 6,
   "metadata": {},
   "outputs": [
    {
     "name": "stdout",
     "output_type": "stream",
     "text": [
      "[[-2.24111143e-16-1.48613804e-16j -8.39620911e-17-1.22020490e-15j\n",
      "  -1.81262532e-16+8.01817510e-17j ... -8.86967707e-18+1.44827380e-15j\n",
      "   8.44599535e-16-2.97651241e-17j -2.38812908e-17+8.87773462e-16j]\n",
      " [-4.73655608e-17-1.02012011e-15j  3.35661852e-16-1.45648716e-16j\n",
      "   1.11173989e-16+9.42093652e-16j ... -1.10795278e-15-4.15585500e-17j\n",
      "  -2.50640508e-17+4.16911101e-16j  6.19790848e-16+1.00777755e-16j]\n",
      " [ 6.75076124e-16-6.23029108e-17j  2.00874741e-17-1.23057407e-15j\n",
      "   1.87912031e-16-1.54932359e-16j ...  6.74516702e-17+7.36125764e-16j\n",
      "  -6.59645313e-16+7.15370827e-18j  2.90049165e-18+1.10987249e-15j]\n",
      " ...\n",
      " [ 1.40848529e-17-4.85716577e-16j -8.84277837e-16+5.22775407e-17j\n",
      "   6.83995841e-17-8.24840049e-16j ...  5.94007588e-16+2.03813672e-16j\n",
      "  -6.65642589e-17+9.77964718e-16j -1.55450385e-16-4.59848021e-17j]\n",
      " [ 8.44599535e-16+2.97651241e-17j -2.38812908e-17-8.87773462e-16j\n",
      "  -3.23475215e-16-2.40020688e-18j ...  6.43698978e-17-9.60204211e-16j\n",
      "  -2.24111143e-16+1.48613804e-16j -8.39620911e-17+1.22020490e-15j]\n",
      " [-2.50640508e-17-4.16911101e-16j  6.19790848e-16-1.00777755e-16j\n",
      "   1.76095917e-17-8.32477495e-16j ...  1.12012748e-15-7.70331641e-17j\n",
      "  -4.73655608e-17+1.02012011e-15j  3.35661852e-16+1.45648716e-16j]]\n"
     ]
    },
    {
     "ename": "ArpackNoConvergence",
     "evalue": "ARPACK error -1: No convergence (9641 iterations, 0/1 eigenvectors converged) [ARPACK error -14: ZNAUPD did not find any eigenvalues to sufficient accuracy.]",
     "output_type": "error",
     "traceback": [
      "\u001b[1;31m---------------------------------------------------------------------------\u001b[0m",
      "\u001b[1;31mArpackNoConvergence\u001b[0m                       Traceback (most recent call last)",
      "\u001b[1;32md:\\resDMD\\examples\\pendulum_example.ipynb Cell 3\u001b[0m line \u001b[0;36m<cell line: 23>\u001b[1;34m()\u001b[0m\n\u001b[0;32m     <a href='vscode-notebook-cell:/d%3A/resDMD/examples/pendulum_example.ipynb#W4sZmlsZQ%3D%3D?line=19'>20</a>\u001b[0m z_pts \u001b[39m=\u001b[39m z_pts\u001b[39m.\u001b[39mflatten()\n\u001b[0;32m     <a href='vscode-notebook-cell:/d%3A/resDMD/examples/pendulum_example.ipynb#W4sZmlsZQ%3D%3D?line=21'>22</a>\u001b[0m \u001b[39m# Assuming KoopPseudoSpec is a function you have in Python\u001b[39;00m\n\u001b[1;32m---> <a href='vscode-notebook-cell:/d%3A/resDMD/examples/pendulum_example.ipynb#W4sZmlsZQ%3D%3D?line=22'>23</a>\u001b[0m RES \u001b[39m=\u001b[39m KoopPseudoSpec(np\u001b[39m.\u001b[39;49meye(\u001b[39mlen\u001b[39;49m(A)), A, np\u001b[39m.\u001b[39;49meye(\u001b[39mlen\u001b[39;49m(A)), z_pts)\n\u001b[0;32m     <a href='vscode-notebook-cell:/d%3A/resDMD/examples/pendulum_example.ipynb#W4sZmlsZQ%3D%3D?line=23'>24</a>\u001b[0m RES \u001b[39m=\u001b[39m RES\u001b[39m.\u001b[39mreshape(\u001b[39mlen\u001b[39m(y_pts), \u001b[39mlen\u001b[39m(x_pts))\n\u001b[0;32m     <a href='vscode-notebook-cell:/d%3A/resDMD/examples/pendulum_example.ipynb#W4sZmlsZQ%3D%3D?line=25'>26</a>\u001b[0m \u001b[39m# EDMD eigenvalues\u001b[39;00m\n",
      "File \u001b[1;32md:\\resDMD\\examples\\..\\algorithm\\KoopPseudoSpec.py:32\u001b[0m, in \u001b[0;36mKoopPseudoSpec\u001b[1;34m(G, A, L, z_pts, parallel, z_pts2, reg_param)\u001b[0m\n\u001b[0;32m     30\u001b[0m \u001b[39melse\u001b[39;00m:\n\u001b[0;32m     31\u001b[0m     \u001b[39mfor\u001b[39;00m jj \u001b[39min\u001b[39;00m \u001b[39mrange\u001b[39m(LL):\n\u001b[1;32m---> 32\u001b[0m         RES[jj] \u001b[39m=\u001b[39m compute_res(jj)\n\u001b[0;32m     34\u001b[0m \u001b[39m# Compute RES2 and V2\u001b[39;00m\n\u001b[0;32m     35\u001b[0m RES2 \u001b[39m=\u001b[39m []\n",
      "File \u001b[1;32md:\\resDMD\\examples\\..\\algorithm\\KoopPseudoSpec.py:24\u001b[0m, in \u001b[0;36mKoopPseudoSpec.<locals>.compute_res\u001b[1;34m(jj)\u001b[0m\n\u001b[0;32m     23\u001b[0m \u001b[39mdef\u001b[39;00m \u001b[39mcompute_res\u001b[39m(jj):\n\u001b[1;32m---> 24\u001b[0m     val \u001b[39m=\u001b[39m eigs(SQ \u001b[39m@\u001b[39;49m (L \u001b[39m-\u001b[39;49m z_pts[jj] \u001b[39m*\u001b[39;49m A\u001b[39m.\u001b[39;49mT \u001b[39m-\u001b[39;49m np\u001b[39m.\u001b[39;49mconj(z_pts[jj]) \u001b[39m*\u001b[39;49m A \u001b[39m+\u001b[39;49m \u001b[39mabs\u001b[39;49m(z_pts[jj])\u001b[39m*\u001b[39;49m\u001b[39m*\u001b[39;49m\u001b[39m2\u001b[39;49m \u001b[39m*\u001b[39;49m G) \u001b[39m@\u001b[39;49m SQ, k\u001b[39m=\u001b[39;49m\u001b[39m1\u001b[39;49m, which\u001b[39m=\u001b[39;49m\u001b[39m'\u001b[39;49m\u001b[39mSM\u001b[39;49m\u001b[39m'\u001b[39;49m)[\u001b[39m0\u001b[39m]\n\u001b[0;32m     25\u001b[0m     \u001b[39mreturn\u001b[39;00m np\u001b[39m.\u001b[39msqrt(val\u001b[39m.\u001b[39mreal)\n",
      "File \u001b[1;32mc:\\Users\\Jason\\miniconda3\\envs\\koopman\\lib\\site-packages\\scipy\\sparse\\linalg\\_eigen\\arpack\\arpack.py:1352\u001b[0m, in \u001b[0;36meigs\u001b[1;34m(A, k, M, sigma, which, v0, ncv, maxiter, tol, return_eigenvectors, Minv, OPinv, OPpart)\u001b[0m\n\u001b[0;32m   1350\u001b[0m \u001b[39mwith\u001b[39;00m _ARPACK_LOCK:\n\u001b[0;32m   1351\u001b[0m     \u001b[39mwhile\u001b[39;00m \u001b[39mnot\u001b[39;00m params\u001b[39m.\u001b[39mconverged:\n\u001b[1;32m-> 1352\u001b[0m         params\u001b[39m.\u001b[39;49miterate()\n\u001b[0;32m   1354\u001b[0m     \u001b[39mreturn\u001b[39;00m params\u001b[39m.\u001b[39mextract(return_eigenvectors)\n",
      "File \u001b[1;32mc:\\Users\\Jason\\miniconda3\\envs\\koopman\\lib\\site-packages\\scipy\\sparse\\linalg\\_eigen\\arpack\\arpack.py:757\u001b[0m, in \u001b[0;36m_UnsymmetricArpackParams.iterate\u001b[1;34m(self)\u001b[0m\n\u001b[0;32m    755\u001b[0m     \u001b[39mpass\u001b[39;00m\n\u001b[0;32m    756\u001b[0m \u001b[39melif\u001b[39;00m \u001b[39mself\u001b[39m\u001b[39m.\u001b[39minfo \u001b[39m==\u001b[39m \u001b[39m1\u001b[39m:\n\u001b[1;32m--> 757\u001b[0m     \u001b[39mself\u001b[39;49m\u001b[39m.\u001b[39;49m_raise_no_convergence()\n\u001b[0;32m    758\u001b[0m \u001b[39melse\u001b[39;00m:\n\u001b[0;32m    759\u001b[0m     \u001b[39mraise\u001b[39;00m ArpackError(\u001b[39mself\u001b[39m\u001b[39m.\u001b[39minfo, infodict\u001b[39m=\u001b[39m\u001b[39mself\u001b[39m\u001b[39m.\u001b[39miterate_infodict)\n",
      "File \u001b[1;32mc:\\Users\\Jason\\miniconda3\\envs\\koopman\\lib\\site-packages\\scipy\\sparse\\linalg\\_eigen\\arpack\\arpack.py:377\u001b[0m, in \u001b[0;36m_ArpackParams._raise_no_convergence\u001b[1;34m(self)\u001b[0m\n\u001b[0;32m    375\u001b[0m     vec \u001b[39m=\u001b[39m np\u001b[39m.\u001b[39mzeros((\u001b[39mself\u001b[39m\u001b[39m.\u001b[39mn, \u001b[39m0\u001b[39m))\n\u001b[0;32m    376\u001b[0m     k_ok \u001b[39m=\u001b[39m \u001b[39m0\u001b[39m\n\u001b[1;32m--> 377\u001b[0m \u001b[39mraise\u001b[39;00m ArpackNoConvergence(msg \u001b[39m%\u001b[39m (num_iter, k_ok, \u001b[39mself\u001b[39m\u001b[39m.\u001b[39mk), ev, vec)\n",
      "\u001b[1;31mArpackNoConvergence\u001b[0m: ARPACK error -1: No convergence (9641 iterations, 0/1 eigenvectors converged) [ARPACK error -14: ZNAUPD did not find any eigenvalues to sufficient accuracy.]"
     ]
    }
   ],
   "source": [
    "A = data['A']\n",
    "N1 = int(data['N1'])\n",
    "N2 = int(data['N2'])\n",
    "\n",
    "# Create index arrays\n",
    "Id1 = np.maximum(np.kron(np.abs(np.arange(-N1, N1+1)), np.ones(N2)), 1)\n",
    "Id2 = np.kron(np.ones(2*N1+1), np.arange(1, N2+1))\n",
    "\n",
    "# Apply condition and reshape A\n",
    "N_trun = N2\n",
    "Id = np.where((np.abs(Id1) * np.abs(Id2)) < (N_trun + 1))[0]\n",
    "A = A[Id, :][:, Id]\n",
    "\n",
    "# Compute pseudospectra\n",
    "x_pts = np.arange(-1.5, 1.5, 0.05)\n",
    "y_pts = x_pts\n",
    "z_pts = np.outer(x_pts, np.ones(len(y_pts))) + 1j * np.outer(np.ones(len(x_pts)), y_pts)\n",
    "z_pts = z_pts.flatten()\n",
    "\n",
    "# Assuming KoopPseudoSpec is a function you have in Python\n",
    "RES = KoopPseudoSpec(np.eye(len(A)), A, np.eye(len(A)), z_pts)\n",
    "RES = RES.reshape(len(y_pts), len(x_pts))\n",
    "\n",
    "# EDMD eigenvalues\n",
    "E = eigh(A)[0]\n",
    "\n",
    "# Plotting\n",
    "plt.figure()\n",
    "# Assuming you have the RES computed\n",
    "# plt.contourf(z_pts.real.reshape(len(y_pts), len(x_pts)), z_pts.imag.reshape(len(y_pts), len(x_pts)), np.log10(1./RES.real), levels=np.log10([1e-50, 0.25]), colors='k', linewidths=1.5)\n",
    "plt.gca().set_aspect('equal', 'box')\n",
    "plt.plot(E.real, E.imag, '.m')\n",
    "plt.plot(np.exp(1j * np.linspace(0, 2*np.pi, 1000)).real, np.exp(1j * np.linspace(0, 2*np.pi, 1000)).imag, '-r')\n",
    "\n",
    "# Compute approximate eigenvalues and eigenfunctions\n",
    "E_test = [0.880347701848197 + 0.473226384533343j,\n",
    "          0.558620606228836 + 0.826563250517901j,\n",
    "          0.124674806328568 + 0.987209196182015j,\n",
    "          -0.314745042094750 + 0.936136228237800j]\n",
    "z = E_test[3]\n",
    "z = z / abs(z)\n",
    "\n",
    "xp1 = np.linspace(-np.pi, np.pi, 500)\n",
    "xp1 = xp1 + (xp1[1] - xp1[0]) / 2\n",
    "xp1 = xp1[:-1]\n",
    "xp2 = np.linspace(-4, 4, len(xp1))\n",
    "XpH = np.zeros((len(xp1), N2))\n",
    "XpH[:, 0] = np.exp(-0.5 * xp2**2) / np.pi**0.25\n",
    "XpH[:, 1] = XpH[:, 0] * np.sqrt(2) * xp2\n",
    "for j in range(2, N2):\n",
    "    XpH[:, j] = np.sqrt(2) / np.sqrt(j-1) * XpH[:, j-1] * xp2 - np.sqrt(j-2) / np.sqrt(j-1) * XpH[:, j-2]\n",
    "XpF = np.exp(1j * np.outer(np.arange(-N1, N1+1), xp1))\n",
    "\n",
    "H = np.eye(len(A)) - (z * A.T) - (z * A.T).conj() + abs(z)**2 * np.eye(len(A))\n",
    "V, D = eigs(H, k=1, which='SM')\n",
    "V2 = np.zeros(N2 * (2 * N1 + 1))\n",
    "V2[Id] = V\n",
    "V = V2.reshape(N2, 2*N1+1)\n",
    "PSI = (XpF @ V.T @ XpH.T).T\n",
    "\n",
    "# Assuming PhasePlot is a function you have in Python\n",
    "PhasePlot(xp1 + 1j * xp2, PSI, 'm')\n",
    "plt.gca().fontsize = 14\n",
    "plt.show()"
   ]
  }
 ],
 "metadata": {
  "kernelspec": {
   "display_name": "Python 3",
   "language": "python",
   "name": "python3"
  },
  "language_info": {
   "codemirror_mode": {
    "name": "ipython",
    "version": 3
   },
   "file_extension": ".py",
   "mimetype": "text/x-python",
   "name": "python",
   "nbconvert_exporter": "python",
   "pygments_lexer": "ipython3",
   "version": "3.8.18"
  }
 },
 "nbformat": 4,
 "nbformat_minor": 2
}
