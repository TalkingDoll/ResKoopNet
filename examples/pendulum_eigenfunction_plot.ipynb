{
 "cells": [
  {
   "cell_type": "code",
   "execution_count": null,
   "metadata": {},
   "outputs": [],
   "source": [
    "import numpy as np\n",
    "import matplotlib.pyplot as plt\n",
    "import sys\n",
    "sys.path.append(\"../\")\n"
   ]
  },
  {
   "cell_type": "code",
   "execution_count": null,
   "metadata": {},
   "outputs": [],
   "source": [
    "from scipy.io import loadmat\n",
    "# Load the MAT file\n",
    "mat_data = loadmat('solver6_outputs_300basis_240_i.mat')\n",
    "# Extract efuns\n",
    "efuns = mat_data['efuns']\n",
    "# Load the MAT file\n",
    "mat_data = loadmat('data_pendulum_240_i.mat')\n",
    "# Extract efuns\n",
    "DATA_X = mat_data['DATA_X']"
   ]
  },
  {
   "cell_type": "code",
   "execution_count": null,
   "metadata": {},
   "outputs": [],
   "source": [
    "import numpy as np\n",
    "import matplotlib.pyplot as plt\n",
    "import matplotlib.colors as colors\n",
    "\n",
    "# Normalize the real part of the eigenfunctions\n",
    "phi_real = np.real(efuns)\n",
    "phi_real[:, 1] /= np.max(np.abs(phi_real[:, 1]))  # Normalize only the second eigenfunction\n",
    "\n",
    "# Determine the eigenfunction value range that corresponds to the limit cycle\n",
    "limit_cycle_value_range = (-0.02, 0.02)  # This is an example and would need to be adjusted based on your data\n",
    "\n",
    "# Create a colormap that has a distinct color transition around the limit cycle values\n",
    "eigenfunction_cmap = plt.cm.RdBu  # This is an example colormap \n",
    "\n",
    "# Normalize the colormap to emphasize the limit cycle range\n",
    "eigenfunction_norm = colors.Normalize(vmin=limit_cycle_value_range[0], vmax=limit_cycle_value_range[1])\n",
    "\n",
    "# Plotting the eigenfunction with adjusted color scale\n",
    "num_modes = 6\n",
    "for i in range(num_modes):\n",
    "    plt.figure(figsize=(8, 6))\n",
    "    scatter_real = plt.scatter(DATA_X[:, 0], DATA_X[:, 1]*0.7, c=phi_real[:, i], cmap=eigenfunction_cmap, norm=eigenfunction_norm)\n",
    "    plt.colorbar(scatter_real, orientation='vertical', fraction=0.05)\n",
    "    plt.title(f'Eigenfunction {i+1} (Real)', fontsize=16)\n",
    "    plt.xlabel('Angle (radians)', fontsize=14)\n",
    "    plt.ylabel('Momentum', fontsize=14)\n",
    "    plt.tight_layout()\n",
    "    plt.savefig(f\"Eigenfunction_{i+1}.png\", bbox_inches='tight')\n",
    "    plt.show()    \n"
   ]
  },
  {
   "cell_type": "code",
   "execution_count": null,
   "metadata": {},
   "outputs": [],
   "source": [
    "# Plotting the eigenfunction with adjusted color scale\n",
    "num_modes = 6\n",
    "y_center = 0  # Center of zoom\n",
    "y_range = 3   # Range to zoom in on either side of the center\n",
    "\n",
    "for i in range(num_modes):\n",
    "    plt.figure(figsize=(10, 6))\n",
    "    scatter_real = plt.scatter(DATA_X[:, 0], DATA_X[:, 1], c=phi_real[:, i], cmap=eigenfunction_cmap, norm=eigenfunction_norm)\n",
    "    plt.colorbar(scatter_real, orientation='vertical', fraction=0.05)\n",
    "    plt.title(f'Eigenfunction {i+1} (Real)', fontsize=16)\n",
    "    plt.xlabel('Angle (radians)', fontsize=14)\n",
    "    plt.ylabel('Momentum', fontsize=14)\n",
    "    plt.ylim(y_center - y_range, y_center + y_range)  # Zoom in on y=0\n",
    "    plt.tight_layout()\n",
    "    plt.savefig(f\"Eigenfunction_{i+1}_centre.png\", bbox_inches='tight')\n",
    "    plt.show()    \n"
   ]
  },
  {
   "cell_type": "code",
   "execution_count": null,
   "metadata": {},
   "outputs": [],
   "source": [
    "from scipy.io import loadmat\n",
    "# Load the MAT file\n",
    "mat_data = loadmat('solver6_outputs_250basis_210_i.mat')\n",
    "# Extract efuns\n",
    "efuns = mat_data['efuns']\n",
    "# Load the MAT file\n",
    "mat_data = loadmat('data_pendulum_210_i.mat')\n",
    "# Extract efuns\n",
    "DATA_X = mat_data['DATA_X']"
   ]
  },
  {
   "cell_type": "code",
   "execution_count": null,
   "metadata": {},
   "outputs": [],
   "source": [
    "import numpy as np\n",
    "import matplotlib.pyplot as plt\n",
    "import matplotlib.colors as colors\n",
    "\n",
    "# Normalize the real part of the eigenfunctions\n",
    "phi_real = np.real(efuns)\n",
    "phi_real[:, 1] /= np.max(np.abs(phi_real[:, 1]))  # Normalize only the second eigenfunction\n",
    "\n",
    "# Determine the eigenfunction value range that corresponds to the limit cycle\n",
    "limit_cycle_value_range = (-0.02, 0.02)  # This is an example and would need to be adjusted based on your data\n",
    "\n",
    "# Create a colormap that has a distinct color transition around the limit cycle values\n",
    "eigenfunction_cmap = plt.cm.RdBu  # This is an example colormap\n",
    "\n",
    "# Normalize the colormap to emphasize the limit cycle range\n",
    "eigenfunction_norm = colors.Normalize(vmin=limit_cycle_value_range[0], vmax=limit_cycle_value_range[1])\n",
    "\n",
    "# Plotting the eigenfunction with adjusted color scale\n",
    "num_modes = 6\n",
    "for i in range(num_modes):\n",
    "    plt.figure(figsize=(8, 6))\n",
    "    scatter_real = plt.scatter(DATA_X[:, 0], DATA_X[:, 1]*0.7, c=phi_real[:, i], cmap=eigenfunction_cmap, norm=eigenfunction_norm)\n",
    "    plt.colorbar(scatter_real, orientation='vertical', fraction=0.05)\n",
    "    plt.title(f'Eigenfunction {i+1} (Real)', fontsize=16)\n",
    "    plt.xlabel('Angle (radians)', fontsize=14)\n",
    "    plt.ylabel('Momentum', fontsize=14)\n",
    "    plt.tight_layout()\n",
    "    plt.savefig(f\"Eigenfunction_{i+1}.png\", bbox_inches='tight')\n",
    "    plt.show()\n"
   ]
  },
  {
   "cell_type": "code",
   "execution_count": null,
   "metadata": {},
   "outputs": [],
   "source": [
    "# Plotting the eigenfunction with adjusted color scale\n",
    "num_modes = 6\n",
    "y_center = 0  # Center of zoom\n",
    "y_range = 3   # Range to zoom in on either side of the center\n",
    "\n",
    "for i in range(num_modes):\n",
    "    plt.figure(figsize=(8, 4))\n",
    "    scatter_real = plt.scatter(DATA_X[:, 0], DATA_X[:, 1], c=phi_real[:, i], cmap=eigenfunction_cmap, norm=eigenfunction_norm)\n",
    "    plt.colorbar(scatter_real, orientation='vertical', fraction=0.05)\n",
    "    plt.title(f'Eigenfunction {i+1} (Real)', fontsize=16)\n",
    "    plt.xlabel('Angle (radians)', fontsize=14)\n",
    "    plt.ylabel('Momentum', fontsize=14)\n",
    "    plt.ylim(y_center - y_range, y_center + y_range)  # Zoom in on y=0\n",
    "    plt.tight_layout()\n",
    "    plt.savefig(f\"Eigenfunction_{i+1}_centre.png\", bbox_inches='tight')\n",
    "    plt.show()\n"
   ]
  }
 ],
 "metadata": {
  "kernelspec": {
   "display_name": "Python 3",
   "language": "python",
   "name": "python3"
  },
  "language_info": {
   "codemirror_mode": {
    "name": "ipython",
    "version": 3
   },
   "file_extension": ".py",
   "mimetype": "text/x-python",
   "name": "python",
   "nbconvert_exporter": "python",
   "pygments_lexer": "ipython3",
   "version": "3.8.18"
  }
 },
 "nbformat": 4,
 "nbformat_minor": 2
}
