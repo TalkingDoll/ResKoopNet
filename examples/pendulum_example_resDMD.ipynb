{
 "cells": [
  {
   "cell_type": "code",
   "execution_count": 1,
   "metadata": {},
   "outputs": [],
   "source": [
    "import numpy as np\n",
    "import matplotlib.pyplot as plt\n",
    "from scipy.linalg import eigh, eig\n",
    "# from scipy.sparse.linalg import eigs\n",
    "import scipy.io\n",
    "\n",
    "# import sys\n",
    "# sys.path.append(\"../\")\n",
    "\n",
    "# from algorithm.KoopPseudoSpec import KoopPseudoSpec\n",
    "# from algorithm.PhasePlot import PhasePlot\n",
    "\n",
    "import sys\n",
    "sys.path.insert(0, 'C:\\\\Program Files\\\\MATLAB\\\\R2023a\\\\extern\\\\engines\\\\python')\n",
    "import matlab.engine\n",
    "eng = matlab.engine.start_matlab()\n",
    "# Add the directory containing KoopPseudoSpec.m to MATLAB's path\n",
    "eng.addpath('D:\\\\Residual-Dynamic-Mode-Decomposition-main\\\\main_routines', nargout=0)"
   ]
  },
  {
   "cell_type": "code",
   "execution_count": 2,
   "metadata": {},
   "outputs": [],
   "source": [
    "# Load data from file available from the dropbox link\n",
    "data = scipy.io.loadmat('D:\\Residual-Dynamic-Mode-Decomposition-main\\Examples_gallery_1\\ResDMD_datasets\\pendulum_data.mat')"
   ]
  },
  {
   "cell_type": "code",
   "execution_count": 3,
   "metadata": {},
   "outputs": [],
   "source": [
    "A = data['A']\n",
    "N1 = data['N1'][0][0]\n",
    "N2 = data['N2'][0][0]\n",
    "\n",
    "# Clear up the memory space\n",
    "import gc\n",
    "del data\n",
    "gc.collect()\n",
    "\n",
    "Id1 = np.maximum(np.outer(np.abs(np.arange(-1*N1, N1+1)), np.ones(N2)), 1)\n",
    "Id2 = np.outer(np.ones(2*N1+1), np.arange(1, N2+1))\n",
    "# N_trun = N2\n",
    "N_trun = 25\n",
    "\n",
    "Id = np.where(np.abs(Id1.flatten()) * np.abs(Id2.flatten()) < N_trun + 1)\n",
    "A = A[Id][:, Id]  # sort out indexing\n",
    "A = A.reshape((Id[0].shape[0],Id[0].shape[0]))\n",
    "# A = A.reshape((964,964))"
   ]
  },
  {
   "cell_type": "code",
   "execution_count": 4,
   "metadata": {},
   "outputs": [],
   "source": [
    "# Compute pseudospectra\n",
    "x_pts = np.arange(-1.5, 1.5, 0.05)\n",
    "y_pts = x_pts\n",
    "z_pts = np.outer(x_pts, np.ones(len(y_pts))) + 1j * np.outer(np.ones(len(x_pts)), y_pts)\n",
    "z_pts = z_pts.flatten()\n",
    "\n",
    "RES, _, _ = eng.KoopPseudoSpec(np.eye(len(A)), A, np.eye(len(A)), z_pts,nargout=3)\n",
    "# RES = KoopPseudoSpec(np.eye(len(A)), A, np.eye(len(A)), z_pts)\n",
    "RES = RES.reshape(len(y_pts), len(x_pts))\n",
    "\n",
    "# Clean up memory space from Matlab\n",
    "eng.eval('clear all', nargout=0)\n",
    "\n",
    "# RES = np.array(RES)\n",
    "RES = np.asarray(RES)"
   ]
  },
  {
   "cell_type": "code",
   "execution_count": 5,
   "metadata": {},
   "outputs": [],
   "source": [
    "# EDMD eigenvalues\n",
    "E = eig(A)[0]"
   ]
  },
  {
   "cell_type": "code",
   "execution_count": 6,
   "metadata": {},
   "outputs": [
    {
     "data": {
      "image/png": "[encoded data removed]",
      "text/plain": [
       "<Figure size 432x288 with 1 Axes>"
      ]
     },
     "metadata": {
      "needs_background": "light"
     },
     "output_type": "display_data"
    }
   ],
   "source": [
    "# Create a figure\n",
    "plt.figure()\n",
    "\n",
    "# Your MATLAB code uses a logarithmic scale for coloring based on the values of 1./real(RES),\n",
    "# and specifies custom contour levels based on log10(1./v)\n",
    "v = np.array([1e-50, 0.25])  # v array as specified in your MATLAB code\n",
    "contour_levels = np.log10(1.0 / v)  # Calculate contour levels\n",
    "contour_levels = sorted(list(contour_levels))\n",
    "# Reshape real and imaginary parts of z_pts\n",
    "real_z_reshaped = np.reshape(np.real(z_pts), (len(y_pts), len(x_pts))).T\n",
    "imag_z_reshaped = np.reshape(np.imag(z_pts), (len(y_pts), len(x_pts))).T\n",
    "\n",
    "# Get log10 of 1./real(RES)\n",
    "log_res = np.log10(1.0 / np.real(RES))\n",
    "\n",
    "# Create a filled contour plot\n",
    "contour = plt.contourf(real_z_reshaped, imag_z_reshaped, log_res, levels=contour_levels, colors='#999999')\n",
    "\n",
    "# Set the linewidth of the contour lines\n",
    "for c in contour.collections:\n",
    "    c.set_linewidth(1.5)\n",
    "plt.gca().set_aspect('equal', 'box')\n",
    "plt.plot(E.real, E.imag, '.m')\n",
    "plt.plot(np.exp(1j * np.linspace(0, 2*np.pi, 1000)).real, np.exp(1j * np.linspace(0, 2*np.pi, 1000)).imag, '-r')\n",
    "# Display the plot\n",
    "plt.show()"
   ]
  },
  {
   "cell_type": "code",
   "execution_count": 7,
   "metadata": {},
   "outputs": [],
   "source": [
    "# # Compute approximate eigenvalues and eigenfunctions\n",
    "# E_test = [0.880347701848197 + 0.473226384533343j,\n",
    "#           0.558620606228836 + 0.826563250517901j,\n",
    "#           0.124674806328568 + 0.987209196182015j,\n",
    "#           -0.314745042094750 + 0.936136228237800j]\n",
    "# z = E_test[3]\n",
    "# z = z / abs(z)"
   ]
  },
  {
   "cell_type": "code",
   "execution_count": 8,
   "metadata": {},
   "outputs": [],
   "source": [
    "# xp1 = np.linspace(-np.pi, np.pi, 500)\n",
    "# xp1 = xp1 + (xp1[1] - xp1[0]) / 2\n",
    "# xp1 = xp1[:-1]\n",
    "# xp2 = np.linspace(-4, 4, len(xp1))\n",
    "# XpH = np.zeros((len(xp1), N2))\n",
    "# XpH[:, 0] = np.exp(-0.5 * xp2**2) / np.pi**0.25\n",
    "# XpH[:, 1] = XpH[:, 0] * np.sqrt(2) * xp2\n",
    "# for j in range(2, N2):\n",
    "#     XpH[:, j] = np.sqrt(2) / np.sqrt(j-1) * XpH[:, j-1] * xp2 - np.sqrt(j-2) / np.sqrt(j-1) * XpH[:, j-2]\n",
    "# XpF = np.exp(1j * np.outer(np.arange(-1*N1, N1+1), xp1))"
   ]
  },
  {
   "cell_type": "code",
   "execution_count": 9,
   "metadata": {},
   "outputs": [],
   "source": [
    "# H = np.eye(len(A)) - (z * A.T) - (z * A.T).conj() + abs(z)**2 * np.eye(len(A))\n",
    "# V, D = eigs(H, k=1, which='SM')\n",
    "# V2 = np.zeros(N2 * (2 * N1 + 1))\n",
    "# V2[Id] = V\n",
    "# V = V2.reshape(N2, 2*N1+1)\n",
    "# PSI = (XpF.T @ V.T @ XpH.T).T"
   ]
  },
  {
   "cell_type": "code",
   "execution_count": 10,
   "metadata": {},
   "outputs": [],
   "source": [
    "# PhasePlot(xp1 + 1j * xp2, PSI, 'm')\n",
    "# plt.gca().fontsize = 14\n",
    "# plt.show()"
   ]
  }
 ],
 "metadata": {
  "kernelspec": {
   "display_name": "koopman",
   "language": "python",
   "name": "python3"
  },
  "language_info": {
   "codemirror_mode": {
    "name": "ipython",
    "version": 3
   },
   "file_extension": ".py",
   "mimetype": "text/x-python",
   "name": "python",
   "nbconvert_exporter": "python",
   "pygments_lexer": "ipython3",
   "version": "3.8.18"
  }
 },
 "nbformat": 4,
 "nbformat_minor": 2
}
