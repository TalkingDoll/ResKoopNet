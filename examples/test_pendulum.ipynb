{
 "cells": [
  {
   "cell_type": "code",
   "execution_count": 1,
   "metadata": {},
   "outputs": [
    {
     "ename": "IndexError",
     "evalue": "too many indices for array: array is 1-dimensional, but 2 were indexed",
     "output_type": "error",
     "traceback": [
      "\u001b[1;31m---------------------------------------------------------------------------\u001b[0m",
      "\u001b[1;31mIndexError\u001b[0m                                Traceback (most recent call last)",
      "\u001b[1;32md:\\DNN-resDMD\\others\\test_pendulum.ipynb Cell 1\u001b[0m line \u001b[0;36m<cell line: 22>\u001b[1;34m()\u001b[0m\n\u001b[0;32m     <a href='vscode-notebook-cell:/d%3A/DNN-resDMD/others/test_pendulum.ipynb#W1sZmlsZQ%3D%3D?line=19'>20</a>\u001b[0m N_trun \u001b[39m=\u001b[39m N2\n\u001b[0;32m     <a href='vscode-notebook-cell:/d%3A/DNN-resDMD/others/test_pendulum.ipynb#W1sZmlsZQ%3D%3D?line=20'>21</a>\u001b[0m Id \u001b[39m=\u001b[39m np\u001b[39m.\u001b[39mwhere(np\u001b[39m.\u001b[39mabs(Id1) \u001b[39m*\u001b[39m np\u001b[39m.\u001b[39mabs(Id2) \u001b[39m<\u001b[39m N_trun \u001b[39m+\u001b[39m \u001b[39m1\u001b[39m)\n\u001b[1;32m---> <a href='vscode-notebook-cell:/d%3A/DNN-resDMD/others/test_pendulum.ipynb#W1sZmlsZQ%3D%3D?line=21'>22</a>\u001b[0m A \u001b[39m=\u001b[39m A[Id][:, Id]  \u001b[39m# sort out indexing\u001b[39;00m\n\u001b[0;32m     <a href='vscode-notebook-cell:/d%3A/DNN-resDMD/others/test_pendulum.ipynb#W1sZmlsZQ%3D%3D?line=23'>24</a>\u001b[0m \u001b[39m# Compute pseudospectra\u001b[39;00m\n\u001b[0;32m     <a href='vscode-notebook-cell:/d%3A/DNN-resDMD/others/test_pendulum.ipynb#W1sZmlsZQ%3D%3D?line=24'>25</a>\u001b[0m x_pts \u001b[39m=\u001b[39m np\u001b[39m.\u001b[39marange(\u001b[39m-\u001b[39m\u001b[39m1.5\u001b[39m, \u001b[39m1.5\u001b[39m, \u001b[39m0.05\u001b[39m)\n",
      "\u001b[1;31mIndexError\u001b[0m: too many indices for array: array is 1-dimensional, but 2 were indexed"
     ]
    }
   ],
   "source": []
  }
 ],
 "metadata": {
  "kernelspec": {
   "display_name": "koopman",
   "language": "python",
   "name": "python3"
  },
  "language_info": {
   "codemirror_mode": {
    "name": "ipython",
    "version": 3
   },
   "file_extension": ".py",
   "mimetype": "text/x-python",
   "name": "python",
   "nbconvert_exporter": "python",
   "pygments_lexer": "ipython3",
   "version": "3.8.18"
  }
 },
 "nbformat": 4,
 "nbformat_minor": 2
}
