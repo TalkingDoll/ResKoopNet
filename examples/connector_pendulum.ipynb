{
 "cells": [
  {
   "cell_type": "code",
   "execution_count": 1,
   "metadata": {},
   "outputs": [],
   "source": [
    "# import numpy as np\n",
    "# from scipy.integrate import solve_ivp\n",
    "\n",
    "# # %% Pendulum equations\n",
    "# def pendulum(t, y):\n",
    "#     theta, omega = y\n",
    "#     dtheta_dt = omega\n",
    "#     domega_dt = -np.sin(theta)\n",
    "#     return [dtheta_dt, domega_dt]"
   ]
  },
  {
   "cell_type": "code",
   "execution_count": 2,
   "metadata": {},
   "outputs": [],
   "source": [
    "# ## Generating initial conditions by using one single trajectory\n",
    "# from scipy.integrate import solve_ivp\n",
    "# import numpy as np\n",
    "\n",
    "# # Set the seed for reproducibility\n",
    "# np.random.seed(0)\n",
    "\n",
    "# # Parameters\n",
    "# n_steps = 10000  # Number of steps\n",
    "# dt = 0.5  # Time step\n",
    "\n",
    "# # Uniformly sampling one initial condition within the specified ranges\n",
    "# theta_initial = np.random.uniform(-np.pi, np.pi, 1)\n",
    "# omega_initial = np.random.uniform(0, 15, 1)\n",
    "\n",
    "# # Combining the initial condition into an array\n",
    "# initial_condition = np.column_stack((theta_initial, omega_initial))\n",
    "\n",
    "# # Time points where we want to evaluate\n",
    "# t_eval = np.linspace(0, n_steps * dt, n_steps + 1)\n",
    "\n",
    "# # Solving the ODE for the initial condition\n",
    "# trajectories = np.empty((1, len(t_eval), 2))\n",
    "\n",
    "# sol = solve_ivp(pendulum, [0, n_steps * dt], initial_condition[0], t_eval=t_eval)\n",
    "# trajectories[0] = sol.y.T\n",
    "\n",
    "# print(trajectories.shape) # (1, 10001, 2)\n",
    "\n"
   ]
  },
  {
   "cell_type": "code",
   "execution_count": 3,
   "metadata": {},
   "outputs": [],
   "source": [
    "# ## Generating initial conditions by manually setting up the grid\n",
    "# M1 = 100\n",
    "# X1 = np.linspace(-np.pi, np.pi, M1+1)\n",
    "# X1 = X1 + (X1[1] - X1[0]) / 2\n",
    "# X1 = X1[:-1]\n",
    "# X2 = np.linspace(-15, 15, M1)\n",
    "# initial_conditions = np.array(np.meshgrid(X1[:-1], X2)).T.reshape(-1, 2)\n",
    "# # Time points where we want to evaluate\n",
    "# t_eval = np.linspace(0.000001, 0.5, 11)  # 100 snapshots\n",
    "# # t_eval = [0.000001, 0.5]\n",
    "\n",
    "# # %% Solving the ODE for each initial condition\n",
    "# trajectories = np.empty((initial_conditions.shape[0], len(t_eval), 2))\n",
    "\n",
    "# for i, ic in enumerate(initial_conditions):\n",
    "#     sol = solve_ivp(pendulum, [0, 10], ic, t_eval=t_eval)\n",
    "#     y = sol.y.T\n",
    "#     # Normalizing the angle to be within -pi to pi\n",
    "#     # y[:, 0] = (y[:, 0] + np.pi) % (2 * np.pi) - np.pi\n",
    "#     trajectories[i] = y"
   ]
  },
  {
   "cell_type": "code",
   "execution_count": 4,
   "metadata": {},
   "outputs": [],
   "source": [
    "# # %%\n",
    "# # Extracting the first 9 snapshots for DATA_X\n",
    "# DATA_X = trajectories[:, :-1, :]\n",
    "# # Extracting the last 9 snapshots for DATA_Y\n",
    "# DATA_Y = trajectories[:, 1:, :]\n",
    "# # Reshaping DATA_X and DATA_Y to maintain the third dimension\n",
    "# # The reshaped matrices will have shapes (m*n, p)\n",
    "# DATA_X = DATA_X.reshape(-1, DATA_X.shape[2])\n",
    "# DATA_Y = DATA_Y.reshape(-1, DATA_Y.shape[2])"
   ]
  },
  {
   "cell_type": "code",
   "execution_count": 5,
   "metadata": {},
   "outputs": [],
   "source": [
    "# # %% Applying modulus operation to keep angles within -pi to pi\n",
    "# for i in range(trajectories.shape[0]):\n",
    "#     for j in range(trajectories.shape[1]):\n",
    "#         theta = trajectories[i, j, 0]\n",
    "#         # Normalize theta to be within -pi to pi\n",
    "#         trajectories[i, j, 0] = np.arctan2(np.sin(theta), np.cos(theta))"
   ]
  },
  {
   "cell_type": "code",
   "execution_count": 6,
   "metadata": {},
   "outputs": [],
   "source": [
    "# ## Generating initial conditions by uniform distribution\n",
    "\n",
    "# # Number of points\n",
    "# num_points = 1000\n",
    "\n",
    "# # Generate random points\n",
    "# initial_conditions = np.random.rand(num_points, 2)\n",
    "\n",
    "# # Scale x coordinates for the range [-pi, pi)\n",
    "# initial_conditions[:, 0] = initial_conditions[:, 0] * 2 * np.pi - np.pi\n",
    "\n",
    "# # Scale y coordinates for the range [-15, 15)\n",
    "# initial_conditions[:, 1] = initial_conditions[:, 1] * 30 - 15\n",
    "\n",
    "# tspan = [0, 50]\n",
    "# nstep = 101\n",
    "# t_eval = np.linspace(tspan[0], tspan[1], nstep)\n",
    "\n",
    "# # Solving the ODE for each initial condition\n",
    "# data = np.empty((num_points, initial_conditions.shape[1], nstep))\n",
    "\n",
    "# for i, ic in enumerate(initial_conditions):\n",
    "#     sol = solve_ivp(pendulum, t_span=tspan, y0=ic, t_eval=t_eval)\n",
    "#     data[i] = sol.y\n",
    "\n",
    "# # Ensure that the angle of the pendulum system is inside [-ip, pi)\n",
    "# for i in range(data.shape[0]):  # iterate over all solutions\n",
    "#     # Adjust the first state variable\n",
    "#     data[i, 0, :] = (data[i, 0, :] + np.pi) % (2 * np.pi) - np.pi\n",
    "\n",
    "\n",
    "# # Pairwise shifted data X and Y\n",
    "# DATA_X = data[:, :, :-1] # shape: (1000, 2, 100)\n",
    "# DATA_Y = data[:, :, 1:]\n",
    "\n",
    "# # Transpose and reshape the data.\n",
    "# DATA_X = np.transpose(DATA_X, (0, 2, 1)).reshape(num_points * (nstep-1), 2) # shape: (100000, 2)\n",
    "# DATA_Y = np.transpose(DATA_Y, (0, 2, 1)).reshape(num_points * (nstep-1), 2)"
   ]
  },
  {
   "cell_type": "code",
   "execution_count": 7,
   "metadata": {},
   "outputs": [],
   "source": [
    "# # %% Specifying the file path\n",
    "# import scipy.io\n",
    "# file_path = 'D:\\\\resDMD_data\\\\data_pendulum_1000_i.mat'\n",
    "# # Saving DATA_X and DATA_Y to a .mat file at the specified location\n",
    "# scipy.io.savemat(file_path, {'DATA_X': DATA_X, 'DATA_Y': DATA_Y})"
   ]
  },
  {
   "cell_type": "code",
   "execution_count": 8,
   "metadata": {},
   "outputs": [],
   "source": [
    "# # Find the maximum value of the first column\n",
    "# max_value_first_column = DATA_X[:, 0].max()\n",
    "\n",
    "# max_value_first_column"
   ]
  },
  {
   "cell_type": "code",
   "execution_count": null,
   "metadata": {},
   "outputs": [],
   "source": [
    "from connector_pendulum import connector_pendulum\n",
    "\n",
    "solver_indices = [52]\n",
    "n_psi_trains = [197]\n",
    "\n",
    "for solver_index in solver_indices:\n",
    "    for n_psi_train in n_psi_trains:\n",
    "        connector_pendulum(solver_index, n_psi_train)"
   ]
  }
 ],
 "metadata": {
  "kernelspec": {
   "display_name": "Python 3",
   "language": "python",
   "name": "python3"
  },
  "language_info": {
   "codemirror_mode": {
    "name": "ipython",
    "version": 3
   },
   "file_extension": ".py",
   "mimetype": "text/x-python",
   "name": "python",
   "nbconvert_exporter": "python",
   "pygments_lexer": "ipython3",
   "version": "3.8.18"
  }
 },
 "nbformat": 4,
 "nbformat_minor": 2
}
