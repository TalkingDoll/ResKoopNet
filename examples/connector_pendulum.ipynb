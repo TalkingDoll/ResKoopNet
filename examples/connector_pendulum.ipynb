{
 "cells": [
  {
   "cell_type": "code",
   "execution_count": null,
   "metadata": {},
   "outputs": [],
   "source": [
    "from connector_pendulum import connector_pendulum\n",
    "\n",
    "solver_indices = [5]\n",
    "n_psi_trains = [50, 75]\n",
    "\n",
    "for index in solver_indices:\n",
    "    for psi_train in n_psi_trains:\n",
    "        connector_pendulum(psi_train, index)"
   ]
  },
  {
   "cell_type": "code",
   "execution_count": null,
   "metadata": {},
   "outputs": [],
   "source": [
    "# ## Results from solver4\n",
    "# evalues = solver.eigenvalues\n",
    "# N_dict = np.shape(evalues)[0]\n",
    "# # Psi_X, Psi_Y = solver.get_basis(data_train[0], data_train[1])\n",
    "# Koopman_matrix_K = solver.K.numpy()\n",
    "# Psi_X = solver.get_Psi_X().numpy()\n",
    "# Psi_Y = solver.get_Psi_Y().numpy()\n",
    "# # Assuming psi_x is your Psi_X matrix as a NumPy array\n",
    "# Psi_X_U, _, _ = np.linalg.svd(Psi_X/np.sqrt(Psi_X.shape[0]), full_matrices=False)\n",
    "# Psi_Y_U, _, _ = np.linalg.svd(Psi_Y/np.sqrt(Psi_Y.shape[0]), full_matrices=False)\n",
    "# # Calculating the QR decomposition\n",
    "# Psi_X_Q, _ = np.linalg.qr(Psi_X)\n",
    "# Psi_Y_Q, _ = np.linalg.qr(Psi_Y)\n",
    "\n",
    "# print(\"Check if Psi_X_U is orthonormal: \", np.allclose(np.dot(Psi_X_U.T, Psi_X_U), np.eye(Psi_X_U.shape[1])))\n",
    "# print(\"Check if Psi_X_Q is orthonormal: \", np.allclose(np.dot(Psi_X_Q.T, Psi_X_Q), np.eye(Psi_X_Q.shape[1])))\n",
    "\n",
    "# resDMD_DL_outputs4 = {\n",
    "#     'resDMD_DL_outputs': {        \n",
    "#         'evalues': evalues,\n",
    "#         'N_dict': N_dict,\n",
    "#         'Psi_X': Psi_X,\n",
    "#         'Psi_Y': Psi_Y,\n",
    "#         'Psi_X_U': Psi_X_U,\n",
    "#         'Psi_Y_U': Psi_Y_U,\n",
    "#         'Psi_X_Q': Psi_X_Q,\n",
    "#         'Psi_Y_Q': Psi_Y_Q,\n",
    "#         'K': Koopman_matrix_K,  # Add the Koopman matrix K to the results\n",
    "#     }\n",
    "# }\n",
    "\n",
    "# # np.save(\"solver_4_outputs.npy\", resDMD_DL_outputs4, allow_pickle=True)\n",
    "# save_path = 'D:\\\\Residual-Dynamic-Mode-Decomposition-main\\\\Examples_gallery_1\\\\ResDMD_datasets'  # Ensure this is a directory\n",
    "# nd = resDMD_DL_outputs4['resDMD_DL_outputs']['evalues'].shape[0]\n",
    "# filename = f'solver4_outputs_{nd}basis.mat'\n",
    "# scipy.io.savemat(save_path + filename, resDMD_DL_outputs4)"
   ]
  },
  {
   "cell_type": "code",
   "execution_count": null,
   "metadata": {},
   "outputs": [],
   "source": [
    "# ## Plot eigenvalues\n",
    "# import matplotlib.pyplot as plt\n",
    "\n",
    "# # Plot the unit circle for reference\n",
    "# theta = np.linspace(0, 2*np.pi, 100)\n",
    "# plt.plot(np.cos(theta), np.sin(theta), linestyle='dashed')\n",
    "\n",
    "# # Plot the real and imaginary parts of the eigenvalues\n",
    "# plt.scatter(evalues.real, evalues.imag, color='red', label='Eigenvalues')\n",
    "\n",
    "# # Set equal scaling for both axes\n",
    "# plt.axis('equal')\n",
    "\n",
    "# # Set the labels\n",
    "# plt.xlabel('Real part')\n",
    "# plt.ylabel('Imaginary part')\n",
    "# plt.title('Eigenvalues in the Complex Plane')\n",
    "\n",
    "# # Enable the legend\n",
    "# plt.legend()\n",
    "\n",
    "# # Show the plot\n",
    "# plt.show()"
   ]
  },
  {
   "cell_type": "code",
   "execution_count": null,
   "metadata": {},
   "outputs": [],
   "source": []
  }
 ],
 "metadata": {
  "kernelspec": {
   "display_name": "Python 3",
   "language": "python",
   "name": "python3"
  },
  "language_info": {
   "codemirror_mode": {
    "name": "ipython",
    "version": 3
   },
   "file_extension": ".py",
   "mimetype": "text/x-python",
   "name": "python",
   "nbconvert_exporter": "python",
   "pygments_lexer": "ipython3",
   "version": "3.8.18"
  }
 },
 "nbformat": 4,
 "nbformat_minor": 2
}
