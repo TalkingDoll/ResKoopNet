{
 "cells": [
  {
   "cell_type": "code",
   "execution_count": 3,
   "metadata": {},
   "outputs": [
    {
     "ename": "KeyboardInterrupt",
     "evalue": "",
     "output_type": "error",
     "traceback": [
      "\u001b[1;31m---------------------------------------------------------------------------\u001b[0m",
      "\u001b[1;31mKeyboardInterrupt\u001b[0m                         Traceback (most recent call last)",
      "\u001b[1;32md:\\resDMD\\examples\\connector_pendulum.ipynb Cell 1\u001b[0m line \u001b[0;36m<cell line: 23>\u001b[1;34m()\u001b[0m\n\u001b[0;32m     <a href='vscode-notebook-cell:/d%3A/resDMD/examples/connector_pendulum.ipynb#W2sZmlsZQ%3D%3D?line=20'>21</a>\u001b[0m trajectories \u001b[39m=\u001b[39m np\u001b[39m.\u001b[39mempty((initial_conditions\u001b[39m.\u001b[39mshape[\u001b[39m0\u001b[39m], \u001b[39mlen\u001b[39m(t_eval), \u001b[39m2\u001b[39m))\n\u001b[0;32m     <a href='vscode-notebook-cell:/d%3A/resDMD/examples/connector_pendulum.ipynb#W2sZmlsZQ%3D%3D?line=22'>23</a>\u001b[0m \u001b[39mfor\u001b[39;00m i, ic \u001b[39min\u001b[39;00m \u001b[39menumerate\u001b[39m(initial_conditions):\n\u001b[1;32m---> <a href='vscode-notebook-cell:/d%3A/resDMD/examples/connector_pendulum.ipynb#W2sZmlsZQ%3D%3D?line=23'>24</a>\u001b[0m     sol \u001b[39m=\u001b[39m solve_ivp(pendulum, [\u001b[39m0\u001b[39;49m, \u001b[39m10\u001b[39;49m], ic, t_eval\u001b[39m=\u001b[39;49mt_eval)\n\u001b[0;32m     <a href='vscode-notebook-cell:/d%3A/resDMD/examples/connector_pendulum.ipynb#W2sZmlsZQ%3D%3D?line=24'>25</a>\u001b[0m     trajectories[i] \u001b[39m=\u001b[39m sol\u001b[39m.\u001b[39my\u001b[39m.\u001b[39mT\n\u001b[0;32m     <a href='vscode-notebook-cell:/d%3A/resDMD/examples/connector_pendulum.ipynb#W2sZmlsZQ%3D%3D?line=26'>27</a>\u001b[0m \u001b[39m# Applying modulus operation to keep angles within -pi to pi\u001b[39;00m\n",
      "File \u001b[1;32mc:\\Users\\Jason\\miniconda3\\envs\\koopman\\lib\\site-packages\\scipy\\integrate\\_ivp\\ivp.py:591\u001b[0m, in \u001b[0;36msolve_ivp\u001b[1;34m(fun, t_span, y0, method, t_eval, dense_output, events, vectorized, args, **options)\u001b[0m\n\u001b[0;32m    589\u001b[0m status \u001b[39m=\u001b[39m \u001b[39mNone\u001b[39;00m\n\u001b[0;32m    590\u001b[0m \u001b[39mwhile\u001b[39;00m status \u001b[39mis\u001b[39;00m \u001b[39mNone\u001b[39;00m:\n\u001b[1;32m--> 591\u001b[0m     message \u001b[39m=\u001b[39m solver\u001b[39m.\u001b[39;49mstep()\n\u001b[0;32m    593\u001b[0m     \u001b[39mif\u001b[39;00m solver\u001b[39m.\u001b[39mstatus \u001b[39m==\u001b[39m \u001b[39m'\u001b[39m\u001b[39mfinished\u001b[39m\u001b[39m'\u001b[39m:\n\u001b[0;32m    594\u001b[0m         status \u001b[39m=\u001b[39m \u001b[39m0\u001b[39m\n",
      "File \u001b[1;32mc:\\Users\\Jason\\miniconda3\\envs\\koopman\\lib\\site-packages\\scipy\\integrate\\_ivp\\base.py:181\u001b[0m, in \u001b[0;36mOdeSolver.step\u001b[1;34m(self)\u001b[0m\n\u001b[0;32m    179\u001b[0m \u001b[39melse\u001b[39;00m:\n\u001b[0;32m    180\u001b[0m     t \u001b[39m=\u001b[39m \u001b[39mself\u001b[39m\u001b[39m.\u001b[39mt\n\u001b[1;32m--> 181\u001b[0m     success, message \u001b[39m=\u001b[39m \u001b[39mself\u001b[39;49m\u001b[39m.\u001b[39;49m_step_impl()\n\u001b[0;32m    183\u001b[0m     \u001b[39mif\u001b[39;00m \u001b[39mnot\u001b[39;00m success:\n\u001b[0;32m    184\u001b[0m         \u001b[39mself\u001b[39m\u001b[39m.\u001b[39mstatus \u001b[39m=\u001b[39m \u001b[39m'\u001b[39m\u001b[39mfailed\u001b[39m\u001b[39m'\u001b[39m\n",
      "File \u001b[1;32mc:\\Users\\Jason\\miniconda3\\envs\\koopman\\lib\\site-packages\\scipy\\integrate\\_ivp\\rk.py:144\u001b[0m, in \u001b[0;36mRungeKutta._step_impl\u001b[1;34m(self)\u001b[0m\n\u001b[0;32m    141\u001b[0m h \u001b[39m=\u001b[39m t_new \u001b[39m-\u001b[39m t\n\u001b[0;32m    142\u001b[0m h_abs \u001b[39m=\u001b[39m np\u001b[39m.\u001b[39mabs(h)\n\u001b[1;32m--> 144\u001b[0m y_new, f_new \u001b[39m=\u001b[39m rk_step(\u001b[39mself\u001b[39;49m\u001b[39m.\u001b[39;49mfun, t, y, \u001b[39mself\u001b[39;49m\u001b[39m.\u001b[39;49mf, h, \u001b[39mself\u001b[39;49m\u001b[39m.\u001b[39;49mA,\n\u001b[0;32m    145\u001b[0m                        \u001b[39mself\u001b[39;49m\u001b[39m.\u001b[39;49mB, \u001b[39mself\u001b[39;49m\u001b[39m.\u001b[39;49mC, \u001b[39mself\u001b[39;49m\u001b[39m.\u001b[39;49mK)\n\u001b[0;32m    146\u001b[0m scale \u001b[39m=\u001b[39m atol \u001b[39m+\u001b[39m np\u001b[39m.\u001b[39mmaximum(np\u001b[39m.\u001b[39mabs(y), np\u001b[39m.\u001b[39mabs(y_new)) \u001b[39m*\u001b[39m rtol\n\u001b[0;32m    147\u001b[0m error_norm \u001b[39m=\u001b[39m \u001b[39mself\u001b[39m\u001b[39m.\u001b[39m_estimate_error_norm(\u001b[39mself\u001b[39m\u001b[39m.\u001b[39mK, h, scale)\n",
      "File \u001b[1;32mc:\\Users\\Jason\\miniconda3\\envs\\koopman\\lib\\site-packages\\scipy\\integrate\\_ivp\\rk.py:63\u001b[0m, in \u001b[0;36mrk_step\u001b[1;34m(fun, t, y, f, h, A, B, C, K)\u001b[0m\n\u001b[0;32m     61\u001b[0m K[\u001b[39m0\u001b[39m] \u001b[39m=\u001b[39m f\n\u001b[0;32m     62\u001b[0m \u001b[39mfor\u001b[39;00m s, (a, c) \u001b[39min\u001b[39;00m \u001b[39menumerate\u001b[39m(\u001b[39mzip\u001b[39m(A[\u001b[39m1\u001b[39m:], C[\u001b[39m1\u001b[39m:]), start\u001b[39m=\u001b[39m\u001b[39m1\u001b[39m):\n\u001b[1;32m---> 63\u001b[0m     dy \u001b[39m=\u001b[39m np\u001b[39m.\u001b[39;49mdot(K[:s]\u001b[39m.\u001b[39;49mT, a[:s]) \u001b[39m*\u001b[39m h\n\u001b[0;32m     64\u001b[0m     K[s] \u001b[39m=\u001b[39m fun(t \u001b[39m+\u001b[39m c \u001b[39m*\u001b[39m h, y \u001b[39m+\u001b[39m dy)\n\u001b[0;32m     66\u001b[0m y_new \u001b[39m=\u001b[39m y \u001b[39m+\u001b[39m h \u001b[39m*\u001b[39m np\u001b[39m.\u001b[39mdot(K[:\u001b[39m-\u001b[39m\u001b[39m1\u001b[39m]\u001b[39m.\u001b[39mT, B)\n",
      "File \u001b[1;32m<__array_function__ internals>:200\u001b[0m, in \u001b[0;36mdot\u001b[1;34m(*args, **kwargs)\u001b[0m\n",
      "\u001b[1;31mKeyboardInterrupt\u001b[0m: "
     ]
    }
   ],
   "source": [
    "import numpy as np\n",
    "from scipy.integrate import solve_ivp\n",
    "\n",
    "# Pendulum equations\n",
    "def pendulum(t, y):\n",
    "    theta, omega = y\n",
    "    dtheta_dt = omega\n",
    "    domega_dt = -np.sin(theta)\n",
    "    return [dtheta_dt, domega_dt]\n",
    "\n",
    "# Setting up the grid\n",
    "X1 = np.linspace(-np.pi, np.pi, 101)\n",
    "X1 = X1 + (X1[1] - X1[0]) / 2\n",
    "X1 = X1[:-1]\n",
    "X2 = np.linspace(-15, 15, 100)\n",
    "initial_conditions = np.array(np.meshgrid(X1[:-1], X2)).T.reshape(-1, 2)\n",
    "# Time points where we want to evaluate\n",
    "t_eval = np.linspace(0.000001, 0.5, 11)  # 10 snapshots\n",
    "\n",
    "# Solving the ODE for each initial condition\n",
    "trajectories = np.empty((initial_conditions.shape[0], len(t_eval), 2))\n",
    "\n",
    "for i, ic in enumerate(initial_conditions):\n",
    "    sol = solve_ivp(pendulum, [0, 10], ic, t_eval=t_eval)\n",
    "    trajectories[i] = sol.y.T\n",
    "\n",
    "# Applying modulus operation to keep angles within -pi to pi\n",
    "for i in range(trajectories.shape[0]):\n",
    "    for j in range(trajectories.shape[1]):\n",
    "        theta = trajectories[i, j, 0]\n",
    "        # Normalize theta to be within -pi to pi\n",
    "        trajectories[i, j, 0] = np.arctan2(np.sin(theta), np.cos(theta))\n",
    "\n",
    "import scipy.io\n",
    "# Extracting the first 9 snapshots for DATA_X\n",
    "DATA_X = trajectories[:, :-1, :]\n",
    "# Extracting the last 9 snapshots for DATA_Y\n",
    "DATA_Y = trajectories[:, 1:, :]\n",
    "\n",
    "# Reshaping DATA_X and DATA_Y to maintain the third dimension\n",
    "# The reshaped matrices will have shapes (m*n, p)\n",
    "DATA_X = DATA_X.reshape(-1, DATA_X.shape[2])\n",
    "DATA_Y = DATA_Y.reshape(-1, DATA_Y.shape[2])\n",
    "\n",
    "# Specifying the file path\n",
    "file_path = 'D:\\\\resDMD_data\\\\data_pendulum_100.mat'\n",
    "# Saving DATA_X and DATA_Y to a .mat file at the specified location\n",
    "scipy.io.savemat(file_path, {'DATA_X': DATA_X, 'DATA_Y': DATA_Y})"
   ]
  },
  {
   "cell_type": "code",
   "execution_count": 1,
   "metadata": {},
   "outputs": [
    {
     "name": "stdout",
     "output_type": "stream",
     "text": [
      "(99000, 2)\n",
      "Epoch 1/2\n",
      "1/1 [==============================] - 1s 1s/step - loss: 3087430.5056 - val_loss: 95319.5646\n",
      "Epoch 2/2\n",
      "1/1 [==============================] - 0s 268ms/step - loss: 2742451.7512 - val_loss: 84971.7725\n",
      "number of the outer loop: 0\n",
      "Epoch 1/2\n",
      "1/1 [==============================] - 0s 287ms/step - loss: 2438946.6750 - val_loss: 75869.5184\n",
      "Epoch 2/2\n",
      "1/1 [==============================] - 0s 245ms/step - loss: 2172623.6009 - val_loss: 67879.1545\n",
      "number of the outer loop: 1\n",
      "Epoch 1/2\n",
      "1/1 [==============================] - 0s 287ms/step - loss: 1939395.6378 - val_loss: 60874.9470\n",
      "Epoch 2/2\n",
      "1/1 [==============================] - 0s 252ms/step - loss: 1735436.4365 - val_loss: 54740.0101\n",
      "number of the outer loop: 2\n",
      "Epoch 1/2\n",
      "1/1 [==============================] - 0s 283ms/step - loss: 1557210.2651 - val_loss: 49367.3675\n",
      "Epoch 2/2\n",
      "1/1 [==============================] - 0s 251ms/step - loss: 1401495.3848 - val_loss: 44660.5021\n",
      "number of the outer loop: 3\n",
      "Epoch 1/2\n"
     ]
    },
    {
     "ename": "KeyboardInterrupt",
     "evalue": "",
     "output_type": "error",
     "traceback": [
      "\u001b[1;31m---------------------------------------------------------------------------\u001b[0m",
      "\u001b[1;31mKeyboardInterrupt\u001b[0m                         Traceback (most recent call last)",
      "\u001b[1;32md:\\resDMD\\examples\\connector_pendulum.ipynb Cell 2\u001b[0m line \u001b[0;36m<cell line: 6>\u001b[1;34m()\u001b[0m\n\u001b[0;32m      <a href='vscode-notebook-cell:/d%3A/resDMD/examples/connector_pendulum.ipynb#W0sZmlsZQ%3D%3D?line=5'>6</a>\u001b[0m \u001b[39mfor\u001b[39;00m index \u001b[39min\u001b[39;00m solver_indices:\n\u001b[0;32m      <a href='vscode-notebook-cell:/d%3A/resDMD/examples/connector_pendulum.ipynb#W0sZmlsZQ%3D%3D?line=6'>7</a>\u001b[0m     \u001b[39mfor\u001b[39;00m psi_train \u001b[39min\u001b[39;00m n_psi_trains:\n\u001b[1;32m----> <a href='vscode-notebook-cell:/d%3A/resDMD/examples/connector_pendulum.ipynb#W0sZmlsZQ%3D%3D?line=7'>8</a>\u001b[0m         connector_pendulum(psi_train, index)\n",
      "File \u001b[1;32md:\\resDMD\\examples\\connector_pendulum.py:42\u001b[0m, in \u001b[0;36mconnector_pendulum\u001b[1;34m(n_psi_train, solver_index)\u001b[0m\n\u001b[0;32m     38\u001b[0m \u001b[39m# Using the dynamically imported solver\u001b[39;00m\n\u001b[0;32m     39\u001b[0m solver \u001b[39m=\u001b[39m KoopmanDLSolver(dic\u001b[39m=\u001b[39mbasis_function, \n\u001b[0;32m     40\u001b[0m                          target_dim\u001b[39m=\u001b[39mnp\u001b[39m.\u001b[39mshape(data_train)[\u001b[39m-\u001b[39m\u001b[39m1\u001b[39m], \n\u001b[0;32m     41\u001b[0m                          reg\u001b[39m=\u001b[39m\u001b[39m0.1\u001b[39m)\n\u001b[1;32m---> 42\u001b[0m solver\u001b[39m.\u001b[39;49mbuild(data_train\u001b[39m=\u001b[39;49mdata_train, \n\u001b[0;32m     43\u001b[0m              data_valid\u001b[39m=\u001b[39;49mdata_valid, \n\u001b[0;32m     44\u001b[0m              epochs\u001b[39m=\u001b[39;49m\u001b[39m1000\u001b[39;49m, \n\u001b[0;32m     45\u001b[0m              batch_size\u001b[39m=\u001b[39;49m\u001b[39m100000\u001b[39;49m, \n\u001b[0;32m     46\u001b[0m              lr\u001b[39m=\u001b[39;49m\u001b[39m1e-4\u001b[39;49m, \n\u001b[0;32m     47\u001b[0m              log_interval\u001b[39m=\u001b[39;49m\u001b[39m10\u001b[39;49m, \n\u001b[0;32m     48\u001b[0m              lr_decay_factor\u001b[39m=\u001b[39;49m\u001b[39m.8\u001b[39;49m)\n\u001b[0;32m     50\u001b[0m \u001b[39m# Results from solver\u001b[39;00m\n\u001b[0;32m     51\u001b[0m evalues \u001b[39m=\u001b[39m solver\u001b[39m.\u001b[39meigenvalues\n",
      "File \u001b[1;32md:\\resDMD\\examples\\..\\algorithm\\koopmanlib\\solver_5.py:232\u001b[0m, in \u001b[0;36mKoopmanDLSolver.build\u001b[1;34m(self, data_train, data_valid, epochs, batch_size, lr, log_interval, lr_decay_factor)\u001b[0m\n\u001b[0;32m    225\u001b[0m \u001b[39mself\u001b[39m\u001b[39m.\u001b[39mK\u001b[39m=\u001b[39m \u001b[39mself\u001b[39m\u001b[39m.\u001b[39mcompute_K(\u001b[39mself\u001b[39m\u001b[39m.\u001b[39mdic_func,\n\u001b[0;32m    226\u001b[0m                         \u001b[39mself\u001b[39m\u001b[39m.\u001b[39mdata_x_train,\n\u001b[0;32m    227\u001b[0m                         \u001b[39mself\u001b[39m\u001b[39m.\u001b[39mdata_y_train,\n\u001b[0;32m    228\u001b[0m                         \u001b[39mself\u001b[39m\u001b[39m.\u001b[39mreg)\n\u001b[0;32m    229\u001b[0m \u001b[39m# self.model.get_layer('Layer_K').weights[0].assign(self.K)\u001b[39;00m\n\u001b[0;32m    230\u001b[0m \n\u001b[0;32m    231\u001b[0m \u001b[39m# Two steps for training PsiNN\u001b[39;00m\n\u001b[1;32m--> 232\u001b[0m \u001b[39mself\u001b[39m\u001b[39m.\u001b[39mhistory \u001b[39m=\u001b[39m \u001b[39mself\u001b[39;49m\u001b[39m.\u001b[39;49mtrain_psi(\u001b[39mself\u001b[39;49m\u001b[39m.\u001b[39;49mmodel, epochs\u001b[39m=\u001b[39;49m\u001b[39m2\u001b[39;49m)\n\u001b[0;32m    234\u001b[0m \u001b[39mprint\u001b[39m(\u001b[39m'\u001b[39m\u001b[39mnumber of the outer loop:\u001b[39m\u001b[39m'\u001b[39m, i)\n\u001b[0;32m    235\u001b[0m \u001b[39mif\u001b[39;00m i \u001b[39m%\u001b[39m log_interval \u001b[39m==\u001b[39m \u001b[39m0\u001b[39m:\n",
      "File \u001b[1;32md:\\resDMD\\examples\\..\\algorithm\\koopmanlib\\solver_5.py:161\u001b[0m, in \u001b[0;36mKoopmanDLSolver.train_psi\u001b[1;34m(self, model, epochs)\u001b[0m\n\u001b[0;32m    151\u001b[0m \u001b[39mdef\u001b[39;00m \u001b[39mtrain_psi\u001b[39m(\u001b[39mself\u001b[39m, model, epochs):\n\u001b[0;32m    152\u001b[0m     \u001b[39m\"\"\"Train the trainable part of the dictionary\u001b[39;00m\n\u001b[0;32m    153\u001b[0m \n\u001b[0;32m    154\u001b[0m \u001b[39m    :param model: koopman model\u001b[39;00m\n\u001b[1;32m   (...)\u001b[0m\n\u001b[0;32m    159\u001b[0m \u001b[39m    :rtype: history callback object\u001b[39;00m\n\u001b[0;32m    160\u001b[0m \u001b[39m    \"\"\"\u001b[39;00m\n\u001b[1;32m--> 161\u001b[0m     history \u001b[39m=\u001b[39m model\u001b[39m.\u001b[39;49mfit(\n\u001b[0;32m    162\u001b[0m         x\u001b[39m=\u001b[39;49m\u001b[39mself\u001b[39;49m\u001b[39m.\u001b[39;49mdata_train,\n\u001b[0;32m    163\u001b[0m         y\u001b[39m=\u001b[39;49m\u001b[39mself\u001b[39;49m\u001b[39m.\u001b[39;49mzeros_data_y_train,\n\u001b[0;32m    164\u001b[0m         epochs\u001b[39m=\u001b[39;49mepochs,\n\u001b[0;32m    165\u001b[0m         validation_data\u001b[39m=\u001b[39;49m(\n\u001b[0;32m    166\u001b[0m             \u001b[39mself\u001b[39;49m\u001b[39m.\u001b[39;49mdata_valid,\n\u001b[0;32m    167\u001b[0m             \u001b[39mself\u001b[39;49m\u001b[39m.\u001b[39;49mzeros_data_y_valid),\n\u001b[0;32m    168\u001b[0m         batch_size\u001b[39m=\u001b[39;49m\u001b[39mself\u001b[39;49m\u001b[39m.\u001b[39;49mbatch_size,\n\u001b[0;32m    169\u001b[0m         verbose\u001b[39m=\u001b[39;49m\u001b[39m1\u001b[39;49m)\n\u001b[0;32m    170\u001b[0m     \u001b[39mreturn\u001b[39;00m history\n",
      "File \u001b[1;32mc:\\Users\\Jason\\miniconda3\\envs\\koopman\\lib\\site-packages\\keras\\utils\\traceback_utils.py:64\u001b[0m, in \u001b[0;36mfilter_traceback.<locals>.error_handler\u001b[1;34m(*args, **kwargs)\u001b[0m\n\u001b[0;32m     62\u001b[0m filtered_tb \u001b[39m=\u001b[39m \u001b[39mNone\u001b[39;00m\n\u001b[0;32m     63\u001b[0m \u001b[39mtry\u001b[39;00m:\n\u001b[1;32m---> 64\u001b[0m   \u001b[39mreturn\u001b[39;00m fn(\u001b[39m*\u001b[39;49margs, \u001b[39m*\u001b[39;49m\u001b[39m*\u001b[39;49mkwargs)\n\u001b[0;32m     65\u001b[0m \u001b[39mexcept\u001b[39;00m \u001b[39mException\u001b[39;00m \u001b[39mas\u001b[39;00m e:  \u001b[39m# pylint: disable=broad-except\u001b[39;00m\n\u001b[0;32m     66\u001b[0m   filtered_tb \u001b[39m=\u001b[39m _process_traceback_frames(e\u001b[39m.\u001b[39m__traceback__)\n",
      "File \u001b[1;32mc:\\Users\\Jason\\miniconda3\\envs\\koopman\\lib\\site-packages\\keras\\engine\\training.py:1409\u001b[0m, in \u001b[0;36mModel.fit\u001b[1;34m(self, x, y, batch_size, epochs, verbose, callbacks, validation_split, validation_data, shuffle, class_weight, sample_weight, initial_epoch, steps_per_epoch, validation_steps, validation_batch_size, validation_freq, max_queue_size, workers, use_multiprocessing)\u001b[0m\n\u001b[0;32m   1402\u001b[0m \u001b[39mwith\u001b[39;00m tf\u001b[39m.\u001b[39mprofiler\u001b[39m.\u001b[39mexperimental\u001b[39m.\u001b[39mTrace(\n\u001b[0;32m   1403\u001b[0m     \u001b[39m'\u001b[39m\u001b[39mtrain\u001b[39m\u001b[39m'\u001b[39m,\n\u001b[0;32m   1404\u001b[0m     epoch_num\u001b[39m=\u001b[39mepoch,\n\u001b[0;32m   1405\u001b[0m     step_num\u001b[39m=\u001b[39mstep,\n\u001b[0;32m   1406\u001b[0m     batch_size\u001b[39m=\u001b[39mbatch_size,\n\u001b[0;32m   1407\u001b[0m     _r\u001b[39m=\u001b[39m\u001b[39m1\u001b[39m):\n\u001b[0;32m   1408\u001b[0m   callbacks\u001b[39m.\u001b[39mon_train_batch_begin(step)\n\u001b[1;32m-> 1409\u001b[0m   tmp_logs \u001b[39m=\u001b[39m \u001b[39mself\u001b[39;49m\u001b[39m.\u001b[39;49mtrain_function(iterator)\n\u001b[0;32m   1410\u001b[0m   \u001b[39mif\u001b[39;00m data_handler\u001b[39m.\u001b[39mshould_sync:\n\u001b[0;32m   1411\u001b[0m     context\u001b[39m.\u001b[39masync_wait()\n",
      "File \u001b[1;32mc:\\Users\\Jason\\miniconda3\\envs\\koopman\\lib\\site-packages\\tensorflow\\python\\util\\traceback_utils.py:150\u001b[0m, in \u001b[0;36mfilter_traceback.<locals>.error_handler\u001b[1;34m(*args, **kwargs)\u001b[0m\n\u001b[0;32m    148\u001b[0m filtered_tb \u001b[39m=\u001b[39m \u001b[39mNone\u001b[39;00m\n\u001b[0;32m    149\u001b[0m \u001b[39mtry\u001b[39;00m:\n\u001b[1;32m--> 150\u001b[0m   \u001b[39mreturn\u001b[39;00m fn(\u001b[39m*\u001b[39;49margs, \u001b[39m*\u001b[39;49m\u001b[39m*\u001b[39;49mkwargs)\n\u001b[0;32m    151\u001b[0m \u001b[39mexcept\u001b[39;00m \u001b[39mException\u001b[39;00m \u001b[39mas\u001b[39;00m e:\n\u001b[0;32m    152\u001b[0m   filtered_tb \u001b[39m=\u001b[39m _process_traceback_frames(e\u001b[39m.\u001b[39m__traceback__)\n",
      "File \u001b[1;32mc:\\Users\\Jason\\miniconda3\\envs\\koopman\\lib\\site-packages\\tensorflow\\python\\eager\\def_function.py:915\u001b[0m, in \u001b[0;36mFunction.__call__\u001b[1;34m(self, *args, **kwds)\u001b[0m\n\u001b[0;32m    912\u001b[0m compiler \u001b[39m=\u001b[39m \u001b[39m\"\u001b[39m\u001b[39mxla\u001b[39m\u001b[39m\"\u001b[39m \u001b[39mif\u001b[39;00m \u001b[39mself\u001b[39m\u001b[39m.\u001b[39m_jit_compile \u001b[39melse\u001b[39;00m \u001b[39m\"\u001b[39m\u001b[39mnonXla\u001b[39m\u001b[39m\"\u001b[39m\n\u001b[0;32m    914\u001b[0m \u001b[39mwith\u001b[39;00m OptionalXlaContext(\u001b[39mself\u001b[39m\u001b[39m.\u001b[39m_jit_compile):\n\u001b[1;32m--> 915\u001b[0m   result \u001b[39m=\u001b[39m \u001b[39mself\u001b[39;49m\u001b[39m.\u001b[39;49m_call(\u001b[39m*\u001b[39;49margs, \u001b[39m*\u001b[39;49m\u001b[39m*\u001b[39;49mkwds)\n\u001b[0;32m    917\u001b[0m new_tracing_count \u001b[39m=\u001b[39m \u001b[39mself\u001b[39m\u001b[39m.\u001b[39mexperimental_get_tracing_count()\n\u001b[0;32m    918\u001b[0m without_tracing \u001b[39m=\u001b[39m (tracing_count \u001b[39m==\u001b[39m new_tracing_count)\n",
      "File \u001b[1;32mc:\\Users\\Jason\\miniconda3\\envs\\koopman\\lib\\site-packages\\tensorflow\\python\\eager\\def_function.py:947\u001b[0m, in \u001b[0;36mFunction._call\u001b[1;34m(self, *args, **kwds)\u001b[0m\n\u001b[0;32m    944\u001b[0m   \u001b[39mself\u001b[39m\u001b[39m.\u001b[39m_lock\u001b[39m.\u001b[39mrelease()\n\u001b[0;32m    945\u001b[0m   \u001b[39m# In this case we have created variables on the first call, so we run the\u001b[39;00m\n\u001b[0;32m    946\u001b[0m   \u001b[39m# defunned version which is guaranteed to never create variables.\u001b[39;00m\n\u001b[1;32m--> 947\u001b[0m   \u001b[39mreturn\u001b[39;00m \u001b[39mself\u001b[39;49m\u001b[39m.\u001b[39;49m_stateless_fn(\u001b[39m*\u001b[39;49margs, \u001b[39m*\u001b[39;49m\u001b[39m*\u001b[39;49mkwds)  \u001b[39m# pylint: disable=not-callable\u001b[39;00m\n\u001b[0;32m    948\u001b[0m \u001b[39melif\u001b[39;00m \u001b[39mself\u001b[39m\u001b[39m.\u001b[39m_stateful_fn \u001b[39mis\u001b[39;00m \u001b[39mnot\u001b[39;00m \u001b[39mNone\u001b[39;00m:\n\u001b[0;32m    949\u001b[0m   \u001b[39m# Release the lock early so that multiple threads can perform the call\u001b[39;00m\n\u001b[0;32m    950\u001b[0m   \u001b[39m# in parallel.\u001b[39;00m\n\u001b[0;32m    951\u001b[0m   \u001b[39mself\u001b[39m\u001b[39m.\u001b[39m_lock\u001b[39m.\u001b[39mrelease()\n",
      "File \u001b[1;32mc:\\Users\\Jason\\miniconda3\\envs\\koopman\\lib\\site-packages\\tensorflow\\python\\eager\\function.py:2453\u001b[0m, in \u001b[0;36mFunction.__call__\u001b[1;34m(self, *args, **kwargs)\u001b[0m\n\u001b[0;32m   2450\u001b[0m \u001b[39mwith\u001b[39;00m \u001b[39mself\u001b[39m\u001b[39m.\u001b[39m_lock:\n\u001b[0;32m   2451\u001b[0m   (graph_function,\n\u001b[0;32m   2452\u001b[0m    filtered_flat_args) \u001b[39m=\u001b[39m \u001b[39mself\u001b[39m\u001b[39m.\u001b[39m_maybe_define_function(args, kwargs)\n\u001b[1;32m-> 2453\u001b[0m \u001b[39mreturn\u001b[39;00m graph_function\u001b[39m.\u001b[39;49m_call_flat(\n\u001b[0;32m   2454\u001b[0m     filtered_flat_args, captured_inputs\u001b[39m=\u001b[39;49mgraph_function\u001b[39m.\u001b[39;49mcaptured_inputs)\n",
      "File \u001b[1;32mc:\\Users\\Jason\\miniconda3\\envs\\koopman\\lib\\site-packages\\tensorflow\\python\\eager\\function.py:1860\u001b[0m, in \u001b[0;36mConcreteFunction._call_flat\u001b[1;34m(self, args, captured_inputs, cancellation_manager)\u001b[0m\n\u001b[0;32m   1856\u001b[0m possible_gradient_type \u001b[39m=\u001b[39m gradients_util\u001b[39m.\u001b[39mPossibleTapeGradientTypes(args)\n\u001b[0;32m   1857\u001b[0m \u001b[39mif\u001b[39;00m (possible_gradient_type \u001b[39m==\u001b[39m gradients_util\u001b[39m.\u001b[39mPOSSIBLE_GRADIENT_TYPES_NONE\n\u001b[0;32m   1858\u001b[0m     \u001b[39mand\u001b[39;00m executing_eagerly):\n\u001b[0;32m   1859\u001b[0m   \u001b[39m# No tape is watching; skip to running the function.\u001b[39;00m\n\u001b[1;32m-> 1860\u001b[0m   \u001b[39mreturn\u001b[39;00m \u001b[39mself\u001b[39m\u001b[39m.\u001b[39m_build_call_outputs(\u001b[39mself\u001b[39;49m\u001b[39m.\u001b[39;49m_inference_function\u001b[39m.\u001b[39;49mcall(\n\u001b[0;32m   1861\u001b[0m       ctx, args, cancellation_manager\u001b[39m=\u001b[39;49mcancellation_manager))\n\u001b[0;32m   1862\u001b[0m forward_backward \u001b[39m=\u001b[39m \u001b[39mself\u001b[39m\u001b[39m.\u001b[39m_select_forward_and_backward_functions(\n\u001b[0;32m   1863\u001b[0m     args,\n\u001b[0;32m   1864\u001b[0m     possible_gradient_type,\n\u001b[0;32m   1865\u001b[0m     executing_eagerly)\n\u001b[0;32m   1866\u001b[0m forward_function, args_with_tangents \u001b[39m=\u001b[39m forward_backward\u001b[39m.\u001b[39mforward()\n",
      "File \u001b[1;32mc:\\Users\\Jason\\miniconda3\\envs\\koopman\\lib\\site-packages\\tensorflow\\python\\eager\\function.py:497\u001b[0m, in \u001b[0;36m_EagerDefinedFunction.call\u001b[1;34m(self, ctx, args, cancellation_manager)\u001b[0m\n\u001b[0;32m    495\u001b[0m \u001b[39mwith\u001b[39;00m _InterpolateFunctionError(\u001b[39mself\u001b[39m):\n\u001b[0;32m    496\u001b[0m   \u001b[39mif\u001b[39;00m cancellation_manager \u001b[39mis\u001b[39;00m \u001b[39mNone\u001b[39;00m:\n\u001b[1;32m--> 497\u001b[0m     outputs \u001b[39m=\u001b[39m execute\u001b[39m.\u001b[39;49mexecute(\n\u001b[0;32m    498\u001b[0m         \u001b[39mstr\u001b[39;49m(\u001b[39mself\u001b[39;49m\u001b[39m.\u001b[39;49msignature\u001b[39m.\u001b[39;49mname),\n\u001b[0;32m    499\u001b[0m         num_outputs\u001b[39m=\u001b[39;49m\u001b[39mself\u001b[39;49m\u001b[39m.\u001b[39;49m_num_outputs,\n\u001b[0;32m    500\u001b[0m         inputs\u001b[39m=\u001b[39;49margs,\n\u001b[0;32m    501\u001b[0m         attrs\u001b[39m=\u001b[39;49mattrs,\n\u001b[0;32m    502\u001b[0m         ctx\u001b[39m=\u001b[39;49mctx)\n\u001b[0;32m    503\u001b[0m   \u001b[39melse\u001b[39;00m:\n\u001b[0;32m    504\u001b[0m     outputs \u001b[39m=\u001b[39m execute\u001b[39m.\u001b[39mexecute_with_cancellation(\n\u001b[0;32m    505\u001b[0m         \u001b[39mstr\u001b[39m(\u001b[39mself\u001b[39m\u001b[39m.\u001b[39msignature\u001b[39m.\u001b[39mname),\n\u001b[0;32m    506\u001b[0m         num_outputs\u001b[39m=\u001b[39m\u001b[39mself\u001b[39m\u001b[39m.\u001b[39m_num_outputs,\n\u001b[1;32m   (...)\u001b[0m\n\u001b[0;32m    509\u001b[0m         ctx\u001b[39m=\u001b[39mctx,\n\u001b[0;32m    510\u001b[0m         cancellation_manager\u001b[39m=\u001b[39mcancellation_manager)\n",
      "File \u001b[1;32mc:\\Users\\Jason\\miniconda3\\envs\\koopman\\lib\\site-packages\\tensorflow\\python\\eager\\execute.py:54\u001b[0m, in \u001b[0;36mquick_execute\u001b[1;34m(op_name, num_outputs, inputs, attrs, ctx, name)\u001b[0m\n\u001b[0;32m     52\u001b[0m \u001b[39mtry\u001b[39;00m:\n\u001b[0;32m     53\u001b[0m   ctx\u001b[39m.\u001b[39mensure_initialized()\n\u001b[1;32m---> 54\u001b[0m   tensors \u001b[39m=\u001b[39m pywrap_tfe\u001b[39m.\u001b[39;49mTFE_Py_Execute(ctx\u001b[39m.\u001b[39;49m_handle, device_name, op_name,\n\u001b[0;32m     55\u001b[0m                                       inputs, attrs, num_outputs)\n\u001b[0;32m     56\u001b[0m \u001b[39mexcept\u001b[39;00m core\u001b[39m.\u001b[39m_NotOkStatusException \u001b[39mas\u001b[39;00m e:\n\u001b[0;32m     57\u001b[0m   \u001b[39mif\u001b[39;00m name \u001b[39mis\u001b[39;00m \u001b[39mnot\u001b[39;00m \u001b[39mNone\u001b[39;00m:\n",
      "\u001b[1;31mKeyboardInterrupt\u001b[0m: "
     ]
    }
   ],
   "source": [
    "from connector_pendulum import connector_pendulum\n",
    "\n",
    "solver_indices = [5]\n",
    "n_psi_trains = [22, 47]\n",
    "\n",
    "for index in solver_indices:\n",
    "    for psi_train in n_psi_trains:\n",
    "        connector_pendulum(psi_train, index)"
   ]
  },
  {
   "cell_type": "code",
   "execution_count": null,
   "metadata": {},
   "outputs": [],
   "source": []
  }
 ],
 "metadata": {
  "kernelspec": {
   "display_name": "Python 3",
   "language": "python",
   "name": "python3"
  },
  "language_info": {
   "codemirror_mode": {
    "name": "ipython",
    "version": 3
   },
   "file_extension": ".py",
   "mimetype": "text/x-python",
   "name": "python",
   "nbconvert_exporter": "python",
   "pygments_lexer": "ipython3",
   "version": "3.8.18"
  }
 },
 "nbformat": 4,
 "nbformat_minor": 2
}
