{
 "cells": [
  {
   "cell_type": "code",
   "execution_count": null,
   "metadata": {},
   "outputs": [],
   "source": [
    "import numpy as np\n",
    "import sys\n",
    "sys.path.append(\"../\")\n",
    "from algorithm.koopmanlib.dictionary import PsiNN"
   ]
  },
  {
   "cell_type": "code",
   "execution_count": null,
   "metadata": {},
   "outputs": [],
   "source": [
    "basis_function = PsiNN(layer_sizes=[100,100,100], n_psi_train=22)"
   ]
  },
  {
   "cell_type": "code",
   "execution_count": null,
   "metadata": {},
   "outputs": [],
   "source": [
    "from duffing_oscillator import duffing_oscillator\n",
    "from scipy.integrate import solve_ivp\n",
    "\n",
    "# Parameters\n",
    "delta = 0.5\n",
    "alpha = -1\n",
    "beta = 1\n",
    "\n",
    "# Sample N=1000 initial points, with uniform distribution [-2, 2].\n",
    "N = 1000\n",
    "np.random.seed(39)\n",
    "sample_data_x0 = (np.random.rand(N, 2) * 4) - 2\n",
    "\n",
    "tspan = [0, 2.5]\n",
    "nstep = 11\n",
    "data = np.zeros((N, 2, nstep))\n",
    "\n",
    "t_eval = np.linspace(tspan[0], tspan[1], nstep)\n",
    "\n",
    "for idx, x0 in enumerate(sample_data_x0):\n",
    "    sol = solve_ivp(duffing_oscillator, tspan, x0, t_eval=t_eval, args=(delta, alpha, beta))\n",
    "    data[idx, 0, :] = sol.y[0]\n",
    "    data[idx, 1, :] = sol.y[1]\n",
    "\n",
    "# Pairwise shifted data X and Y\n",
    "X = data[:, :, :-1] # shape: (1000, 2, 10)\n",
    "Y = data[:, :, 1:]\n",
    "\n",
    "# Transpose and reshape the data.\n",
    "X = np.transpose(X, (0, 2, 1)).reshape(N * (nstep-1), 2) # shape: (10000, 2)\n",
    "Y = np.transpose(Y, (0, 2, 1)).reshape(N * (nstep-1), 2)"
   ]
  },
  {
   "cell_type": "code",
   "execution_count": null,
   "metadata": {},
   "outputs": [],
   "source": [
    "len_all = X.shape[0]\n",
    "data_x_train = X[:int(0.7*len_all),:]\n",
    "data_x_valid = X[int(0.7*len_all)+1:,:]\n",
    "\n",
    "data_y_train = Y[:int(0.7*len_all),:]\n",
    "data_y_valid = Y[int(0.7*len_all)+1:,:]"
   ]
  },
  {
   "cell_type": "code",
   "execution_count": null,
   "metadata": {},
   "outputs": [],
   "source": [
    "data_train = [data_x_train, data_y_train]\n",
    "data_valid = [data_x_valid, data_y_valid]"
   ]
  },
  {
   "cell_type": "code",
   "execution_count": null,
   "metadata": {},
   "outputs": [],
   "source": [
    "# Using solver0\n",
    "from algorithm.koopmanlib.solver_0 import KoopmanDLSolver # resDMD solver using regression\n",
    "solver = KoopmanDLSolver(dic=basis_function,\n",
    "                         target_dim=np.shape(data_train)[-1],\n",
    "                         reg=0.1)\n",
    "\n",
    "solver.build(data_train=data_train,\n",
    "             data_valid=data_valid,\n",
    "             epochs=3000,\n",
    "             batch_size=5000,\n",
    "             lr=1e-4,\n",
    "             log_interval=10,\n",
    "             lr_decay_factor=.8)"
   ]
  },
  {
   "cell_type": "code",
   "execution_count": null,
   "metadata": {},
   "outputs": [],
   "source": [
    "# Results from solver0\n",
    "evalues = solver.eigenvalues.T\n",
    "efuns = solver.eigenfunctions(X)\n",
    "kpm_modes = solver.compute_mode().T\n",
    "N_dict = np.shape(evalues)[0]\n",
    "\n",
    "resDMD_DL_outputs0 = {\n",
    "    'resDMD_DL_outputs':{\n",
    "    'efuns': efuns,\n",
    "    'evalues': evalues,\n",
    "    'kpm_modes': kpm_modes,\n",
    "    'N_dict':N_dict\n",
    "    }\n",
    "}\n",
    "\n",
    "print(resDMD_DL_outputs0['resDMD_DL_outputs']['evalues'])\n",
    "print(resDMD_DL_outputs0['resDMD_DL_outputs']['efuns'].shape)"
   ]
  },
  {
   "cell_type": "code",
   "execution_count": null,
   "metadata": {},
   "outputs": [],
   "source": [
    "# Using solver1\n",
    "from algorithm.koopmanlib.solver_1 import KoopmanDLSolver # resDMD solver using regression\n",
    "solver = KoopmanDLSolver(dic=basis_function,\n",
    "                         target_dim=np.shape(data_train)[-1],\n",
    "                         reg=0.1)\n",
    "\n",
    "solver.build(data_train=data_train,\n",
    "             data_valid=data_valid,\n",
    "             epochs=3000,\n",
    "             batch_size=5000,\n",
    "             lr=1e-4,\n",
    "             log_interval=10,\n",
    "             lr_decay_factor=.8)"
   ]
  },
  {
   "cell_type": "code",
   "execution_count": null,
   "metadata": {},
   "outputs": [],
   "source": [
    "# Results from solver1\n",
    "evalues = solver.eigenvalues.T\n",
    "efuns = solver.eigenfunctions(X)\n",
    "kpm_modes = solver.compute_mode().T\n",
    "N_dict = np.shape(evalues)[0]\n",
    "\n",
    "resDMD_DL_outputs1 = {\n",
    "    'resDMD_DL_outputs':{\n",
    "    'efuns': efuns,\n",
    "    'evalues': evalues,\n",
    "    'kpm_modes': kpm_modes,\n",
    "    'N_dict':N_dict\n",
    "    }\n",
    "}\n",
    "\n",
    "print(resDMD_DL_outputs1['resDMD_DL_outputs']['evalues'])\n",
    "print(resDMD_DL_outputs1['resDMD_DL_outputs']['efuns'].shape)"
   ]
  },
  {
   "cell_type": "code",
   "execution_count": null,
   "metadata": {},
   "outputs": [],
   "source": [
    "# Using solver2\n",
    "from algorithm.koopmanlib.solver_2 import KoopmanDLSolver # resDMD solver using regression\n",
    "solver = KoopmanDLSolver(dic=basis_function,\n",
    "                         target_dim=np.shape(data_train)[-1],\n",
    "                         reg=0.1)\n",
    "\n",
    "solver.build(data_train=data_train,\n",
    "             data_valid=data_valid,\n",
    "             epochs=3000,\n",
    "             batch_size=5000,\n",
    "             lr=1e-4,\n",
    "             log_interval=10,\n",
    "             lr_decay_factor=.8)"
   ]
  },
  {
   "cell_type": "code",
   "execution_count": null,
   "metadata": {},
   "outputs": [],
   "source": [
    "# Results from solver2\n",
    "evalues = solver.eigenvalues.T\n",
    "efuns = solver.eigenfunctions(X)\n",
    "kpm_modes = solver.compute_mode().T\n",
    "N_dict = np.shape(evalues)[0]\n",
    "\n",
    "resDMD_DL_outputs2 = {\n",
    "    'resDMD_DL_outputs':{\n",
    "    'efuns': efuns,\n",
    "    'evalues': evalues,\n",
    "    'kpm_modes': kpm_modes,\n",
    "    'N_dict':N_dict\n",
    "    }\n",
    "}\n",
    "\n",
    "print(resDMD_DL_outputs2['resDMD_DL_outputs']['evalues'])\n",
    "print(resDMD_DL_outputs2['resDMD_DL_outputs']['efuns'].shape)"
   ]
  },
  {
   "cell_type": "code",
   "execution_count": null,
   "metadata": {},
   "outputs": [],
   "source": [
    "# Using solver3\n",
    "from algorithm.koopmanlib.solver_3 import KoopmanDLSolver # resDMD solver using regression\n",
    "solver = KoopmanDLSolver(dic=basis_function,\n",
    "                         target_dim=np.shape(data_train)[-1],\n",
    "                         reg=0.1)\n",
    "\n",
    "solver.build(data_train=data_train,\n",
    "             data_valid=data_valid,\n",
    "             epochs=100,\n",
    "             batch_size=5000,\n",
    "             lr=1e-4,\n",
    "             log_interval=10,\n",
    "             lr_decay_factor=.8)"
   ]
  },
  {
   "cell_type": "code",
   "execution_count": null,
   "metadata": {},
   "outputs": [],
   "source": [
    "# Results from solver3\n",
    "evalues = solver.eigenvalues.T\n",
    "efuns = solver.eigenfunctions(X)\n",
    "kpm_modes = solver.compute_mode().T\n",
    "N_dict = np.shape(evalues)[0]\n",
    "\n",
    "resDMD_DL_outputs3 = {\n",
    "    'resDMD_DL_outputs':{\n",
    "    'efuns': efuns,\n",
    "    'evalues': evalues,\n",
    "    'kpm_modes': kpm_modes,\n",
    "    'N_dict':N_dict\n",
    "    }\n",
    "}\n",
    "\n",
    "print(resDMD_DL_outputs3['resDMD_DL_outputs']['evalues'])\n",
    "print(resDMD_DL_outputs3['resDMD_DL_outputs']['efuns'].shape)"
   ]
  },
  {
   "cell_type": "code",
   "execution_count": null,
   "metadata": {},
   "outputs": [],
   "source": [
    "# Using solver4\n",
    "from algorithm.koopmanlib.solver_4_updated import KoopmanDLSolver # resDMD solver using regression\n",
    "solver = KoopmanDLSolver(dic=basis_function,\n",
    "                         target_dim=np.shape(data_train)[-1],\n",
    "                         reg=0.1)\n",
    "\n",
    "solver.build(data_train=data_train,\n",
    "             data_valid=data_valid,\n",
    "             epochs=3000,\n",
    "             batch_size=5000,\n",
    "             lr=1e-4,\n",
    "             log_interval=10,\n",
    "             lr_decay_factor=.8)"
   ]
  },
  {
   "cell_type": "code",
   "execution_count": null,
   "metadata": {},
   "outputs": [],
   "source": [
    "# Results from solver4\n",
    "evalues = solver.eigenvalues.T\n",
    "efuns = solver.eigenfunctions(X)\n",
    "kpm_modes = solver.compute_mode().T\n",
    "N_dict = np.shape(evalues)[0]\n",
    "Psi_X, Psi_Y = solver.get_basis()\n",
    "\n",
    "resDMD_DL_outputs4 = {\n",
    "    'resDMD_DL_outputs':{\n",
    "    'efuns': efuns,\n",
    "    'evalues': evalues,\n",
    "    'kpm_modes': kpm_modes,\n",
    "    'N_dict':N_dict\n",
    "    }\n",
    "}\n",
    "\n",
    "print(resDMD_DL_outputs4['resDMD_DL_outputs']['evalues'].shape)\n",
    "print(resDMD_DL_outputs4['resDMD_DL_outputs']['efuns'].shape)\n",
    "print(Psi_X.shape)\n",
    "print(Psi_Y.shape)\n",
    "print(Psi_X)\n",
    "print(Psi_Y)"
   ]
  }
 ],
 "metadata": {
  "kernelspec": {
   "display_name": "Python 3",
   "language": "python",
   "name": "python3"
  },
  "language_info": {
   "codemirror_mode": {
    "name": "ipython",
    "version": 3
   },
   "file_extension": ".py",
   "mimetype": "text/x-python",
   "name": "python",
   "nbconvert_exporter": "python",
   "pygments_lexer": "ipython3",
   "version": "3.8.18"
  }
 },
 "nbformat": 4,
 "nbformat_minor": 2
}
